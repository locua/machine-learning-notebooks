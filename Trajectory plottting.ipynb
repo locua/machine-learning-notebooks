{
 "cells": [
  {
   "cell_type": "code",
   "execution_count": 3,
   "id": "a27bff6d",
   "metadata": {},
   "outputs": [],
   "source": [
    "import matplotlib.pyplot as plt\n",
    "import math"
   ]
  },
  {
   "cell_type": "markdown",
   "id": "f3326da8",
   "metadata": {},
   "source": [
    "\n",
    "$\\theta=30, u=1, uy=u\\times\\sin{\\theta}, s=0, $\n"
   ]
  },
  {
   "cell_type": "code",
   "execution_count": 6,
   "id": "0f7b73e5",
   "metadata": {},
   "outputs": [
    {
     "data": {
      "image/png": "[encoded data removed]",
      "text/plain": [
       "<Figure size 288x288 with 1 Axes>"
      ]
     },
     "metadata": {
      "needs_background": "light"
     },
     "output_type": "display_data"
    }
   ],
   "source": [
    "theta=85 # angle of initial movement\n",
    "u=120 # initial velocity\n",
    "sX=[];sY=[] # x and y displacement values\n",
    "syi=1 # positive initial value to enter while loop\n",
    "t=0 # time starts at 0\n",
    "a_y=-9.8 # acceleration in y is gravity\n",
    "a_x=0 # acceleration in x\n",
    "\n",
    "while(syi>=0):\n",
    "    sxi=u*math.cos(math.radians(theta))*t + (0.5*a_x*(t**2))\n",
    "    syi=u*math.sin(math.radians(theta))*t + (0.5*a_y*(t**2))\n",
    "    sX.append(sxi)\n",
    "    sY.append(syi)\n",
    "    t+=1\n",
    "\n",
    "# Plot stuff\n",
    "f = plt.figure()\n",
    "f.set_figwidth(4)\n",
    "f.set_figheight(4)\n",
    "plt.plot(sX,sY,'b-')\n",
    "plt.xlim(0,max(sX))\n",
    "plt.ylim(0,max(sX))\n",
    "plt.xlabel(\"$x$ position in m\")\n",
    "plt.ylabel(\"$y$ position in m\")\n",
    "plt.title(\"Trajectory plot where initial angle is \"+str(theta)+\"$^\\circ$\\n and initial velocity is \"+str(u)+\" $m\\; s^{-1}$.\\n\")\n",
    "plt.grid()\n",
    "plt.show()"
   ]
  },
  {
   "cell_type": "code",
   "execution_count": 1,
   "id": "64a56ece",
   "metadata": {},
   "outputs": [
    {
     "name": "stdout",
     "output_type": "stream",
     "text": [
      "Object `plt.axis` not found.\n"
     ]
    }
   ],
   "source": [
    "?plt.axis"
   ]
  },
  {
   "cell_type": "code",
   "execution_count": 1,
   "id": "4ebca2aa",
   "metadata": {},
   "outputs": [],
   "source": [
    "# import math as m\n",
    "\n",
    "# timedict = {}\n",
    "# distancedict = {}\n",
    "# y_veldict = {}\n",
    "\n",
    "# # speed = input(\"speed: \\n\")\n",
    "# speed = int(65)\n",
    "# speed_set = []\n",
    "# speed -= 5\n",
    "# # theta = input(\"theta: \\n\")\n",
    "# theta = int(30)\n",
    "# theta_set = []\n",
    "# theta -= 5\n",
    "# if theta < 0:\n",
    "#     theta = 0 \n",
    "    \n",
    "# print(theta)\n",
    "# print(speed)\n",
    "\n",
    "\n",
    "# for i in range(10):\n",
    "#     theta_set.append(m.radians(theta + i))\n",
    "# for i in range(10):\n",
    "#     speed_set.append((speed + i) * 0.44704 )\n",
    "    \n",
    "# print(speed_set)\n",
    "# print(theta_set)\n",
    "\n",
    "# for a in range(10):\n",
    "#     temporary = []\n",
    "#     for b in range(10): \n",
    "#         temporary.append(m.sin(theta_set[b]) * speed_set[a])\n",
    "#         # print(m.sin(theta_set[b]) ,\"*\", speed_set[a], \"=\", m.sin(theta_set[b]) * speed_set[a], \"\\n\\n\")#\n",
    "#     y_veldict['speedval',round(speed_set[a] * 2.23694)] = temporary\n",
    "\n",
    "# print(\"\\n\",y_veldict)\n",
    "    \n",
    "# #time calculation\n",
    "# a = -4.9\n",
    "# c = 0.53\n",
    "# for q in range(10):\n",
    "    \n",
    "#     temporary = []\n",
    "    \n",
    "#     for w in range(10):\n",
    "        \n",
    "#         b = y_veldict[\"speedval\", q + speed][w]\n",
    "#         sol1 = (-b-m.sqrt((b**2) - (4*a*c)))/(2*a)  \n",
    "#         sol2 = (-b+m.sqrt((b**2) - (4*a*c)))/(2*a)  \n",
    "#         if sol1 > 0:\n",
    "#             temporary.append(sol1)\n",
    "#         elif sol2 > 0:\n",
    "#             temporary.append(sol2)\n",
    "            \n",
    "#     timedict['timeval',round(speed_set[q] * 2.23694)] = temporary"
   ]
  }
 ],
 "metadata": {
  "kernelspec": {
   "display_name": "Python 3 (ipykernel)",
   "language": "python",
   "name": "python3"
  },
  "language_info": {
   "codemirror_mode": {
    "name": "ipython",
    "version": 3
   },
   "file_extension": ".py",
   "mimetype": "text/x-python",
   "name": "python",
   "nbconvert_exporter": "python",
   "pygments_lexer": "ipython3",
   "version": "3.9.7"
  }
 },
 "nbformat": 4,
 "nbformat_minor": 5
}
