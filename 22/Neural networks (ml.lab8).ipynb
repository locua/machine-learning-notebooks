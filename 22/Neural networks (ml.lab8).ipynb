{
 "cells": [
  {
   "cell_type": "markdown",
   "metadata": {},
   "source": [
    "# LAB 8: Neural networks\n",
    "\n",
    "The purpose of this lab work is to study the training and optimisaton of feed-forward neural networks in Keras. Overfitting is prevented with early stopping regularisation (as seen for linear models), but other regularisation methods inspired from Lasso, Ridge, Elastic net linear algos that we studied so far, will be introduced in the next sessions.  "
   ]
  },
  {
   "cell_type": "markdown",
   "metadata": {},
   "source": [
    "## Tasks \n",
    "1. Study and run (cell by cell) the code below which illustrates the training and evaluation, and also optimisation of neural networks.  \n",
    "\n",
    "2. Select the X1, X2, X3, and Y variables from the dataset provided for the coursework, and predict the outocme Y with neural networks as inspired by some of the simpler examples provided in this lab.  "
   ]
  },
  {
   "cell_type": "markdown",
   "metadata": {},
   "source": [
    "# Setup"
   ]
  },
  {
   "cell_type": "markdown",
   "metadata": {},
   "source": [
    "First, let's import a few common modules, ensure MatplotLib plots figures inline and prepare a function to save the figures. We also check that Python 3.5 or later is installed (although Python 2.x may work, it is deprecated so we strongly recommend you use Python 3 instead), as well as Scikit-Learn ≥0.20 and TensorFlow ≥2.0."
   ]
  },
  {
   "cell_type": "code",
   "execution_count": 1,
   "metadata": {},
   "outputs": [
    {
     "name": "stderr",
     "output_type": "stream",
     "text": [
      "2022-03-17 14:07:34.162177: W tensorflow/stream_executor/platform/default/dso_loader.cc:64] Could not load dynamic library 'libcudart.so.11.0'; dlerror: libcudart.so.11.0: cannot open shared object file: No such file or directory\n",
      "2022-03-17 14:07:34.162210: I tensorflow/stream_executor/cuda/cudart_stub.cc:29] Ignore above cudart dlerror if you do not have a GPU set up on your machine.\n"
     ]
    }
   ],
   "source": [
    "# Python ≥3.5 is required\n",
    "import sys\n",
    "assert sys.version_info >= (3, 5)\n",
    "\n",
    "# Scikit-Learn ≥0.20 is required\n",
    "import sklearn\n",
    "assert sklearn.__version__ >= \"0.20\"\n",
    "\n",
    "try:\n",
    "    # %tensorflow_version only exists in Colab.\n",
    "    %tensorflow_version 2.x\n",
    "except Exception:\n",
    "    pass\n",
    "\n",
    "# TensorFlow ≥2.0 is required\n",
    "import tensorflow as tf\n",
    "assert tf.__version__ >= \"2.0\"\n",
    "\n",
    "# Common imports\n",
    "import numpy as np\n",
    "import os\n",
    "\n",
    "# to make this notebook's output stable across runs\n",
    "np.random.seed(42)\n",
    "\n",
    "# To plot pretty figures\n",
    "%matplotlib inline\n",
    "import matplotlib as mpl\n",
    "import matplotlib.pyplot as plt\n",
    "mpl.rc('axes', labelsize=14)\n",
    "mpl.rc('xtick', labelsize=12)\n",
    "mpl.rc('ytick', labelsize=12)\n",
    "\n",
    "# Where to save the figures\n",
    "PROJECT_ROOT_DIR = \".\"\n",
    "CHAPTER_ID = \"ann\"\n",
    "IMAGES_PATH = os.path.join(PROJECT_ROOT_DIR, \"images\", CHAPTER_ID)\n",
    "os.makedirs(IMAGES_PATH, exist_ok=True)\n",
    "\n",
    "def save_fig(fig_id, tight_layout=True, fig_extension=\"png\", resolution=300):\n",
    "    path = os.path.join(IMAGES_PATH, fig_id + \".\" + fig_extension)\n",
    "    print(\"Saving figure\", fig_id)\n",
    "    if tight_layout:\n",
    "        plt.tight_layout()\n",
    "    plt.savefig(path, format=fig_extension, dpi=resolution)\n"
   ]
  },
  {
   "cell_type": "markdown",
   "metadata": {},
   "source": [
    "# Perceptrons"
   ]
  },
  {
   "cell_type": "code",
   "execution_count": 3,
   "metadata": {},
   "outputs": [
    {
     "name": "stderr",
     "output_type": "stream",
     "text": [
      "/tmp/ipykernel_732109/706410525.py:10: DeprecationWarning: `np.int` is a deprecated alias for the builtin `int`. To silence this warning, use `int` by itself. Doing this will not modify any behavior and is safe. When replacing `np.int`, you may wish to use e.g. `np.int64` or `np.int32` to specify the precision. If you wish to review your current use, check the release note link for additional information.\n",
      "Deprecated in NumPy 1.20; for more details and guidance: https://numpy.org/devdocs/release/1.20.0-notes.html#deprecations\n",
      "  y = (iris.target == 0).astype(np.int)\n"
     ]
    }
   ],
   "source": [
    "# Fitting a perceptron on Iris dataset, as done for logistic regression.\n",
    "# We have 2 classes: 0 (Iris Setosa) and 1 (Not-Iris Setosa).\n",
    "\n",
    "import numpy as np\n",
    "from sklearn.datasets import load_iris\n",
    "from sklearn.linear_model import Perceptron\n",
    "\n",
    "iris = load_iris()\n",
    "X = iris.data[:, (2, 3)]  # \n",
    "y = (iris.target == 0).astype(np.int)\n",
    "\n",
    "per_clf = Perceptron(max_iter=1000, tol=1e-3, random_state=42)\n",
    "per_clf.fit(X, y)\n",
    "\n",
    "# make a prediction for the plant having these sizes: petal length, petal width\n",
    "y_pred = per_clf.predict([[2, 0.5]])"
   ]
  },
  {
   "cell_type": "code",
   "execution_count": 7,
   "metadata": {},
   "outputs": [
    {
     "data": {
      "text/plain": [
       "array([1])"
      ]
     },
     "execution_count": 7,
     "metadata": {},
     "output_type": "execute_result"
    }
   ],
   "source": [
    "# We can see it's Setosa (class 1)\n",
    "y_pred"
   ]
  },
  {
   "cell_type": "code",
   "execution_count": 8,
   "metadata": {},
   "outputs": [
    {
     "name": "stdout",
     "output_type": "stream",
     "text": [
      "Saving figure perceptron_iris_plot\n"
     ]
    },
    {
     "data": {
      "image/png": "[encoded data removed]",
      "text/plain": [
       "<Figure size 720x288 with 1 Axes>"
      ]
     },
     "metadata": {
      "needs_background": "light"
     },
     "output_type": "display_data"
    }
   ],
   "source": [
    "\n",
    "# This is just o represent the predictions with this model and the separation line\n",
    "\n",
    "a = -per_clf.coef_[0][0] / per_clf.coef_[0][1]\n",
    "b = -per_clf.intercept_ / per_clf.coef_[0][1]\n",
    "\n",
    "axes = [0, 5, 0, 2]\n",
    "\n",
    "x0, x1 = np.meshgrid(\n",
    "        np.linspace(axes[0], axes[1], 500).reshape(-1, 1),\n",
    "        np.linspace(axes[2], axes[3], 200).reshape(-1, 1),\n",
    "    )\n",
    "\n",
    "X_new = np.c_[x0.ravel(), x1.ravel()]\n",
    "y_predict = per_clf.predict(X_new)\n",
    "zz = y_predict.reshape(x0.shape)\n",
    "\n",
    "plt.figure(figsize=(10, 4))\n",
    "plt.plot(X[y==0, 0], X[y==0, 1], \"bs\", label=\"Not Iris-Setosa\")\n",
    "plt.plot(X[y==1, 0], X[y==1, 1], \"yo\", label=\"Iris-Setosa\")\n",
    "\n",
    "plt.plot([axes[0], axes[1]], [a * axes[0] + b, a * axes[1] + b], \"k-\", linewidth=3)\n",
    "from matplotlib.colors import ListedColormap\n",
    "custom_cmap = ListedColormap(['#9898ff', '#fafab0'])\n",
    "\n",
    "plt.contourf(x0, x1, zz, cmap=custom_cmap)\n",
    "plt.xlabel(\"Petal length\", fontsize=14)\n",
    "plt.ylabel(\"Petal width\", fontsize=14)\n",
    "plt.legend(loc=\"lower right\", fontsize=14)\n",
    "plt.axis(axes)\n",
    "\n",
    "save_fig(\"perceptron_iris_plot\")\n",
    "plt.show()"
   ]
  },
  {
   "cell_type": "markdown",
   "metadata": {},
   "source": [
    "# Activation functions"
   ]
  },
  {
   "cell_type": "code",
   "execution_count": 9,
   "metadata": {},
   "outputs": [],
   "source": [
    "# Defining and plotting some of the most common actvation functions \n",
    "\n",
    "def sigmoid(z):\n",
    "    return 1 / (1 + np.exp(-z))\n",
    "\n",
    "def relu(z):\n",
    "    return np.maximum(0, z)\n",
    "\n",
    "def derivative(f, z, eps=0.000001):\n",
    "    return (f(z + eps) - f(z - eps))/(2 * eps)"
   ]
  },
  {
   "cell_type": "code",
   "execution_count": 14,
   "metadata": {},
   "outputs": [
    {
     "name": "stdout",
     "output_type": "stream",
     "text": [
      "Saving figure activation_functions_plot\n"
     ]
    },
    {
     "data": {
      "image/png": "[encoded data removed]",
      "text/plain": [
       "<Figure size 792x288 with 2 Axes>"
      ]
     },
     "metadata": {
      "needs_background": "light"
     },
     "output_type": "display_data"
    }
   ],
   "source": [
    "z = np.linspace(-5, 5, 200)\n",
    "\n",
    "plt.figure(figsize=(11,4))\n",
    "\n",
    "plt.subplot(121)\n",
    "plt.plot(z, np.sign(z), \"r-\", linewidth=1, label=\"Step\")\n",
    "plt.plot(z, sigmoid(z), \"g--\", linewidth=2, label=\"Sigmoid\")\n",
    "plt.plot(z, np.tanh(z), \"b-\", linewidth=2, label=\"Tanh\")\n",
    "plt.plot(z, relu(z), \"m-.\", linewidth=2, label=\"ReLU\")\n",
    "plt.grid(True)\n",
    "plt.legend(loc=\"center right\", fontsize=14)\n",
    "plt.title(\"Activation functions\", fontsize=14)\n",
    "plt.axis([-5, 5, -1.2, 1.2])\n",
    "\n",
    "plt.subplot(122)\n",
    "plt.plot(z, derivative(np.sign, z), \"r-\", linewidth=1, label=\"Step\")\n",
    "plt.plot(0, 0, \"ro\", markersize=5)\n",
    "plt.plot(0, 0, \"rx\", markersize=10)\n",
    "plt.plot(z, derivative(sigmoid, z), \"g--\", linewidth=2, label=\"Sigmoid\")\n",
    "plt.plot(z, derivative(np.tanh, z), \"b-\", linewidth=2, label=\"Tanh\")\n",
    "plt.plot(z, derivative(relu, z), \"m-.\", linewidth=2, label=\"ReLU\")\n",
    "plt.grid(True)\n",
    "#plt.legend(loc=\"center right\", fontsize=14)\n",
    "plt.title(\"Derivatives\", fontsize=14)\n",
    "plt.axis([-5, 5, -0.2, 1.2])\n",
    "\n",
    "save_fig(\"activation_functions_plot\")\n",
    "plt.show()"
   ]
  },
  {
   "cell_type": "markdown",
   "metadata": {},
   "source": [
    "# Building an Image Classifier using Fashion MNIST dataset"
   ]
  },
  {
   "cell_type": "markdown",
   "metadata": {},
   "source": [
    "First let's import TensorFlow and Keras."
   ]
  },
  {
   "cell_type": "code",
   "execution_count": 15,
   "metadata": {},
   "outputs": [],
   "source": [
    "import tensorflow as tf\n",
    "from tensorflow import keras"
   ]
  },
  {
   "cell_type": "code",
   "execution_count": 16,
   "metadata": {},
   "outputs": [
    {
     "data": {
      "text/plain": [
       "'2.7.0'"
      ]
     },
     "execution_count": 16,
     "metadata": {},
     "output_type": "execute_result"
    }
   ],
   "source": [
    "tf.__version__"
   ]
  },
  {
   "cell_type": "code",
   "execution_count": 17,
   "metadata": {},
   "outputs": [
    {
     "data": {
      "text/plain": [
       "'2.7.0'"
      ]
     },
     "execution_count": 17,
     "metadata": {},
     "output_type": "execute_result"
    }
   ],
   "source": [
    "keras.__version__"
   ]
  },
  {
   "cell_type": "markdown",
   "metadata": {},
   "source": [
    "Let's start by loading the fashion MNIST dataset. Keras has a number of functions to load popular datasets in `keras.datasets`. The dataset is already split for you between a training set and a test set, but it can be useful to split the training set further to have a validation set:"
   ]
  },
  {
   "cell_type": "code",
   "execution_count": 18,
   "metadata": {},
   "outputs": [],
   "source": [
    "fashion_mnist = keras.datasets.fashion_mnist\n",
    "(X_train_full, y_train_full), (X_test, y_test) = fashion_mnist.load_data()"
   ]
  },
  {
   "cell_type": "markdown",
   "metadata": {},
   "source": [
    "The training set contains 60,000 grayscale images, each 28x28 pixels:"
   ]
  },
  {
   "cell_type": "code",
   "execution_count": 19,
   "metadata": {},
   "outputs": [
    {
     "data": {
      "text/plain": [
       "(60000, 28, 28)"
      ]
     },
     "execution_count": 19,
     "metadata": {},
     "output_type": "execute_result"
    }
   ],
   "source": [
    "X_train_full.shape"
   ]
  },
  {
   "cell_type": "code",
   "execution_count": 20,
   "metadata": {},
   "outputs": [
    {
     "data": {
      "text/plain": [
       "784"
      ]
     },
     "execution_count": 20,
     "metadata": {},
     "output_type": "execute_result"
    }
   ],
   "source": [
    "28*28"
   ]
  },
  {
   "cell_type": "markdown",
   "metadata": {},
   "source": [
    "Each pixel intensity is represented as a byte (0 to 255):"
   ]
  },
  {
   "cell_type": "code",
   "execution_count": 21,
   "metadata": {},
   "outputs": [
    {
     "data": {
      "text/plain": [
       "dtype('uint8')"
      ]
     },
     "execution_count": 21,
     "metadata": {},
     "output_type": "execute_result"
    }
   ],
   "source": [
    "X_train_full.dtype"
   ]
  },
  {
   "cell_type": "markdown",
   "metadata": {},
   "source": [
    "Let's split the full training set into a validation set and a (smaller) training set. We also scale the pixel intensities down to the 0-1 range and convert them to floats, by dividing by 255."
   ]
  },
  {
   "cell_type": "code",
   "execution_count": 66,
   "metadata": {},
   "outputs": [],
   "source": [
    "X_valid, X_train = X_train_full[:5000] / 255., X_train_full[5000:] / 255.\n",
    "y_valid, y_train = y_train_full[:5000], y_train_full[5000:]\n",
    "X_test = X_test / 255."
   ]
  },
  {
   "cell_type": "code",
   "execution_count": 67,
   "metadata": {},
   "outputs": [
    {
     "data": {
      "text/plain": [
       "784"
      ]
     },
     "execution_count": 67,
     "metadata": {},
     "output_type": "execute_result"
    }
   ],
   "source": [
    "len(X_valid[0].flatten())"
   ]
  },
  {
   "cell_type": "markdown",
   "metadata": {},
   "source": [
    "You can plot an image using Matplotlib's `imshow()` function, with a `'binary'`\n",
    " color map:"
   ]
  },
  {
   "cell_type": "code",
   "execution_count": 68,
   "metadata": {},
   "outputs": [
    {
     "data": {
      "image/png": "[encoded data removed]",
      "text/plain": [
       "<Figure size 432x288 with 1 Axes>"
      ]
     },
     "metadata": {
      "needs_background": "light"
     },
     "output_type": "display_data"
    }
   ],
   "source": [
    "plt.imshow(X_train[0], cmap=\"binary\")\n",
    "plt.axis('off')\n",
    "plt.show()"
   ]
  },
  {
   "cell_type": "markdown",
   "metadata": {},
   "source": [
    "The labels are the class IDs (represented as uint8), from 0 to 9:"
   ]
  },
  {
   "cell_type": "code",
   "execution_count": 16,
   "metadata": {},
   "outputs": [
    {
     "data": {
      "text/plain": [
       "array([4, 0, 7, ..., 3, 0, 5], dtype=uint8)"
      ]
     },
     "execution_count": 16,
     "metadata": {},
     "output_type": "execute_result"
    }
   ],
   "source": [
    "y_train"
   ]
  },
  {
   "cell_type": "markdown",
   "metadata": {},
   "source": [
    "Here are the corresponding class names:"
   ]
  },
  {
   "cell_type": "code",
   "execution_count": 17,
   "metadata": {},
   "outputs": [],
   "source": [
    "class_names = [\"T-shirt/top\", \"Trouser\", \"Pullover\", \"Dress\", \"Coat\",\n",
    "               \"Sandal\", \"Shirt\", \"Sneaker\", \"Bag\", \"Ankle boot\"]"
   ]
  },
  {
   "cell_type": "markdown",
   "metadata": {},
   "source": [
    "So the first image in the training set is a coat:"
   ]
  },
  {
   "cell_type": "code",
   "execution_count": 18,
   "metadata": {},
   "outputs": [
    {
     "data": {
      "text/plain": [
       "'Coat'"
      ]
     },
     "execution_count": 18,
     "metadata": {},
     "output_type": "execute_result"
    }
   ],
   "source": [
    "class_names[y_train[0]]"
   ]
  },
  {
   "cell_type": "markdown",
   "metadata": {},
   "source": [
    "The validation set contains 5,000 images, and the test set contains 10,000 images:"
   ]
  },
  {
   "cell_type": "code",
   "execution_count": 19,
   "metadata": {},
   "outputs": [
    {
     "data": {
      "text/plain": [
       "(5000, 28, 28)"
      ]
     },
     "execution_count": 19,
     "metadata": {},
     "output_type": "execute_result"
    }
   ],
   "source": [
    "X_valid.shape"
   ]
  },
  {
   "cell_type": "code",
   "execution_count": 20,
   "metadata": {},
   "outputs": [
    {
     "data": {
      "text/plain": [
       "(10000, 28, 28)"
      ]
     },
     "execution_count": 20,
     "metadata": {},
     "output_type": "execute_result"
    }
   ],
   "source": [
    "X_test.shape"
   ]
  },
  {
   "cell_type": "markdown",
   "metadata": {},
   "source": [
    "Let's take a look at a sample of the images in the dataset:"
   ]
  },
  {
   "cell_type": "code",
   "execution_count": 21,
   "metadata": {},
   "outputs": [
    {
     "name": "stdout",
     "output_type": "stream",
     "text": [
      "Saving figure fashion_mnist_plot\n"
     ]
    },
    {
     "data": {
      "image/png": "[encoded data removed]",
      "text/plain": [
       "<Figure size 864x345.6 with 40 Axes>"
      ]
     },
     "metadata": {
      "needs_background": "light"
     },
     "output_type": "display_data"
    }
   ],
   "source": [
    "n_rows = 4\n",
    "n_cols = 10\n",
    "plt.figure(figsize=(n_cols * 1.2, n_rows * 1.2))\n",
    "for row in range(n_rows):\n",
    "    for col in range(n_cols):\n",
    "        index = n_cols * row + col\n",
    "        plt.subplot(n_rows, n_cols, index + 1)\n",
    "        plt.imshow(X_train[index], cmap=\"binary\", interpolation=\"nearest\")\n",
    "        plt.axis('off')\n",
    "        plt.title(class_names[y_train[index]], fontsize=12)\n",
    "plt.subplots_adjust(wspace=0.2, hspace=0.5)\n",
    "save_fig('fashion_mnist_plot', tight_layout=False)\n",
    "plt.show()"
   ]
  },
  {
   "cell_type": "code",
   "execution_count": 39,
   "metadata": {},
   "outputs": [],
   "source": [
    "# Define a nerual net with Sequential API \n",
    "\n",
    "model = keras.models.Sequential()\n",
    "model.add(keras.layers.Flatten(input_shape=[28, 28]))\n",
    "model.add(keras.layers.Dense(300, activation=\"relu\"))\n",
    "model.add(keras.layers.Dense(100, activation=\"relu\"))\n",
    "model.add(keras.layers.Dense(10, activation=\"softmax\"))"
   ]
  },
  {
   "cell_type": "code",
   "execution_count": 40,
   "metadata": {},
   "outputs": [],
   "source": [
    "# Clear session\n",
    "\n",
    "keras.backend.clear_session()\n",
    "np.random.seed(42)\n",
    "tf.random.set_seed(42)"
   ]
  },
  {
   "cell_type": "code",
   "execution_count": 41,
   "metadata": {},
   "outputs": [],
   "source": [
    "model = keras.models.Sequential([\n",
    "    keras.layers.Flatten(input_shape=[28, 28]),\n",
    "    keras.layers.Dense(300, activation=\"relu\"),\n",
    "    keras.layers.Dense(100, activation=\"relu\"),\n",
    "    keras.layers.Dense(10, activation=\"softmax\")\n",
    "])"
   ]
  },
  {
   "cell_type": "code",
   "execution_count": 42,
   "metadata": {},
   "outputs": [
    {
     "data": {
      "text/plain": [
       "[<keras.layers.core.flatten.Flatten at 0x7f405e8e32b0>,\n",
       " <keras.layers.core.dense.Dense at 0x7f407eefd490>,\n",
       " <keras.layers.core.dense.Dense at 0x7f405e8c26d0>,\n",
       " <keras.layers.core.dense.Dense at 0x7f405e8c29d0>]"
      ]
     },
     "execution_count": 42,
     "metadata": {},
     "output_type": "execute_result"
    }
   ],
   "source": [
    "model.layers"
   ]
  },
  {
   "cell_type": "code",
   "execution_count": 43,
   "metadata": {},
   "outputs": [
    {
     "name": "stdout",
     "output_type": "stream",
     "text": [
      "Model: \"sequential\"\n",
      "_________________________________________________________________\n",
      " Layer (type)                Output Shape              Param #   \n",
      "=================================================================\n",
      " flatten (Flatten)           (None, 784)               0         \n",
      "                                                                 \n",
      " dense (Dense)               (None, 300)               235500    \n",
      "                                                                 \n",
      " dense_1 (Dense)             (None, 100)               30100     \n",
      "                                                                 \n",
      " dense_2 (Dense)             (None, 10)                1010      \n",
      "                                                                 \n",
      "=================================================================\n",
      "Total params: 266,610\n",
      "Trainable params: 266,610\n",
      "Non-trainable params: 0\n",
      "_________________________________________________________________\n"
     ]
    }
   ],
   "source": [
    "# Let's check the model's details and graphcal representation\n",
    "model.summary()"
   ]
  },
  {
   "cell_type": "code",
   "execution_count": 44,
   "metadata": {},
   "outputs": [
    {
     "data": {
      "image/png": "[encoded data removed]",
      "text/plain": [
       "<IPython.core.display.Image object>"
      ]
     },
     "execution_count": 44,
     "metadata": {},
     "output_type": "execute_result"
    }
   ],
   "source": [
    "keras.utils.plot_model(model, \"my_fashion_mnist_model.png\", show_shapes=True)"
   ]
  },
  {
   "cell_type": "code",
   "execution_count": 45,
   "metadata": {},
   "outputs": [
    {
     "data": {
      "text/plain": [
       "'dense'"
      ]
     },
     "execution_count": 45,
     "metadata": {},
     "output_type": "execute_result"
    }
   ],
   "source": [
    "# Layers have names\n",
    "\n",
    "hidden1 = model.layers[1]\n",
    "hidden1.name"
   ]
  },
  {
   "cell_type": "code",
   "execution_count": 46,
   "metadata": {},
   "outputs": [
    {
     "data": {
      "text/plain": [
       "True"
      ]
     },
     "execution_count": 46,
     "metadata": {},
     "output_type": "execute_result"
    }
   ],
   "source": [
    "model.get_layer(hidden1.name) is hidden1"
   ]
  },
  {
   "cell_type": "code",
   "execution_count": 47,
   "metadata": {},
   "outputs": [],
   "source": [
    "# Let's get the weights of hidden 1 layer (of connections entering the layer)\n",
    "# Notice these wights are initialised with random numbers .\n",
    "# When we fit the model to the data, these weights will be updated step by step with Gradient Descent\n",
    "\n",
    "weights, biases = hidden1.get_weights()"
   ]
  },
  {
   "cell_type": "code",
   "execution_count": 48,
   "metadata": {},
   "outputs": [
    {
     "data": {
      "text/plain": [
       "array([[ 0.02448617, -0.00877795, -0.02189048, ..., -0.02766046,\n",
       "         0.03859074, -0.06889391],\n",
       "       [ 0.00476504, -0.03105379, -0.0586676 , ...,  0.00602964,\n",
       "        -0.02763776, -0.04165364],\n",
       "       [-0.06189284, -0.06901957,  0.07102345, ..., -0.04238207,\n",
       "         0.07121518, -0.07331658],\n",
       "       ...,\n",
       "       [-0.03048757,  0.02155137, -0.05400612, ..., -0.00113463,\n",
       "         0.00228987,  0.05581069],\n",
       "       [ 0.07061854, -0.06960931,  0.07038955, ..., -0.00384101,\n",
       "         0.00034875,  0.02878492],\n",
       "       [-0.06022581,  0.01577859, -0.02585464, ..., -0.00527829,\n",
       "         0.00272203, -0.06793761]], dtype=float32)"
      ]
     },
     "execution_count": 48,
     "metadata": {},
     "output_type": "execute_result"
    }
   ],
   "source": [
    "weights"
   ]
  },
  {
   "cell_type": "code",
   "execution_count": 49,
   "metadata": {},
   "outputs": [
    {
     "data": {
      "text/plain": [
       "(784, 300)"
      ]
     },
     "execution_count": 49,
     "metadata": {},
     "output_type": "execute_result"
    }
   ],
   "source": [
    "# there are 784 x 300 weights\n",
    "\n",
    "weights.shape"
   ]
  },
  {
   "cell_type": "code",
   "execution_count": 50,
   "metadata": {},
   "outputs": [
    {
     "data": {
      "text/plain": [
       "array([0., 0., 0., 0., 0., 0., 0., 0., 0., 0., 0., 0., 0., 0., 0., 0., 0.,\n",
       "       0., 0., 0., 0., 0., 0., 0., 0., 0., 0., 0., 0., 0., 0., 0., 0., 0.,\n",
       "       0., 0., 0., 0., 0., 0., 0., 0., 0., 0., 0., 0., 0., 0., 0., 0., 0.,\n",
       "       0., 0., 0., 0., 0., 0., 0., 0., 0., 0., 0., 0., 0., 0., 0., 0., 0.,\n",
       "       0., 0., 0., 0., 0., 0., 0., 0., 0., 0., 0., 0., 0., 0., 0., 0., 0.,\n",
       "       0., 0., 0., 0., 0., 0., 0., 0., 0., 0., 0., 0., 0., 0., 0., 0., 0.,\n",
       "       0., 0., 0., 0., 0., 0., 0., 0., 0., 0., 0., 0., 0., 0., 0., 0., 0.,\n",
       "       0., 0., 0., 0., 0., 0., 0., 0., 0., 0., 0., 0., 0., 0., 0., 0., 0.,\n",
       "       0., 0., 0., 0., 0., 0., 0., 0., 0., 0., 0., 0., 0., 0., 0., 0., 0.,\n",
       "       0., 0., 0., 0., 0., 0., 0., 0., 0., 0., 0., 0., 0., 0., 0., 0., 0.,\n",
       "       0., 0., 0., 0., 0., 0., 0., 0., 0., 0., 0., 0., 0., 0., 0., 0., 0.,\n",
       "       0., 0., 0., 0., 0., 0., 0., 0., 0., 0., 0., 0., 0., 0., 0., 0., 0.,\n",
       "       0., 0., 0., 0., 0., 0., 0., 0., 0., 0., 0., 0., 0., 0., 0., 0., 0.,\n",
       "       0., 0., 0., 0., 0., 0., 0., 0., 0., 0., 0., 0., 0., 0., 0., 0., 0.,\n",
       "       0., 0., 0., 0., 0., 0., 0., 0., 0., 0., 0., 0., 0., 0., 0., 0., 0.,\n",
       "       0., 0., 0., 0., 0., 0., 0., 0., 0., 0., 0., 0., 0., 0., 0., 0., 0.,\n",
       "       0., 0., 0., 0., 0., 0., 0., 0., 0., 0., 0., 0., 0., 0., 0., 0., 0.,\n",
       "       0., 0., 0., 0., 0., 0., 0., 0., 0., 0., 0.], dtype=float32)"
      ]
     },
     "execution_count": 50,
     "metadata": {},
     "output_type": "execute_result"
    }
   ],
   "source": [
    "biases"
   ]
  },
  {
   "cell_type": "code",
   "execution_count": 51,
   "metadata": {},
   "outputs": [
    {
     "data": {
      "text/plain": [
       "(300,)"
      ]
     },
     "execution_count": 51,
     "metadata": {},
     "output_type": "execute_result"
    }
   ],
   "source": [
    "# and 300 biases\n",
    "\n",
    "biases.shape"
   ]
  },
  {
   "cell_type": "code",
   "execution_count": 52,
   "metadata": {},
   "outputs": [],
   "source": [
    "model.compile(loss=\"sparse_categorical_crossentropy\",\n",
    "              optimizer=\"sgd\",\n",
    "              metrics=[\"accuracy\"])"
   ]
  },
  {
   "cell_type": "markdown",
   "metadata": {},
   "source": [
    "This is equivalent to:"
   ]
  },
  {
   "cell_type": "markdown",
   "metadata": {},
   "source": [
    "```python\n",
    "model.compile(loss=keras.losses.sparse_categorical_crossentropy,\n",
    "              optimizer=keras.optimizers.SGD(),\n",
    "              metrics=[keras.metrics.sparse_categorical_accuracy])\n",
    "```"
   ]
  },
  {
   "cell_type": "code",
   "execution_count": 53,
   "metadata": {},
   "outputs": [
    {
     "name": "stderr",
     "output_type": "stream",
     "text": [
      "2022-03-14 12:30:39.007397: W tensorflow/core/framework/cpu_allocator_impl.cc:82] Allocation of 172480000 exceeds 10% of free system memory.\n"
     ]
    },
    {
     "name": "stdout",
     "output_type": "stream",
     "text": [
      "Epoch 1/30\n",
      "1719/1719 [==============================] - 6s 4ms/step - loss: 0.7237 - accuracy: 0.7644 - val_loss: 0.5207 - val_accuracy: 0.8234\n",
      "Epoch 2/30\n",
      "1719/1719 [==============================] - 6s 3ms/step - loss: 0.4842 - accuracy: 0.8317 - val_loss: 0.4351 - val_accuracy: 0.8530\n",
      "Epoch 3/30\n",
      "1719/1719 [==============================] - 6s 4ms/step - loss: 0.4392 - accuracy: 0.8455 - val_loss: 0.5328 - val_accuracy: 0.7988\n",
      "Epoch 4/30\n",
      "1719/1719 [==============================] - 6s 3ms/step - loss: 0.4125 - accuracy: 0.8565 - val_loss: 0.3917 - val_accuracy: 0.8650\n",
      "Epoch 5/30\n",
      "1719/1719 [==============================] - 6s 3ms/step - loss: 0.3939 - accuracy: 0.8620 - val_loss: 0.3749 - val_accuracy: 0.8692\n",
      "Epoch 6/30\n",
      "1719/1719 [==============================] - 5s 3ms/step - loss: 0.3752 - accuracy: 0.8674 - val_loss: 0.3706 - val_accuracy: 0.8728\n",
      "Epoch 7/30\n",
      "1719/1719 [==============================] - 5s 3ms/step - loss: 0.3633 - accuracy: 0.8712 - val_loss: 0.3617 - val_accuracy: 0.8728\n",
      "Epoch 8/30\n",
      "1719/1719 [==============================] - 5s 3ms/step - loss: 0.3519 - accuracy: 0.8751 - val_loss: 0.3840 - val_accuracy: 0.8626\n",
      "Epoch 9/30\n",
      "1719/1719 [==============================] - 5s 3ms/step - loss: 0.3416 - accuracy: 0.8786 - val_loss: 0.3591 - val_accuracy: 0.8708\n",
      "Epoch 10/30\n",
      "1719/1719 [==============================] - 5s 3ms/step - loss: 0.3322 - accuracy: 0.8819 - val_loss: 0.3434 - val_accuracy: 0.8786\n",
      "Epoch 11/30\n",
      "1719/1719 [==============================] - 6s 3ms/step - loss: 0.3243 - accuracy: 0.8836 - val_loss: 0.3435 - val_accuracy: 0.8778\n",
      "Epoch 12/30\n",
      "1719/1719 [==============================] - 6s 4ms/step - loss: 0.3150 - accuracy: 0.8862 - val_loss: 0.3305 - val_accuracy: 0.8826\n",
      "Epoch 13/30\n",
      "1719/1719 [==============================] - 6s 3ms/step - loss: 0.3083 - accuracy: 0.8890 - val_loss: 0.3264 - val_accuracy: 0.8882\n",
      "Epoch 14/30\n",
      "1719/1719 [==============================] - 5s 3ms/step - loss: 0.3022 - accuracy: 0.8915 - val_loss: 0.3406 - val_accuracy: 0.8778\n",
      "Epoch 15/30\n",
      "1719/1719 [==============================] - 6s 4ms/step - loss: 0.2948 - accuracy: 0.8939 - val_loss: 0.3207 - val_accuracy: 0.8858\n",
      "Epoch 16/30\n",
      "1719/1719 [==============================] - 6s 3ms/step - loss: 0.2891 - accuracy: 0.8971 - val_loss: 0.3095 - val_accuracy: 0.8898\n",
      "Epoch 17/30\n",
      "1719/1719 [==============================] - 6s 3ms/step - loss: 0.2839 - accuracy: 0.8976 - val_loss: 0.3571 - val_accuracy: 0.8726\n",
      "Epoch 18/30\n",
      "1719/1719 [==============================] - 6s 3ms/step - loss: 0.2779 - accuracy: 0.8999 - val_loss: 0.3128 - val_accuracy: 0.8908\n",
      "Epoch 19/30\n",
      "  84/1719 [>.............................] - ETA: 5s - loss: 0.2794 - accuracy: 0.9007"
     ]
    },
    {
     "name": "stderr",
     "output_type": "stream",
     "text": [
      "\n",
      "KeyboardInterrupt\n",
      "\n"
     ]
    }
   ],
   "source": [
    "# Now fit the model in 30 epochs\n",
    "\n",
    "history = model.fit(X_train, y_train, epochs=30,\n",
    "                    validation_data=(X_valid, y_valid))"
   ]
  },
  {
   "cell_type": "code",
   "execution_count": null,
   "metadata": {},
   "outputs": [],
   "source": [
    "# parameters of the training\n",
    "\n",
    "history.params"
   ]
  },
  {
   "cell_type": "code",
   "execution_count": null,
   "metadata": {},
   "outputs": [],
   "source": [
    "print(history.epoch)"
   ]
  },
  {
   "cell_type": "code",
   "execution_count": null,
   "metadata": {},
   "outputs": [],
   "source": [
    "# history is a dictionary containing performance vectors with their names as keys\n",
    "\n",
    "history.history.keys()"
   ]
  },
  {
   "cell_type": "code",
   "execution_count": null,
   "metadata": {},
   "outputs": [],
   "source": [
    "# Let's plot the leraning curves\n",
    "\n",
    "import pandas as pd\n",
    "\n",
    "pd.DataFrame(history.history).plot(figsize=(8, 5))\n",
    "plt.grid(True)\n",
    "plt.gca().set_ylim(0, 1)\n",
    "save_fig(\"keras_learning_curves_plot\")\n",
    "plt.show()"
   ]
  },
  {
   "cell_type": "code",
   "execution_count": null,
   "metadata": {},
   "outputs": [],
   "source": [
    "# Evaluate the model on the test set\n",
    "\n",
    "model.evaluate(X_test, y_test)"
   ]
  },
  {
   "cell_type": "code",
   "execution_count": 41,
   "metadata": {},
   "outputs": [
    {
     "data": {
      "text/plain": [
       "array([[0.  , 0.  , 0.  , 0.  , 0.  , 0.01, 0.  , 0.03, 0.  , 0.96],\n",
       "       [0.  , 0.  , 0.98, 0.  , 0.02, 0.  , 0.  , 0.  , 0.  , 0.  ],\n",
       "       [0.  , 1.  , 0.  , 0.  , 0.  , 0.  , 0.  , 0.  , 0.  , 0.  ]],\n",
       "      dtype=float32)"
      ]
     },
     "execution_count": 41,
     "metadata": {},
     "output_type": "execute_result"
    }
   ],
   "source": [
    "# Make predictions on 3 instances.\n",
    "# Observe each row provides the 10 probabilities for the 10 classes (they add up to 1).\n",
    "# 1st row shows that the class 9 last one) has highest probability 96%, so that's the predicted class.\n",
    "\n",
    "X_new = X_test[:3]\n",
    "y_proba = model.predict(X_new)\n",
    "y_proba.round(2)"
   ]
  },
  {
   "cell_type": "markdown",
   "metadata": {},
   "source": [
    "**Warning**: `model.predict_classes(X_new)` is deprecated. It is replaced with `np.argmax(model.predict(X_new), axis=-1)`."
   ]
  },
  {
   "cell_type": "code",
   "execution_count": 42,
   "metadata": {},
   "outputs": [
    {
     "data": {
      "text/plain": [
       "array([9, 2, 1], dtype=int64)"
      ]
     },
     "execution_count": 42,
     "metadata": {},
     "output_type": "execute_result"
    }
   ],
   "source": [
    "#y_pred = model.predict_classes(X_new) # deprecated\n",
    "y_pred = np.argmax(model.predict(X_new), axis=-1)\n",
    "y_pred"
   ]
  },
  {
   "cell_type": "code",
   "execution_count": 43,
   "metadata": {},
   "outputs": [
    {
     "data": {
      "text/plain": [
       "array(['Ankle boot', 'Pullover', 'Trouser'], dtype='<U11')"
      ]
     },
     "execution_count": 43,
     "metadata": {},
     "output_type": "execute_result"
    }
   ],
   "source": [
    "# Get the class names for those predictions \n",
    "\n",
    "np.array(class_names)[y_pred]"
   ]
  },
  {
   "cell_type": "code",
   "execution_count": 44,
   "metadata": {},
   "outputs": [
    {
     "data": {
      "text/plain": [
       "array([9, 2, 1], dtype=uint8)"
      ]
     },
     "execution_count": 44,
     "metadata": {},
     "output_type": "execute_result"
    }
   ],
   "source": [
    "y_new = y_test[:3]\n",
    "y_new"
   ]
  },
  {
   "cell_type": "code",
   "execution_count": 45,
   "metadata": {},
   "outputs": [
    {
     "name": "stdout",
     "output_type": "stream",
     "text": [
      "Saving figure fashion_mnist_images_plot\n"
     ]
    },
    {
     "data": {
      "image/png": "[encoded data removed]",
      "text/plain": [
       "<Figure size 518.4x172.8 with 3 Axes>"
      ]
     },
     "metadata": {
      "needs_background": "light"
     },
     "output_type": "display_data"
    }
   ],
   "source": [
    "# Let's disply the 3 instances.\n",
    "# We see that indeed, what we predicted as classes ('Ankle boot', 'Pullover', 'Trouser'), \n",
    "# are correct.\n",
    "\n",
    "plt.figure(figsize=(7.2, 2.4))\n",
    "for index, image in enumerate(X_new):\n",
    "    plt.subplot(1, 3, index + 1)\n",
    "    plt.imshow(image, cmap=\"binary\", interpolation=\"nearest\")\n",
    "    plt.axis('off')\n",
    "    plt.title(class_names[y_test[index]], fontsize=12)\n",
    "plt.subplots_adjust(wspace=0.2, hspace=0.5)\n",
    "save_fig('fashion_mnist_images_plot', tight_layout=False)\n",
    "plt.show()"
   ]
  },
  {
   "cell_type": "markdown",
   "metadata": {},
   "source": [
    "# Regression MLP"
   ]
  },
  {
   "cell_type": "markdown",
   "metadata": {},
   "source": [
    "Let's load, split and scale the California housing dataset (the original one, not the modified one as in chapter 2):"
   ]
  },
  {
   "cell_type": "code",
   "execution_count": 46,
   "metadata": {},
   "outputs": [],
   "source": [
    "from sklearn.datasets import fetch_california_housing\n",
    "from sklearn.model_selection import train_test_split\n",
    "from sklearn.preprocessing import StandardScaler\n",
    "\n",
    "housing = fetch_california_housing()\n",
    "\n",
    "X_train_full, X_test, y_train_full, y_test = train_test_split(housing.data, housing.target, random_state=42)\n",
    "X_train, X_valid, y_train, y_valid = train_test_split(X_train_full, y_train_full, random_state=42)\n",
    "\n",
    "scaler = StandardScaler()\n",
    "X_train = scaler.fit_transform(X_train)\n",
    "X_valid = scaler.transform(X_valid)\n",
    "X_test = scaler.transform(X_test)"
   ]
  },
  {
   "cell_type": "code",
   "execution_count": 47,
   "metadata": {},
   "outputs": [],
   "source": [
    "np.random.seed(42)\n",
    "tf.random.set_seed(42)"
   ]
  },
  {
   "cell_type": "code",
   "execution_count": 48,
   "metadata": {},
   "outputs": [
    {
     "name": "stdout",
     "output_type": "stream",
     "text": [
      "Epoch 1/20\n",
      "363/363 [==============================] - 0s 1ms/step - loss: 1.6419 - val_loss: 0.8560\n",
      "Epoch 2/20\n",
      "363/363 [==============================] - 0s 877us/step - loss: 0.7047 - val_loss: 0.6531\n",
      "Epoch 3/20\n",
      "363/363 [==============================] - 0s 904us/step - loss: 0.6345 - val_loss: 0.6099\n",
      "Epoch 4/20\n",
      "363/363 [==============================] - 0s 848us/step - loss: 0.5977 - val_loss: 0.5658\n",
      "Epoch 5/20\n",
      "363/363 [==============================] - 0s 830us/step - loss: 0.5706 - val_loss: 0.5355\n",
      "Epoch 6/20\n",
      "363/363 [==============================] - 0s 819us/step - loss: 0.5472 - val_loss: 0.5173\n",
      "Epoch 7/20\n",
      "363/363 [==============================] - 0s 793us/step - loss: 0.5288 - val_loss: 0.5081\n",
      "Epoch 8/20\n",
      "363/363 [==============================] - 0s 799us/step - loss: 0.5130 - val_loss: 0.4799\n",
      "Epoch 9/20\n",
      "363/363 [==============================] - 0s 861us/step - loss: 0.4992 - val_loss: 0.4690\n",
      "Epoch 10/20\n",
      "363/363 [==============================] - 0s 818us/step - loss: 0.4875 - val_loss: 0.4656\n",
      "Epoch 11/20\n",
      "363/363 [==============================] - 0s 892us/step - loss: 0.4777 - val_loss: 0.4482\n",
      "Epoch 12/20\n",
      "363/363 [==============================] - 0s 831us/step - loss: 0.4688 - val_loss: 0.4479\n",
      "Epoch 13/20\n",
      "363/363 [==============================] - 0s 861us/step - loss: 0.4615 - val_loss: 0.4296\n",
      "Epoch 14/20\n",
      "363/363 [==============================] - 0s 861us/step - loss: 0.4547 - val_loss: 0.4233\n",
      "Epoch 15/20\n",
      "363/363 [==============================] - 0s 903us/step - loss: 0.4488 - val_loss: 0.4176\n",
      "Epoch 16/20\n",
      "363/363 [==============================] - 0s 680us/step - loss: 0.4435 - val_loss: 0.4123\n",
      "Epoch 17/20\n",
      "363/363 [==============================] - 0s 638us/step - loss: 0.4389 - val_loss: 0.4071\n",
      "Epoch 18/20\n",
      "363/363 [==============================] - 0s 681us/step - loss: 0.4347 - val_loss: 0.4037\n",
      "Epoch 19/20\n",
      "363/363 [==============================] - 0s 699us/step - loss: 0.4306 - val_loss: 0.4000\n",
      "Epoch 20/20\n",
      "363/363 [==============================] - 0s 638us/step - loss: 0.4273 - val_loss: 0.3969\n",
      "162/162 [==============================] - 0s 491us/step - loss: 0.4212\n"
     ]
    }
   ],
   "source": [
    "# Let's define and fit a regression neural net model with 1 hidden layer of 30 neurons \n",
    "# in which we use the ReLU function. We use Stochastic Gradient Descent (SGD) for 20 epochs,\n",
    "# with a learning rate = 0.001\n",
    "\n",
    "model = keras.models.Sequential([\n",
    "    keras.layers.Dense(30, activation=\"relu\", input_shape=X_train.shape[1:]),\n",
    "    keras.layers.Dense(1)\n",
    "])\n",
    "model.compile(loss=\"mean_squared_error\", optimizer=keras.optimizers.SGD(learning_rate=1e-3))\n",
    "history = model.fit(X_train, y_train, epochs=20, validation_data=(X_valid, y_valid))\n",
    "mse_test = model.evaluate(X_test, y_test)\n",
    "X_new = X_test[:3]\n",
    "y_pred = model.predict(X_new)"
   ]
  },
  {
   "cell_type": "code",
   "execution_count": 49,
   "metadata": {},
   "outputs": [
    {
     "data": {
      "image/png": "[encoded data removed]",
      "text/plain": [
       "<Figure size 432x288 with 1 Axes>"
      ]
     },
     "metadata": {
      "needs_background": "light"
     },
     "output_type": "display_data"
    }
   ],
   "source": [
    "# Plot the learning curves\n",
    "\n",
    "plt.plot(pd.DataFrame(history.history))\n",
    "plt.grid(True)\n",
    "plt.gca().set_ylim(0, 1)\n",
    "plt.show()"
   ]
  },
  {
   "cell_type": "code",
   "execution_count": 50,
   "metadata": {},
   "outputs": [
    {
     "data": {
      "text/plain": [
       "array([[0.38856643],\n",
       "       [1.6792021 ],\n",
       "       [3.1022797 ]], dtype=float32)"
      ]
     },
     "execution_count": 50,
     "metadata": {},
     "output_type": "execute_result"
    }
   ],
   "source": [
    "y_pred"
   ]
  },
  {
   "cell_type": "markdown",
   "metadata": {},
   "source": [
    "# Functional API"
   ]
  },
  {
   "cell_type": "markdown",
   "metadata": {},
   "source": [
    "Not all neural network models are simply sequential. Some may have complex topologies. Some may have multiple inputs and/or multiple outputs. For example, a Wide & Deep neural network (see [paper](https://ai.google/research/pubs/pub45413)) connects all or part of the inputs directly to the output layer."
   ]
  },
  {
   "cell_type": "code",
   "execution_count": 51,
   "metadata": {},
   "outputs": [],
   "source": [
    "np.random.seed(42)\n",
    "tf.random.set_seed(42)"
   ]
  },
  {
   "cell_type": "code",
   "execution_count": 52,
   "metadata": {},
   "outputs": [],
   "source": [
    "input_ = keras.layers.Input(shape=X_train.shape[1:])\n",
    "hidden1 = keras.layers.Dense(30, activation=\"relu\")(input_)\n",
    "hidden2 = keras.layers.Dense(30, activation=\"relu\")(hidden1)\n",
    "concat = keras.layers.concatenate([input_, hidden2])\n",
    "output = keras.layers.Dense(1)(concat)\n",
    "model = keras.models.Model(inputs=[input_], outputs=[output])"
   ]
  },
  {
   "cell_type": "code",
   "execution_count": 53,
   "metadata": {},
   "outputs": [
    {
     "name": "stdout",
     "output_type": "stream",
     "text": [
      "Model: \"functional_1\"\n",
      "__________________________________________________________________________________________________\n",
      "Layer (type)                    Output Shape         Param #     Connected to                     \n",
      "==================================================================================================\n",
      "input_1 (InputLayer)            [(None, 8)]          0                                            \n",
      "__________________________________________________________________________________________________\n",
      "dense_5 (Dense)                 (None, 30)           270         input_1[0][0]                    \n",
      "__________________________________________________________________________________________________\n",
      "dense_6 (Dense)                 (None, 30)           930         dense_5[0][0]                    \n",
      "__________________________________________________________________________________________________\n",
      "concatenate (Concatenate)       (None, 38)           0           input_1[0][0]                    \n",
      "                                                                 dense_6[0][0]                    \n",
      "__________________________________________________________________________________________________\n",
      "dense_7 (Dense)                 (None, 1)            39          concatenate[0][0]                \n",
      "==================================================================================================\n",
      "Total params: 1,239\n",
      "Trainable params: 1,239\n",
      "Non-trainable params: 0\n",
      "__________________________________________________________________________________________________\n"
     ]
    }
   ],
   "source": [
    "model.summary()"
   ]
  },
  {
   "cell_type": "code",
   "execution_count": 54,
   "metadata": {},
   "outputs": [
    {
     "name": "stdout",
     "output_type": "stream",
     "text": [
      "Epoch 1/20\n",
      "363/363 [==============================] - 0s 947us/step - loss: 1.2611 - val_loss: 3.3940\n",
      "Epoch 2/20\n",
      "363/363 [==============================] - 0s 715us/step - loss: 0.6580 - val_loss: 0.9360\n",
      "Epoch 3/20\n",
      "363/363 [==============================] - 0s 699us/step - loss: 0.5878 - val_loss: 0.5649\n",
      "Epoch 4/20\n",
      "363/363 [==============================] - 0s 695us/step - loss: 0.5582 - val_loss: 0.5712\n",
      "Epoch 5/20\n",
      "363/363 [==============================] - 0s 732us/step - loss: 0.5347 - val_loss: 0.5045\n",
      "Epoch 6/20\n",
      "363/363 [==============================] - 0s 731us/step - loss: 0.5158 - val_loss: 0.4831\n",
      "Epoch 7/20\n",
      "363/363 [==============================] - 0s 731us/step - loss: 0.5002 - val_loss: 0.4639\n",
      "Epoch 8/20\n",
      "363/363 [==============================] - 0s 733us/step - loss: 0.4876 - val_loss: 0.4638\n",
      "Epoch 9/20\n",
      "363/363 [==============================] - 0s 688us/step - loss: 0.4760 - val_loss: 0.4421\n",
      "Epoch 10/20\n",
      "363/363 [==============================] - 0s 690us/step - loss: 0.4659 - val_loss: 0.4313\n",
      "Epoch 11/20\n",
      "363/363 [==============================] - 0s 688us/step - loss: 0.4577 - val_loss: 0.4345\n",
      "Epoch 12/20\n",
      "363/363 [==============================] - 0s 689us/step - loss: 0.4498 - val_loss: 0.4168\n",
      "Epoch 13/20\n",
      "363/363 [==============================] - 0s 688us/step - loss: 0.4428 - val_loss: 0.4230\n",
      "Epoch 14/20\n",
      "363/363 [==============================] - 0s 689us/step - loss: 0.4366 - val_loss: 0.4047\n",
      "Epoch 15/20\n",
      "363/363 [==============================] - 0s 749us/step - loss: 0.4307 - val_loss: 0.4078\n",
      "Epoch 16/20\n",
      "363/363 [==============================] - 0s 758us/step - loss: 0.4257 - val_loss: 0.3938\n",
      "Epoch 17/20\n",
      "363/363 [==============================] - 0s 774us/step - loss: 0.4210 - val_loss: 0.3952\n",
      "Epoch 18/20\n",
      "363/363 [==============================] - 0s 732us/step - loss: 0.4167 - val_loss: 0.3860\n",
      "Epoch 19/20\n",
      "363/363 [==============================] - 0s 774us/step - loss: 0.4121 - val_loss: 0.3827\n",
      "Epoch 20/20\n",
      "363/363 [==============================] - 0s 732us/step - loss: 0.4088 - val_loss: 0.4054\n",
      "162/162 [==============================] - 0s 521us/step - loss: 0.4032\n"
     ]
    }
   ],
   "source": [
    "model.compile(loss=\"mean_squared_error\", optimizer=keras.optimizers.SGD(learning_rate=1e-3))\n",
    "history = model.fit(X_train, y_train, epochs=20,\n",
    "                    validation_data=(X_valid, y_valid))\n",
    "mse_test = model.evaluate(X_test, y_test)\n",
    "y_pred = model.predict(X_new)"
   ]
  },
  {
   "cell_type": "markdown",
   "metadata": {},
   "source": [
    "What if you want to send different subsets of input features through the wide or deep paths? We will send 5 features (features 0 to 4), and 6 through the deep path (features 2 to 7). Note that 3 features will go through both (features 2, 3 and 4)."
   ]
  },
  {
   "cell_type": "code",
   "execution_count": 55,
   "metadata": {},
   "outputs": [],
   "source": [
    "np.random.seed(42)\n",
    "tf.random.set_seed(42)"
   ]
  },
  {
   "cell_type": "code",
   "execution_count": 56,
   "metadata": {},
   "outputs": [],
   "source": [
    "input_A = keras.layers.Input(shape=[5], name=\"wide_input\")\n",
    "input_B = keras.layers.Input(shape=[6], name=\"deep_input\")\n",
    "hidden1 = keras.layers.Dense(30, activation=\"relu\")(input_B)\n",
    "hidden2 = keras.layers.Dense(30, activation=\"relu\")(hidden1)\n",
    "concat = keras.layers.concatenate([input_A, hidden2])\n",
    "output = keras.layers.Dense(1, name=\"output\")(concat)\n",
    "model = keras.models.Model(inputs=[input_A, input_B], outputs=[output])"
   ]
  },
  {
   "cell_type": "code",
   "execution_count": 57,
   "metadata": {},
   "outputs": [
    {
     "name": "stdout",
     "output_type": "stream",
     "text": [
      "Epoch 1/20\n",
      "363/363 [==============================] - 0s 992us/step - loss: 1.8145 - val_loss: 0.8072\n",
      "Epoch 2/20\n",
      "363/363 [==============================] - 0s 775us/step - loss: 0.6771 - val_loss: 0.6658\n",
      "Epoch 3/20\n",
      "363/363 [==============================] - 0s 776us/step - loss: 0.5979 - val_loss: 0.5687\n",
      "Epoch 4/20\n",
      "363/363 [==============================] - 0s 775us/step - loss: 0.5584 - val_loss: 0.5296\n",
      "Epoch 5/20\n",
      "363/363 [==============================] - 0s 773us/step - loss: 0.5334 - val_loss: 0.4993\n",
      "Epoch 6/20\n",
      "363/363 [==============================] - 0s 827us/step - loss: 0.5120 - val_loss: 0.4811\n",
      "Epoch 7/20\n",
      "363/363 [==============================] - 0s 766us/step - loss: 0.4970 - val_loss: 0.4696\n",
      "Epoch 8/20\n",
      "363/363 [==============================] - 0s 775us/step - loss: 0.4843 - val_loss: 0.4496\n",
      "Epoch 9/20\n",
      "363/363 [==============================] - 0s 775us/step - loss: 0.4730 - val_loss: 0.4404\n",
      "Epoch 10/20\n",
      "363/363 [==============================] - 0s 733us/step - loss: 0.4644 - val_loss: 0.4315\n",
      "Epoch 11/20\n",
      "363/363 [==============================] - 0s 775us/step - loss: 0.4570 - val_loss: 0.4268\n",
      "Epoch 12/20\n",
      "363/363 [==============================] - 0s 773us/step - loss: 0.4510 - val_loss: 0.4166\n",
      "Epoch 13/20\n",
      "363/363 [==============================] - 0s 732us/step - loss: 0.4462 - val_loss: 0.4125\n",
      "Epoch 14/20\n",
      "363/363 [==============================] - 0s 789us/step - loss: 0.4421 - val_loss: 0.4074\n",
      "Epoch 15/20\n",
      "363/363 [==============================] - 0s 761us/step - loss: 0.4385 - val_loss: 0.4044\n",
      "Epoch 16/20\n",
      "363/363 [==============================] - 0s 733us/step - loss: 0.4356 - val_loss: 0.4007\n",
      "Epoch 17/20\n",
      "363/363 [==============================] - 0s 762us/step - loss: 0.4322 - val_loss: 0.4013\n",
      "Epoch 18/20\n",
      "363/363 [==============================] - 0s 744us/step - loss: 0.4305 - val_loss: 0.3987\n",
      "Epoch 19/20\n",
      "363/363 [==============================] - 0s 775us/step - loss: 0.4274 - val_loss: 0.3934\n",
      "Epoch 20/20\n",
      "363/363 [==============================] - 0s 775us/step - loss: 0.4261 - val_loss: 0.4204\n",
      "162/162 [==============================] - 0s 578us/step - loss: 0.4219\n"
     ]
    }
   ],
   "source": [
    "model.compile(loss=\"mse\", optimizer=keras.optimizers.SGD(learning_rate=1e-3))\n",
    "\n",
    "X_train_A, X_train_B = X_train[:, :5], X_train[:, 2:]\n",
    "X_valid_A, X_valid_B = X_valid[:, :5], X_valid[:, 2:]\n",
    "X_test_A, X_test_B = X_test[:, :5], X_test[:, 2:]\n",
    "X_new_A, X_new_B = X_test_A[:3], X_test_B[:3]\n",
    "\n",
    "history = model.fit((X_train_A, X_train_B), y_train, epochs=20,\n",
    "                    validation_data=((X_valid_A, X_valid_B), y_valid))\n",
    "mse_test = model.evaluate((X_test_A, X_test_B), y_test)\n",
    "y_pred = model.predict((X_new_A, X_new_B))"
   ]
  },
  {
   "cell_type": "markdown",
   "metadata": {},
   "source": [
    "Adding an auxiliary output for regularization:"
   ]
  },
  {
   "cell_type": "code",
   "execution_count": 58,
   "metadata": {},
   "outputs": [],
   "source": [
    "np.random.seed(42)\n",
    "tf.random.set_seed(42)"
   ]
  },
  {
   "cell_type": "code",
   "execution_count": 59,
   "metadata": {},
   "outputs": [],
   "source": [
    "# Define a model with the Functional API.\n",
    "# Notice the model has 1 main output, and 1 auxiliary output, couting to total loss with .9 and .1 weights.\n",
    "# The loss function is MSE for both output nodes.\n",
    "# Notice agan the optimizer used to update (improve iteratively) the model is SGD, with \n",
    "# constant learning rate 0.001.\n",
    "# Auxiliary output here may help making sure that part of the model learn and capture pattern from data. \n",
    "\n",
    "input_A = keras.layers.Input(shape=[5], name=\"wide_input\")\n",
    "input_B = keras.layers.Input(shape=[6], name=\"deep_input\")\n",
    "hidden1 = keras.layers.Dense(30, activation=\"relu\")(input_B)\n",
    "hidden2 = keras.layers.Dense(30, activation=\"relu\")(hidden1)\n",
    "concat = keras.layers.concatenate([input_A, hidden2])\n",
    "output = keras.layers.Dense(1, name=\"main_output\")(concat)\n",
    "aux_output = keras.layers.Dense(1, name=\"aux_output\")(hidden2)\n",
    "model = keras.models.Model(inputs=[input_A, input_B],\n",
    "                           outputs=[output, aux_output])"
   ]
  },
  {
   "cell_type": "code",
   "execution_count": 60,
   "metadata": {},
   "outputs": [],
   "source": [
    "model.compile(loss=[\"mse\", \"mse\"], loss_weights=[0.9, 0.1], optimizer=keras.optimizers.SGD(learning_rate=1e-3))"
   ]
  },
  {
   "cell_type": "code",
   "execution_count": 61,
   "metadata": {},
   "outputs": [
    {
     "name": "stdout",
     "output_type": "stream",
     "text": [
      "Epoch 1/20\n",
      "363/363 [==============================] - 1s 2ms/step - loss: 2.1365 - main_output_loss: 1.9196 - aux_output_loss: 4.0890 - val_loss: 1.6233 - val_main_output_loss: 0.8468 - val_aux_output_loss: 8.6117\n",
      "Epoch 2/20\n",
      "363/363 [==============================] - 0s 861us/step - loss: 0.8905 - main_output_loss: 0.6969 - aux_output_loss: 2.6326 - val_loss: 1.5163 - val_main_output_loss: 0.6836 - val_aux_output_loss: 9.0109\n",
      "Epoch 3/20\n",
      "363/363 [==============================] - 0s 861us/step - loss: 0.7429 - main_output_loss: 0.6088 - aux_output_loss: 1.9499 - val_loss: 1.4639 - val_main_output_loss: 0.6229 - val_aux_output_loss: 9.0326\n",
      "Epoch 4/20\n",
      "363/363 [==============================] - 0s 831us/step - loss: 0.6771 - main_output_loss: 0.5691 - aux_output_loss: 1.6485 - val_loss: 1.3388 - val_main_output_loss: 0.5481 - val_aux_output_loss: 8.4552\n",
      "Epoch 5/20\n",
      "363/363 [==============================] - 0s 861us/step - loss: 0.6381 - main_output_loss: 0.5434 - aux_output_loss: 1.4911 - val_loss: 1.2177 - val_main_output_loss: 0.5194 - val_aux_output_loss: 7.5030\n",
      "Epoch 6/20\n",
      "363/363 [==============================] - 0s 860us/step - loss: 0.6079 - main_output_loss: 0.5207 - aux_output_loss: 1.3923 - val_loss: 1.0935 - val_main_output_loss: 0.5106 - val_aux_output_loss: 6.3396\n",
      "Epoch 7/20\n",
      "363/363 [==============================] - 0s 861us/step - loss: 0.5853 - main_output_loss: 0.5040 - aux_output_loss: 1.3175 - val_loss: 0.9918 - val_main_output_loss: 0.5115 - val_aux_output_loss: 5.3151\n",
      "Epoch 8/20\n",
      "363/363 [==============================] - 0s 819us/step - loss: 0.5666 - main_output_loss: 0.4898 - aux_output_loss: 1.2572 - val_loss: 0.8733 - val_main_output_loss: 0.4733 - val_aux_output_loss: 4.4740\n",
      "Epoch 9/20\n",
      "363/363 [==============================] - 0s 817us/step - loss: 0.5504 - main_output_loss: 0.4771 - aux_output_loss: 1.2101 - val_loss: 0.7832 - val_main_output_loss: 0.4555 - val_aux_output_loss: 3.7323\n",
      "Epoch 10/20\n",
      "363/363 [==============================] - 0s 861us/step - loss: 0.5373 - main_output_loss: 0.4671 - aux_output_loss: 1.1695 - val_loss: 0.7170 - val_main_output_loss: 0.4604 - val_aux_output_loss: 3.0262\n",
      "Epoch 11/20\n",
      "363/363 [==============================] - 0s 807us/step - loss: 0.5266 - main_output_loss: 0.4591 - aux_output_loss: 1.1344 - val_loss: 0.6510 - val_main_output_loss: 0.4293 - val_aux_output_loss: 2.6468\n",
      "Epoch 12/20\n",
      "363/363 [==============================] - 0s 871us/step - loss: 0.5173 - main_output_loss: 0.4520 - aux_output_loss: 1.1048 - val_loss: 0.6051 - val_main_output_loss: 0.4310 - val_aux_output_loss: 2.1722\n",
      "Epoch 13/20\n",
      "363/363 [==============================] - 0s 861us/step - loss: 0.5095 - main_output_loss: 0.4465 - aux_output_loss: 1.0765 - val_loss: 0.5644 - val_main_output_loss: 0.4161 - val_aux_output_loss: 1.8992\n",
      "Epoch 14/20\n",
      "363/363 [==============================] - 0s 862us/step - loss: 0.5027 - main_output_loss: 0.4417 - aux_output_loss: 1.0511 - val_loss: 0.5354 - val_main_output_loss: 0.4119 - val_aux_output_loss: 1.6466\n",
      "Epoch 15/20\n",
      "363/363 [==============================] - 0s 861us/step - loss: 0.4967 - main_output_loss: 0.4376 - aux_output_loss: 1.0280 - val_loss: 0.5124 - val_main_output_loss: 0.4047 - val_aux_output_loss: 1.4812\n",
      "Epoch 16/20\n",
      "363/363 [==============================] - 0s 860us/step - loss: 0.4916 - main_output_loss: 0.4343 - aux_output_loss: 1.0070 - val_loss: 0.4934 - val_main_output_loss: 0.4034 - val_aux_output_loss: 1.3035\n",
      "Epoch 17/20\n",
      "363/363 [==============================] - 0s 861us/step - loss: 0.4867 - main_output_loss: 0.4311 - aux_output_loss: 0.9872 - val_loss: 0.4801 - val_main_output_loss: 0.3984 - val_aux_output_loss: 1.2150\n",
      "Epoch 18/20\n",
      "363/363 [==============================] - 0s 861us/step - loss: 0.4829 - main_output_loss: 0.4289 - aux_output_loss: 0.9686 - val_loss: 0.4694 - val_main_output_loss: 0.3962 - val_aux_output_loss: 1.1279\n",
      "Epoch 19/20\n",
      "363/363 [==============================] - 0s 861us/step - loss: 0.4785 - main_output_loss: 0.4260 - aux_output_loss: 0.9510 - val_loss: 0.4580 - val_main_output_loss: 0.3936 - val_aux_output_loss: 1.0372\n",
      "Epoch 20/20\n",
      "363/363 [==============================] - 0s 860us/step - loss: 0.4756 - main_output_loss: 0.4246 - aux_output_loss: 0.9344 - val_loss: 0.4655 - val_main_output_loss: 0.4048 - val_aux_output_loss: 1.0118\n"
     ]
    }
   ],
   "source": [
    "history = model.fit([X_train_A, X_train_B], [y_train, y_train], epochs=20,\n",
    "                    validation_data=([X_valid_A, X_valid_B], [y_valid, y_valid]))"
   ]
  },
  {
   "cell_type": "code",
   "execution_count": 62,
   "metadata": {},
   "outputs": [
    {
     "name": "stdout",
     "output_type": "stream",
     "text": [
      "162/162 [==============================] - 0s 676us/step - loss: 0.4668 - main_output_loss: 0.4178 - aux_output_loss: 0.9082\n",
      "WARNING:tensorflow:5 out of the last 6 calls to <function Model.make_predict_function.<locals>.predict_function at 0x000001596A353CA8> triggered tf.function retracing. Tracing is expensive and the excessive number of tracings could be due to (1) creating @tf.function repeatedly in a loop, (2) passing tensors with different shapes, (3) passing Python objects instead of tensors. For (1), please define your @tf.function outside of the loop. For (2), @tf.function has experimental_relax_shapes=True option that relaxes argument shapes that can avoid unnecessary retracing. For (3), please refer to https://www.tensorflow.org/tutorials/customization/performance#python_or_tensor_args and https://www.tensorflow.org/api_docs/python/tf/function for  more details.\n"
     ]
    }
   ],
   "source": [
    "total_loss, main_loss, aux_loss = model.evaluate(\n",
    "    [X_test_A, X_test_B], [y_test, y_test])\n",
    "y_pred_main, y_pred_aux = model.predict([X_new_A, X_new_B])"
   ]
  },
  {
   "cell_type": "markdown",
   "metadata": {},
   "source": [
    "# Saving and Restoring models"
   ]
  },
  {
   "cell_type": "code",
   "execution_count": 63,
   "metadata": {},
   "outputs": [],
   "source": [
    "np.random.seed(42)\n",
    "tf.random.set_seed(42)"
   ]
  },
  {
   "cell_type": "code",
   "execution_count": 64,
   "metadata": {},
   "outputs": [],
   "source": [
    "model = keras.models.Sequential([\n",
    "    keras.layers.Dense(30, activation=\"relu\", input_shape=[8]),\n",
    "    keras.layers.Dense(30, activation=\"relu\"),\n",
    "    keras.layers.Dense(1)\n",
    "])    "
   ]
  },
  {
   "cell_type": "code",
   "execution_count": 65,
   "metadata": {},
   "outputs": [
    {
     "name": "stdout",
     "output_type": "stream",
     "text": [
      "Epoch 1/10\n",
      "363/363 [==============================] - 0s 946us/step - loss: 1.8866 - val_loss: 0.7126\n",
      "Epoch 2/10\n",
      "363/363 [==============================] - 0s 745us/step - loss: 0.6577 - val_loss: 0.6880\n",
      "Epoch 3/10\n",
      "363/363 [==============================] - 0s 718us/step - loss: 0.5934 - val_loss: 0.5803\n",
      "Epoch 4/10\n",
      "363/363 [==============================] - 0s 661us/step - loss: 0.5557 - val_loss: 0.5166\n",
      "Epoch 5/10\n",
      "363/363 [==============================] - 0s 645us/step - loss: 0.5272 - val_loss: 0.4895\n",
      "Epoch 6/10\n",
      "363/363 [==============================] - 0s 703us/step - loss: 0.5033 - val_loss: 0.4951\n",
      "Epoch 7/10\n",
      "363/363 [==============================] - 0s 716us/step - loss: 0.4854 - val_loss: 0.4861\n",
      "Epoch 8/10\n",
      "363/363 [==============================] - 0s 732us/step - loss: 0.4709 - val_loss: 0.4554\n",
      "Epoch 9/10\n",
      "363/363 [==============================] - 0s 689us/step - loss: 0.4578 - val_loss: 0.4413\n",
      "Epoch 10/10\n",
      "363/363 [==============================] - 0s 689us/step - loss: 0.4474 - val_loss: 0.4379\n",
      "162/162 [==============================] - 0s 480us/step - loss: 0.4382\n"
     ]
    }
   ],
   "source": [
    "model.compile(loss=\"mse\", optimizer=keras.optimizers.SGD(learning_rate=1e-3))\n",
    "history = model.fit(X_train, y_train, epochs=10, validation_data=(X_valid, y_valid))\n",
    "mse_test = model.evaluate(X_test, y_test)"
   ]
  },
  {
   "cell_type": "code",
   "execution_count": 66,
   "metadata": {},
   "outputs": [],
   "source": [
    "# Save the trained model in this file in HDF5 format (here extension .h5)\n",
    "\n",
    "model.save(\"my_keras_model.h5\")"
   ]
  },
  {
   "cell_type": "code",
   "execution_count": 67,
   "metadata": {},
   "outputs": [],
   "source": [
    "# Retrieve model from file\n",
    "\n",
    "model = keras.models.load_model(\"my_keras_model.h5\")"
   ]
  },
  {
   "cell_type": "code",
   "execution_count": 68,
   "metadata": {},
   "outputs": [
    {
     "name": "stdout",
     "output_type": "stream",
     "text": [
      "WARNING:tensorflow:6 out of the last 7 calls to <function Model.make_predict_function.<locals>.predict_function at 0x000001596B445288> triggered tf.function retracing. Tracing is expensive and the excessive number of tracings could be due to (1) creating @tf.function repeatedly in a loop, (2) passing tensors with different shapes, (3) passing Python objects instead of tensors. For (1), please define your @tf.function outside of the loop. For (2), @tf.function has experimental_relax_shapes=True option that relaxes argument shapes that can avoid unnecessary retracing. For (3), please refer to https://www.tensorflow.org/tutorials/customization/performance#python_or_tensor_args and https://www.tensorflow.org/api_docs/python/tf/function for  more details.\n"
     ]
    },
    {
     "data": {
      "text/plain": [
       "array([[0.5400237],\n",
       "       [1.6505971],\n",
       "       [3.0098243]], dtype=float32)"
      ]
     },
     "execution_count": 68,
     "metadata": {},
     "output_type": "execute_result"
    }
   ],
   "source": [
    "model.predict(X_new)"
   ]
  },
  {
   "cell_type": "code",
   "execution_count": 69,
   "metadata": {},
   "outputs": [],
   "source": [
    "# Saving model's weights\n",
    "\n",
    "model.save_weights(\"my_keras_weights.ckpt\")"
   ]
  },
  {
   "cell_type": "code",
   "execution_count": 70,
   "metadata": {},
   "outputs": [
    {
     "data": {
      "text/plain": [
       "<tensorflow.python.training.tracking.util.CheckpointLoadStatus at 0x1596b6c0748>"
      ]
     },
     "execution_count": 70,
     "metadata": {},
     "output_type": "execute_result"
    }
   ],
   "source": [
    "# Loading model's weights\n",
    "\n",
    "model.load_weights(\"my_keras_weights.ckpt\")"
   ]
  },
  {
   "cell_type": "markdown",
   "metadata": {},
   "source": [
    "# Using Callbacks during Training"
   ]
  },
  {
   "cell_type": "markdown",
   "metadata": {},
   "source": [
    "Callbacks are useful for multiple things, but mainly for early stopping to prevent overfitting of the model. "
   ]
  },
  {
   "cell_type": "code",
   "execution_count": 71,
   "metadata": {},
   "outputs": [],
   "source": [
    "keras.backend.clear_session()\n",
    "np.random.seed(42)\n",
    "tf.random.set_seed(42)"
   ]
  },
  {
   "cell_type": "code",
   "execution_count": 72,
   "metadata": {},
   "outputs": [],
   "source": [
    "model = keras.models.Sequential([\n",
    "    keras.layers.Dense(30, activation=\"relu\", input_shape=[8]),\n",
    "    keras.layers.Dense(30, activation=\"relu\"),\n",
    "    keras.layers.Dense(1)\n",
    "])    "
   ]
  },
  {
   "cell_type": "code",
   "execution_count": 73,
   "metadata": {},
   "outputs": [
    {
     "name": "stdout",
     "output_type": "stream",
     "text": [
      "Epoch 1/10\n",
      "363/363 [==============================] - 0s 1ms/step - loss: 1.8866 - val_loss: 0.7126\n",
      "Epoch 2/10\n",
      "363/363 [==============================] - 0s 1ms/step - loss: 0.6577 - val_loss: 0.6880\n",
      "Epoch 3/10\n",
      "363/363 [==============================] - 0s 731us/step - loss: 0.5934 - val_loss: 0.5803\n",
      "Epoch 4/10\n",
      "363/363 [==============================] - 0s 853us/step - loss: 0.5557 - val_loss: 0.5166\n",
      "Epoch 5/10\n",
      "363/363 [==============================] - 0s 829us/step - loss: 0.5272 - val_loss: 0.4895\n",
      "Epoch 6/10\n",
      "363/363 [==============================] - 0s 728us/step - loss: 0.5033 - val_loss: 0.4951\n",
      "Epoch 7/10\n",
      "363/363 [==============================] - 0s 1ms/step - loss: 0.4854 - val_loss: 0.4861\n",
      "Epoch 8/10\n",
      "363/363 [==============================] - 0s 837us/step - loss: 0.4709 - val_loss: 0.4554\n",
      "Epoch 9/10\n",
      "363/363 [==============================] - 0s 820us/step - loss: 0.4578 - val_loss: 0.4413\n",
      "Epoch 10/10\n",
      "363/363 [==============================] - 0s 817us/step - loss: 0.4474 - val_loss: 0.4379\n",
      "162/162 [==============================] - 0s 482us/step - loss: 0.4382\n"
     ]
    }
   ],
   "source": [
    "# We define a callback which will save the best model so far on the validation set, in a file my_keras_model.h5.\n",
    "# Once the number of iterations is finished, we can roll back the model to the best one found.\n",
    "\n",
    "model.compile(loss=\"mse\", optimizer=keras.optimizers.SGD(learning_rate=1e-3))\n",
    "checkpoint_cb = keras.callbacks.ModelCheckpoint(\"my_keras_model.h5\", save_best_only=True)\n",
    "history = model.fit(X_train, y_train, epochs=10,\n",
    "                    validation_data=(X_valid, y_valid),\n",
    "                    callbacks=[checkpoint_cb])\n",
    "model = keras.models.load_model(\"my_keras_model.h5\") # rollback to best model\n",
    "mse_test = model.evaluate(X_test, y_test)"
   ]
  },
  {
   "cell_type": "code",
   "execution_count": 74,
   "metadata": {},
   "outputs": [
    {
     "name": "stdout",
     "output_type": "stream",
     "text": [
      "Epoch 1/100\n",
      "363/363 [==============================] - 0s 1ms/step - loss: 0.4393 - val_loss: 0.4110\n",
      "Epoch 2/100\n",
      "363/363 [==============================] - 0s 692us/step - loss: 0.4315 - val_loss: 0.4266\n",
      "Epoch 3/100\n",
      "363/363 [==============================] - 0s 727us/step - loss: 0.4259 - val_loss: 0.3996\n",
      "Epoch 4/100\n",
      "363/363 [==============================] - 0s 733us/step - loss: 0.4201 - val_loss: 0.3939\n",
      "Epoch 5/100\n",
      "363/363 [==============================] - 0s 788us/step - loss: 0.4154 - val_loss: 0.3889\n",
      "Epoch 6/100\n",
      "363/363 [==============================] - 0s 718us/step - loss: 0.4111 - val_loss: 0.3866\n",
      "Epoch 7/100\n",
      "363/363 [==============================] - 0s 778us/step - loss: 0.4074 - val_loss: 0.3860\n",
      "Epoch 8/100\n",
      "363/363 [==============================] - 0s 728us/step - loss: 0.4040 - val_loss: 0.3793\n",
      "Epoch 9/100\n",
      "363/363 [==============================] - 0s 948us/step - loss: 0.4008 - val_loss: 0.3746\n",
      "Epoch 10/100\n",
      "363/363 [==============================] - 0s 731us/step - loss: 0.3976 - val_loss: 0.3723\n",
      "Epoch 11/100\n",
      "363/363 [==============================] - 0s 775us/step - loss: 0.3950 - val_loss: 0.3697\n",
      "Epoch 12/100\n",
      "363/363 [==============================] - 0s 731us/step - loss: 0.3923 - val_loss: 0.3669\n",
      "Epoch 13/100\n",
      "363/363 [==============================] - 0s 776us/step - loss: 0.3897 - val_loss: 0.3661\n",
      "Epoch 14/100\n",
      "363/363 [==============================] - 0s 750us/step - loss: 0.3874 - val_loss: 0.3631\n",
      "Epoch 15/100\n",
      "363/363 [==============================] - 0s 756us/step - loss: 0.3851 - val_loss: 0.3660\n",
      "Epoch 16/100\n",
      "363/363 [==============================] - 0s 732us/step - loss: 0.3829 - val_loss: 0.3625\n",
      "Epoch 17/100\n",
      "363/363 [==============================] - 0s 732us/step - loss: 0.3810 - val_loss: 0.3592\n",
      "Epoch 18/100\n",
      "363/363 [==============================] - 0s 774us/step - loss: 0.3788 - val_loss: 0.3563\n",
      "Epoch 19/100\n",
      "363/363 [==============================] - 0s 732us/step - loss: 0.3766 - val_loss: 0.3535\n",
      "Epoch 20/100\n",
      "363/363 [==============================] - 0s 732us/step - loss: 0.3750 - val_loss: 0.3709\n",
      "Epoch 21/100\n",
      "363/363 [==============================] - 0s 736us/step - loss: 0.3732 - val_loss: 0.3512\n",
      "Epoch 22/100\n",
      "363/363 [==============================] - 0s 684us/step - loss: 0.3715 - val_loss: 0.3699\n",
      "Epoch 23/100\n",
      "363/363 [==============================] - 0s 732us/step - loss: 0.3700 - val_loss: 0.3476\n",
      "Epoch 24/100\n",
      "363/363 [==============================] - 0s 733us/step - loss: 0.3685 - val_loss: 0.3561\n",
      "Epoch 25/100\n",
      "363/363 [==============================] - 0s 674us/step - loss: 0.3671 - val_loss: 0.3527\n",
      "Epoch 26/100\n",
      "363/363 [==============================] - 0s 750us/step - loss: 0.3658 - val_loss: 0.3700\n",
      "Epoch 27/100\n",
      "363/363 [==============================] - 0s 844us/step - loss: 0.3647 - val_loss: 0.3432\n",
      "Epoch 28/100\n",
      "363/363 [==============================] - 0s 860us/step - loss: 0.3635 - val_loss: 0.3592\n",
      "Epoch 29/100\n",
      "363/363 [==============================] - 0s 735us/step - loss: 0.3625 - val_loss: 0.3521\n",
      "Epoch 30/100\n",
      "363/363 [==============================] - 0s 687us/step - loss: 0.3613 - val_loss: 0.3626\n",
      "Epoch 31/100\n",
      "363/363 [==============================] - 0s 778us/step - loss: 0.3601 - val_loss: 0.3431\n",
      "Epoch 32/100\n",
      "363/363 [==============================] - 0s 681us/step - loss: 0.3589 - val_loss: 0.3765\n",
      "Epoch 33/100\n",
      "363/363 [==============================] - 0s 1ms/step - loss: 0.3584 - val_loss: 0.3374\n",
      "Epoch 34/100\n",
      "363/363 [==============================] - 0s 724us/step - loss: 0.3572 - val_loss: 0.3407\n",
      "Epoch 35/100\n",
      "363/363 [==============================] - 0s 699us/step - loss: 0.3563 - val_loss: 0.3614\n",
      "Epoch 36/100\n",
      "363/363 [==============================] - 0s 691us/step - loss: 0.3555 - val_loss: 0.3348\n",
      "Epoch 37/100\n",
      "363/363 [==============================] - 0s 732us/step - loss: 0.3546 - val_loss: 0.3573\n",
      "Epoch 38/100\n",
      "363/363 [==============================] - 0s 701us/step - loss: 0.3538 - val_loss: 0.3367\n",
      "Epoch 39/100\n",
      "363/363 [==============================] - 0s 719us/step - loss: 0.3530 - val_loss: 0.3425\n",
      "Epoch 40/100\n",
      "363/363 [==============================] - 0s 689us/step - loss: 0.3523 - val_loss: 0.3369\n",
      "Epoch 41/100\n",
      "363/363 [==============================] - 0s 689us/step - loss: 0.3515 - val_loss: 0.3515\n",
      "Epoch 42/100\n",
      "363/363 [==============================] - 0s 775us/step - loss: 0.3511 - val_loss: 0.3426\n",
      "Epoch 43/100\n",
      "363/363 [==============================] - 0s 711us/step - loss: 0.3500 - val_loss: 0.3677\n",
      "Epoch 44/100\n",
      "363/363 [==============================] - 0s 681us/step - loss: 0.3496 - val_loss: 0.3564\n",
      "Epoch 45/100\n",
      "363/363 [==============================] - 0s 761us/step - loss: 0.3490 - val_loss: 0.3336\n",
      "Epoch 46/100\n",
      "363/363 [==============================] - 0s 731us/step - loss: 0.3481 - val_loss: 0.3457\n",
      "Epoch 47/100\n",
      "363/363 [==============================] - 0s 673us/step - loss: 0.3478 - val_loss: 0.3433\n",
      "Epoch 48/100\n",
      "363/363 [==============================] - 0s 681us/step - loss: 0.3471 - val_loss: 0.3659\n",
      "Epoch 49/100\n",
      "363/363 [==============================] - 0s 786us/step - loss: 0.3466 - val_loss: 0.3286\n",
      "Epoch 50/100\n",
      "363/363 [==============================] - 0s 788us/step - loss: 0.3460 - val_loss: 0.3268\n",
      "Epoch 51/100\n",
      "363/363 [==============================] - 0s 732us/step - loss: 0.3454 - val_loss: 0.3439\n",
      "Epoch 52/100\n",
      "363/363 [==============================] - 0s 789us/step - loss: 0.3449 - val_loss: 0.3263\n",
      "Epoch 53/100\n",
      "363/363 [==============================] - 0s 716us/step - loss: 0.3444 - val_loss: 0.3910\n",
      "Epoch 54/100\n",
      "363/363 [==============================] - 0s 690us/step - loss: 0.3439 - val_loss: 0.3275\n",
      "Epoch 55/100\n",
      "363/363 [==============================] - 0s 714us/step - loss: 0.3435 - val_loss: 0.3561\n",
      "Epoch 56/100\n",
      "363/363 [==============================] - 0s 749us/step - loss: 0.3430 - val_loss: 0.3237\n",
      "Epoch 57/100\n",
      "363/363 [==============================] - 0s 774us/step - loss: 0.3423 - val_loss: 0.3242\n",
      "Epoch 58/100\n",
      "363/363 [==============================] - 0s 726us/step - loss: 0.3419 - val_loss: 0.3765\n",
      "Epoch 59/100\n",
      "363/363 [==============================] - 0s 681us/step - loss: 0.3417 - val_loss: 0.3289\n",
      "Epoch 60/100\n",
      "363/363 [==============================] - 0s 702us/step - loss: 0.3410 - val_loss: 0.3502\n",
      "Epoch 61/100\n",
      "363/363 [==============================] - 0s 775us/step - loss: 0.3404 - val_loss: 0.3456\n",
      "Epoch 62/100\n",
      "363/363 [==============================] - 0s 726us/step - loss: 0.3402 - val_loss: 0.3445\n",
      "Epoch 63/100\n",
      "363/363 [==============================] - 0s 694us/step - loss: 0.3392 - val_loss: 0.3290\n",
      "Epoch 64/100\n",
      "363/363 [==============================] - 0s 856us/step - loss: 0.3393 - val_loss: 0.3217\n",
      "Epoch 65/100\n",
      "363/363 [==============================] - 0s 731us/step - loss: 0.3387 - val_loss: 0.3351\n",
      "Epoch 66/100\n",
      "363/363 [==============================] - 0s 695us/step - loss: 0.3383 - val_loss: 0.3232\n",
      "Epoch 67/100\n",
      "363/363 [==============================] - 0s 711us/step - loss: 0.3376 - val_loss: 0.3566\n",
      "Epoch 68/100\n",
      "363/363 [==============================] - 0s 747us/step - loss: 0.3374 - val_loss: 0.3257\n",
      "Epoch 69/100\n",
      "363/363 [==============================] - 0s 689us/step - loss: 0.3370 - val_loss: 0.3348\n",
      "Epoch 70/100\n",
      "363/363 [==============================] - 0s 684us/step - loss: 0.3365 - val_loss: 0.3560\n",
      "Epoch 71/100\n",
      "363/363 [==============================] - 0s 675us/step - loss: 0.3361 - val_loss: 0.3583\n",
      "Epoch 72/100\n",
      "363/363 [==============================] - 0s 699us/step - loss: 0.3357 - val_loss: 0.3287\n",
      "Epoch 73/100\n",
      "363/363 [==============================] - 0s 724us/step - loss: 0.3351 - val_loss: 0.3203\n",
      "Epoch 74/100\n",
      "363/363 [==============================] - 0s 699us/step - loss: 0.3350 - val_loss: 0.3840\n",
      "Epoch 75/100\n",
      "363/363 [==============================] - 0s 681us/step - loss: 0.3347 - val_loss: 0.3233\n",
      "Epoch 76/100\n",
      "363/363 [==============================] - 0s 742us/step - loss: 0.3342 - val_loss: 0.3476\n",
      "Epoch 77/100\n",
      "363/363 [==============================] - 0s 681us/step - loss: 0.3338 - val_loss: 0.3407\n",
      "Epoch 78/100\n",
      "363/363 [==============================] - 0s 699us/step - loss: 0.3335 - val_loss: 0.3462\n",
      "Epoch 79/100\n",
      "363/363 [==============================] - 0s 681us/step - loss: 0.3332 - val_loss: 0.3347\n"
     ]
    },
    {
     "name": "stdout",
     "output_type": "stream",
     "text": [
      "Epoch 80/100\n",
      "363/363 [==============================] - 0s 699us/step - loss: 0.3329 - val_loss: 0.3354\n",
      "Epoch 81/100\n",
      "363/363 [==============================] - 0s 742us/step - loss: 0.3324 - val_loss: 0.3274\n",
      "Epoch 82/100\n",
      "363/363 [==============================] - 0s 725us/step - loss: 0.3320 - val_loss: 0.3167\n",
      "Epoch 83/100\n",
      "363/363 [==============================] - 0s 699us/step - loss: 0.3317 - val_loss: 0.3280\n",
      "Epoch 84/100\n",
      "363/363 [==============================] - 0s 681us/step - loss: 0.3312 - val_loss: 0.3634\n",
      "Epoch 85/100\n",
      "363/363 [==============================] - 0s 656us/step - loss: 0.3310 - val_loss: 0.3176\n",
      "Epoch 86/100\n",
      "363/363 [==============================] - 0s 958us/step - loss: 0.3308 - val_loss: 0.3156\n",
      "Epoch 87/100\n",
      "363/363 [==============================] - 0s 828us/step - loss: 0.3305 - val_loss: 0.3529\n",
      "Epoch 88/100\n",
      "363/363 [==============================] - 0s 699us/step - loss: 0.3299 - val_loss: 0.3258\n",
      "Epoch 89/100\n",
      "363/363 [==============================] - 0s 688us/step - loss: 0.3294 - val_loss: 0.3630\n",
      "Epoch 90/100\n",
      "363/363 [==============================] - 0s 692us/step - loss: 0.3296 - val_loss: 0.3376\n",
      "Epoch 91/100\n",
      "363/363 [==============================] - 0s 724us/step - loss: 0.3291 - val_loss: 0.3211\n",
      "Epoch 92/100\n",
      "363/363 [==============================] - 0s 699us/step - loss: 0.3287 - val_loss: 0.3456\n",
      "Epoch 93/100\n",
      "363/363 [==============================] - 0s 638us/step - loss: 0.3285 - val_loss: 0.3158\n",
      "Epoch 94/100\n",
      "363/363 [==============================] - 0s 699us/step - loss: 0.3281 - val_loss: 0.3409\n",
      "Epoch 95/100\n",
      "363/363 [==============================] - 0s 699us/step - loss: 0.3276 - val_loss: 0.3379\n",
      "Epoch 96/100\n",
      "363/363 [==============================] - 0s 695us/step - loss: 0.3273 - val_loss: 0.3213\n",
      "162/162 [==============================] - 0s 573us/step - loss: 0.3310\n"
     ]
    }
   ],
   "source": [
    "\n",
    "# Here we use another callback - for early stopping. \n",
    "# This will make the training stop if the loss doesn't significantly \n",
    "# improve for 10 epochs (see patience=10)\n",
    "\n",
    "model.compile(loss=\"mse\", optimizer=keras.optimizers.SGD(learning_rate=1e-3))\n",
    "early_stopping_cb = keras.callbacks.EarlyStopping(patience=10,\n",
    "                                                  restore_best_weights=True)\n",
    "history = model.fit(X_train, y_train, epochs=100,\n",
    "                    validation_data=(X_valid, y_valid),\n",
    "                    callbacks=[checkpoint_cb, early_stopping_cb])\n",
    "mse_test = model.evaluate(X_test, y_test)"
   ]
  },
  {
   "cell_type": "code",
   "execution_count": 75,
   "metadata": {},
   "outputs": [],
   "source": [
    "# You can customize your own callbacks as ilustrated here. \n",
    "# The new callback prints the ratio between the validation loss and training loss.\n",
    "# When this ratio starts to increase significantly over 1, it is a sign that the mdoel overfits,\n",
    "# because the training loss is significantly smaller than validaton loss.  \n",
    "\n",
    "class PrintValTrainRatioCallback(keras.callbacks.Callback):\n",
    "    def on_epoch_end(self, epoch, logs):\n",
    "        print(\"\\nval/train: {:.2f}\".format(logs[\"val_loss\"] / logs[\"loss\"]))"
   ]
  },
  {
   "cell_type": "code",
   "execution_count": 76,
   "metadata": {},
   "outputs": [
    {
     "name": "stdout",
     "output_type": "stream",
     "text": [
      "304/363 [========================>.....] - ETA: 0s - loss: 0.3296\n",
      "val/train: 1.08\n",
      "363/363 [==============================] - 0s 775us/step - loss: 0.3302 - val_loss: 0.3556\n"
     ]
    }
   ],
   "source": [
    "val_train_ratio_cb = PrintValTrainRatioCallback()\n",
    "history = model.fit(X_train, y_train, epochs=1,\n",
    "                    validation_data=(X_valid, y_valid),\n",
    "                    callbacks=[val_train_ratio_cb])"
   ]
  },
  {
   "cell_type": "markdown",
   "metadata": {},
   "source": [
    "# TensorBoard \n"
   ]
  },
  {
   "cell_type": "markdown",
   "metadata": {},
   "source": [
    "We now set the TensorBoard, which is a useful tool to monitor the model training and performance. It works by storing the details of the processing in log files in a specially created folder, and using those log files to display charts about the model training/ tuning. "
   ]
  },
  {
   "cell_type": "code",
   "execution_count": 77,
   "metadata": {},
   "outputs": [],
   "source": [
    "root_logdir = os.path.join(os.curdir, \"my_logs\")"
   ]
  },
  {
   "cell_type": "code",
   "execution_count": 78,
   "metadata": {},
   "outputs": [
    {
     "data": {
      "text/plain": [
       "'.\\\\my_logs\\\\run_2022_03_12-13_13_11'"
      ]
     },
     "execution_count": 78,
     "metadata": {},
     "output_type": "execute_result"
    }
   ],
   "source": [
    "def get_run_logdir():\n",
    "    import time\n",
    "    run_id = time.strftime(\"run_%Y_%m_%d-%H_%M_%S\")\n",
    "    return os.path.join(root_logdir, run_id)\n",
    "\n",
    "run_logdir = get_run_logdir()\n",
    "run_logdir"
   ]
  },
  {
   "cell_type": "code",
   "execution_count": 79,
   "metadata": {},
   "outputs": [],
   "source": [
    "keras.backend.clear_session()\n",
    "np.random.seed(42)\n",
    "tf.random.set_seed(42)"
   ]
  },
  {
   "cell_type": "code",
   "execution_count": 80,
   "metadata": {},
   "outputs": [],
   "source": [
    "model = keras.models.Sequential([\n",
    "    keras.layers.Dense(30, activation=\"relu\", input_shape=[8]),\n",
    "    keras.layers.Dense(30, activation=\"relu\"),\n",
    "    keras.layers.Dense(1)\n",
    "])    \n",
    "model.compile(loss=\"mse\", optimizer=keras.optimizers.SGD(learning_rate=1e-3))"
   ]
  },
  {
   "cell_type": "code",
   "execution_count": 81,
   "metadata": {},
   "outputs": [
    {
     "name": "stdout",
     "output_type": "stream",
     "text": [
      "Epoch 1/30\n",
      "  1/363 [..............................] - ETA: 0s - loss: 7.8215WARNING:tensorflow:From C:\\Users\\daniel\\.conda\\envs\\DM\\lib\\site-packages\\tensorflow\\python\\ops\\summary_ops_v2.py:1277: stop (from tensorflow.python.eager.profiler) is deprecated and will be removed after 2020-07-01.\n",
      "Instructions for updating:\n",
      "use `tf.profiler.experimental.stop` instead.\n",
      "  2/363 [..............................] - ETA: 48s - loss: 7.0195WARNING:tensorflow:Callbacks method `on_train_batch_end` is slow compared to the batch time (batch time: 0.0000s vs `on_train_batch_end` time: 0.2814s). Check your callbacks.\n",
      "363/363 [==============================] - 1s 2ms/step - loss: 1.8866 - val_loss: 0.7126\n",
      "Epoch 2/30\n",
      "363/363 [==============================] - 0s 990us/step - loss: 0.6577 - val_loss: 0.6880\n",
      "Epoch 3/30\n",
      "363/363 [==============================] - 0s 1ms/step - loss: 0.5934 - val_loss: 0.5803\n",
      "Epoch 4/30\n",
      "363/363 [==============================] - 1s 1ms/step - loss: 0.5557 - val_loss: 0.5166\n",
      "Epoch 5/30\n",
      "363/363 [==============================] - 0s 942us/step - loss: 0.5272 - val_loss: 0.4895\n",
      "Epoch 6/30\n",
      "363/363 [==============================] - 0s 863us/step - loss: 0.5033 - val_loss: 0.4951\n",
      "Epoch 7/30\n",
      "363/363 [==============================] - 0s 1ms/step - loss: 0.4854 - val_loss: 0.4861\n",
      "Epoch 8/30\n",
      "363/363 [==============================] - 0s 854us/step - loss: 0.4709 - val_loss: 0.4554\n",
      "Epoch 9/30\n",
      "363/363 [==============================] - 0s 1ms/step - loss: 0.4578 - val_loss: 0.4413\n",
      "Epoch 10/30\n",
      "363/363 [==============================] - 0s 816us/step - loss: 0.4474 - val_loss: 0.4379\n",
      "Epoch 11/30\n",
      "363/363 [==============================] - 0s 772us/step - loss: 0.4393 - val_loss: 0.4396\n",
      "Epoch 12/30\n",
      "363/363 [==============================] - 0s 933us/step - loss: 0.4318 - val_loss: 0.4507\n",
      "Epoch 13/30\n",
      "363/363 [==============================] - 0s 811us/step - loss: 0.4261 - val_loss: 0.3997\n",
      "Epoch 14/30\n",
      "363/363 [==============================] - 0s 889us/step - loss: 0.4202 - val_loss: 0.3956\n",
      "Epoch 15/30\n",
      "363/363 [==============================] - 0s 958us/step - loss: 0.4155 - val_loss: 0.3916\n",
      "Epoch 16/30\n",
      "363/363 [==============================] - 0s 932us/step - loss: 0.4112 - val_loss: 0.3937\n",
      "Epoch 17/30\n",
      "363/363 [==============================] - 0s 914us/step - loss: 0.4077 - val_loss: 0.3809\n",
      "Epoch 18/30\n",
      "363/363 [==============================] - 0s 834us/step - loss: 0.4040 - val_loss: 0.3793\n",
      "Epoch 19/30\n",
      "363/363 [==============================] - 0s 909us/step - loss: 0.4004 - val_loss: 0.3850\n",
      "Epoch 20/30\n",
      "363/363 [==============================] - 0s 830us/step - loss: 0.3980 - val_loss: 0.3809\n",
      "Epoch 21/30\n",
      "363/363 [==============================] - 0s 888us/step - loss: 0.3949 - val_loss: 0.3701\n",
      "Epoch 22/30\n",
      "363/363 [==============================] - 0s 914us/step - loss: 0.3924 - val_loss: 0.3781\n",
      "Epoch 23/30\n",
      "363/363 [==============================] - 0s 912us/step - loss: 0.3898 - val_loss: 0.3650\n",
      "Epoch 24/30\n",
      "363/363 [==============================] - 0s 816us/step - loss: 0.3874 - val_loss: 0.3655\n",
      "Epoch 25/30\n",
      "363/363 [==============================] - 0s 860us/step - loss: 0.3851 - val_loss: 0.3611\n",
      "Epoch 26/30\n",
      "363/363 [==============================] - 0s 827us/step - loss: 0.3829 - val_loss: 0.3626\n",
      "Epoch 27/30\n",
      "363/363 [==============================] - 0s 856us/step - loss: 0.3809 - val_loss: 0.3564\n",
      "Epoch 28/30\n",
      "363/363 [==============================] - 0s 861us/step - loss: 0.3788 - val_loss: 0.3579\n",
      "Epoch 29/30\n",
      "363/363 [==============================] - ETA: 0s - loss: 0.374 - 0s 860us/step - loss: 0.3769 - val_loss: 0.3561\n",
      "Epoch 30/30\n",
      "363/363 [==============================] - 0s 923us/step - loss: 0.3750 - val_loss: 0.3548\n"
     ]
    }
   ],
   "source": [
    "# We use a TensorBoard callback to store details on performances of the model during its tuning\n",
    "\n",
    "tensorboard_cb = keras.callbacks.TensorBoard(run_logdir)\n",
    "history = model.fit(X_train, y_train, epochs=30,\n",
    "                    validation_data=(X_valid, y_valid),\n",
    "                    callbacks=[checkpoint_cb, tensorboard_cb])"
   ]
  },
  {
   "cell_type": "markdown",
   "metadata": {},
   "source": [
    "To start the TensorBoard server, one option is to open a terminal, if needed activate the virtualenv where you installed TensorBoard, go to this notebook's directory, then type:\n",
    "\n",
    "```bash\n",
    "$ tensorboard --logdir=./my_logs --port=6006\n",
    "```\n",
    "\n",
    "You can then open your web browser to [localhost:6006](http://localhost:6006) and use TensorBoard. Once you are done, press Ctrl-C in the terminal window, this will shutdown the TensorBoard server.\n",
    "\n",
    "Alternatively, you can load TensorBoard's Jupyter extension and run it like this:"
   ]
  },
  {
   "cell_type": "code",
   "execution_count": 82,
   "metadata": {},
   "outputs": [
    {
     "data": {
      "text/plain": [
       "Reusing TensorBoard on port 6006 (pid 5052), started 0:37:19 ago. (Use '!kill 5052' to kill it.)"
      ]
     },
     "metadata": {},
     "output_type": "display_data"
    },
    {
     "data": {
      "text/html": [
       "\n",
       "      <iframe id=\"tensorboard-frame-6ab56aebfb127ebb\" width=\"100%\" height=\"800\" frameborder=\"0\">\n",
       "      </iframe>\n",
       "      <script>\n",
       "        (function() {\n",
       "          const frame = document.getElementById(\"tensorboard-frame-6ab56aebfb127ebb\");\n",
       "          const url = new URL(\"/\", window.location);\n",
       "          const port = 6006;\n",
       "          if (port) {\n",
       "            url.port = port;\n",
       "          }\n",
       "          frame.src = url;\n",
       "        })();\n",
       "      </script>\n",
       "    "
      ],
      "text/plain": [
       "<IPython.core.display.HTML object>"
      ]
     },
     "metadata": {},
     "output_type": "display_data"
    }
   ],
   "source": [
    "%load_ext tensorboard\n",
    "%tensorboard --logdir=./my_logs --port=6006"
   ]
  },
  {
   "cell_type": "code",
   "execution_count": 83,
   "metadata": {},
   "outputs": [
    {
     "data": {
      "text/plain": [
       "'.\\\\my_logs\\\\run_2022_03_12-13_13_22'"
      ]
     },
     "execution_count": 83,
     "metadata": {},
     "output_type": "execute_result"
    }
   ],
   "source": [
    "run_logdir2 = get_run_logdir()\n",
    "run_logdir2"
   ]
  },
  {
   "cell_type": "code",
   "execution_count": 84,
   "metadata": {},
   "outputs": [],
   "source": [
    "keras.backend.clear_session()\n",
    "np.random.seed(42)\n",
    "tf.random.set_seed(42)"
   ]
  },
  {
   "cell_type": "code",
   "execution_count": 85,
   "metadata": {},
   "outputs": [],
   "source": [
    "model = keras.models.Sequential([\n",
    "    keras.layers.Dense(30, activation=\"relu\", input_shape=[8]),\n",
    "    keras.layers.Dense(30, activation=\"relu\"),\n",
    "    keras.layers.Dense(1)\n",
    "])    \n",
    "model.compile(loss=\"mse\", optimizer=keras.optimizers.SGD(learning_rate=0.05))"
   ]
  },
  {
   "cell_type": "code",
   "execution_count": 86,
   "metadata": {},
   "outputs": [
    {
     "name": "stdout",
     "output_type": "stream",
     "text": [
      "Epoch 1/30\n",
      "  2/363 [..............................] - ETA: 1:56 - loss: 5.0901WARNING:tensorflow:Callbacks method `on_train_batch_end` is slow compared to the batch time (batch time: 0.0000s vs `on_train_batch_end` time: 0.6472s). Check your callbacks.\n",
      "363/363 [==============================] - 1s 3ms/step - loss: 0.5530 - val_loss: 302.8536\n",
      "Epoch 2/30\n",
      "363/363 [==============================] - 0s 899us/step - loss: 5292745216.0000 - val_loss: 1.3230\n",
      "Epoch 3/30\n",
      "363/363 [==============================] - 0s 908us/step - loss: 1.3411 - val_loss: 1.3176\n",
      "Epoch 4/30\n",
      "363/363 [==============================] - 0s 987us/step - loss: 1.3423 - val_loss: 1.3261\n",
      "Epoch 5/30\n",
      "363/363 [==============================] - 0s 899us/step - loss: 1.3423 - val_loss: 1.3154\n",
      "Epoch 6/30\n",
      "363/363 [==============================] - 0s 908us/step - loss: 1.3431 - val_loss: 1.3203\n",
      "Epoch 7/30\n",
      "363/363 [==============================] - 0s 946us/step - loss: 1.3425 - val_loss: 1.3149\n",
      "Epoch 8/30\n",
      "363/363 [==============================] - 0s 904us/step - loss: 1.3433 - val_loss: 1.3157\n",
      "Epoch 9/30\n",
      "363/363 [==============================] - 0s 905us/step - loss: 1.3435 - val_loss: 1.3150\n",
      "Epoch 10/30\n",
      "363/363 [==============================] - 0s 903us/step - loss: 1.3423 - val_loss: 1.3172\n",
      "Epoch 11/30\n",
      "363/363 [==============================] - 0s 910us/step - loss: 1.3432 - val_loss: 1.3174\n",
      "Epoch 12/30\n",
      "363/363 [==============================] - 0s 870us/step - loss: 1.3426 - val_loss: 1.3150\n",
      "Epoch 13/30\n",
      "363/363 [==============================] - 0s 861us/step - loss: 1.3422 - val_loss: 1.3270\n",
      "Epoch 14/30\n",
      "363/363 [==============================] - 0s 904us/step - loss: 1.3430 - val_loss: 1.3195\n",
      "Epoch 15/30\n",
      "363/363 [==============================] - 0s 904us/step - loss: 1.3426 - val_loss: 1.3157\n",
      "Epoch 16/30\n",
      "363/363 [==============================] - 0s 927us/step - loss: 1.3422 - val_loss: 1.3182\n",
      "Epoch 17/30\n",
      "363/363 [==============================] - 0s 861us/step - loss: 1.3429 - val_loss: 1.3223\n",
      "Epoch 18/30\n",
      "363/363 [==============================] - 0s 861us/step - loss: 1.3422 - val_loss: 1.3154\n",
      "Epoch 19/30\n",
      "363/363 [==============================] - 0s 818us/step - loss: 1.3421 - val_loss: 1.3168\n",
      "Epoch 20/30\n",
      "363/363 [==============================] - 0s 862us/step - loss: 1.3430 - val_loss: 1.3151\n",
      "Epoch 21/30\n",
      "363/363 [==============================] - 0s 948us/step - loss: 1.3418 - val_loss: 1.3174\n",
      "Epoch 22/30\n",
      "363/363 [==============================] - 0s 868us/step - loss: 1.3424 - val_loss: 1.3204\n",
      "Epoch 23/30\n",
      "363/363 [==============================] - 0s 853us/step - loss: 1.3420 - val_loss: 1.3164\n",
      "Epoch 24/30\n",
      "363/363 [==============================] - 0s 812us/step - loss: 1.3429 - val_loss: 1.3157\n",
      "Epoch 25/30\n",
      "363/363 [==============================] - 0s 871us/step - loss: 1.3422 - val_loss: 1.3180\n",
      "Epoch 26/30\n",
      "363/363 [==============================] - 0s 931us/step - loss: 1.3425 - val_loss: 1.3195\n",
      "Epoch 27/30\n",
      "363/363 [==============================] - 0s 831us/step - loss: 1.3422 - val_loss: 1.3157\n",
      "Epoch 28/30\n",
      "363/363 [==============================] - 0s 861us/step - loss: 1.3425 - val_loss: 1.3222\n",
      "Epoch 29/30\n",
      "363/363 [==============================] - 0s 834us/step - loss: 1.3431 - val_loss: 1.3267\n",
      "Epoch 30/30\n",
      "363/363 [==============================] - 0s 827us/step - loss: 1.3424 - val_loss: 1.3174\n"
     ]
    }
   ],
   "source": [
    "tensorboard_cb = keras.callbacks.TensorBoard(run_logdir2)\n",
    "history = model.fit(X_train, y_train, epochs=30,\n",
    "                    validation_data=(X_valid, y_valid),\n",
    "                    callbacks=[checkpoint_cb, tensorboard_cb])"
   ]
  },
  {
   "cell_type": "markdown",
   "metadata": {},
   "source": [
    "Notice how TensorBoard now sees two runs, and you can compare the learning curves."
   ]
  },
  {
   "cell_type": "markdown",
   "metadata": {},
   "source": [
    "Check out the other available logging options:"
   ]
  },
  {
   "cell_type": "code",
   "execution_count": 87,
   "metadata": {},
   "outputs": [
    {
     "name": "stdout",
     "output_type": "stream",
     "text": [
      "Help on function __init__ in module tensorflow.python.keras.callbacks:\n",
      "\n",
      "__init__(self, log_dir='logs', histogram_freq=0, write_graph=True, write_images=False, update_freq='epoch', profile_batch=2, embeddings_freq=0, embeddings_metadata=None, **kwargs)\n",
      "    Initialize self.  See help(type(self)) for accurate signature.\n",
      "\n"
     ]
    }
   ],
   "source": [
    "help(keras.callbacks.TensorBoard.__init__)"
   ]
  },
  {
   "cell_type": "markdown",
   "metadata": {},
   "source": [
    "# Hyperparameter Tuning"
   ]
  },
  {
   "cell_type": "markdown",
   "metadata": {},
   "source": [
    "This illustrated the process of wrapping the neural net model in sklearn, to be able to tune it in the same way as for other algos in sklearn."
   ]
  },
  {
   "cell_type": "code",
   "execution_count": 88,
   "metadata": {},
   "outputs": [],
   "source": [
    "keras.backend.clear_session()\n",
    "np.random.seed(42)\n",
    "tf.random.set_seed(42)"
   ]
  },
  {
   "cell_type": "code",
   "execution_count": 89,
   "metadata": {},
   "outputs": [],
   "source": [
    "# Define a function producing a neural net model\n",
    "\n",
    "def build_model(n_hidden=1, n_neurons=30, learning_rate=3e-3, input_shape=[8]):\n",
    "    model = keras.models.Sequential()\n",
    "    model.add(keras.layers.InputLayer(input_shape=input_shape))\n",
    "    for layer in range(n_hidden):\n",
    "        model.add(keras.layers.Dense(n_neurons, activation=\"relu\"))\n",
    "    model.add(keras.layers.Dense(1))\n",
    "    optimizer = keras.optimizers.SGD(learning_rate=learning_rate)\n",
    "    model.compile(loss=\"mse\", optimizer=optimizer)\n",
    "    return model"
   ]
  },
  {
   "cell_type": "code",
   "execution_count": 90,
   "metadata": {},
   "outputs": [],
   "source": [
    "# Wrap the mdoel in sklearn\n",
    "\n",
    "keras_reg = keras.wrappers.scikit_learn.KerasRegressor(build_model)"
   ]
  },
  {
   "cell_type": "code",
   "execution_count": 91,
   "metadata": {},
   "outputs": [
    {
     "name": "stdout",
     "output_type": "stream",
     "text": [
      "Epoch 1/100\n",
      "363/363 [==============================] - 0s 943us/step - loss: 1.0896 - val_loss: 20.7721\n",
      "Epoch 2/100\n",
      "363/363 [==============================] - 0s 732us/step - loss: 0.7606 - val_loss: 5.0266\n",
      "Epoch 3/100\n",
      "363/363 [==============================] - 0s 689us/step - loss: 0.5456 - val_loss: 0.5490\n",
      "Epoch 4/100\n",
      "363/363 [==============================] - 0s 668us/step - loss: 0.4732 - val_loss: 0.4529\n",
      "Epoch 5/100\n",
      "363/363 [==============================] - 0s 709us/step - loss: 0.4503 - val_loss: 0.4188\n",
      "Epoch 6/100\n",
      "363/363 [==============================] - 0s 732us/step - loss: 0.4338 - val_loss: 0.4129\n",
      "Epoch 7/100\n",
      "363/363 [==============================] - 0s 689us/step - loss: 0.4241 - val_loss: 0.4004\n",
      "Epoch 8/100\n",
      "363/363 [==============================] - 0s 731us/step - loss: 0.4168 - val_loss: 0.3944\n",
      "Epoch 9/100\n",
      "363/363 [==============================] - 0s 646us/step - loss: 0.4108 - val_loss: 0.3961\n",
      "Epoch 10/100\n",
      "363/363 [==============================] - 0s 638us/step - loss: 0.4060 - val_loss: 0.4071\n",
      "Epoch 11/100\n",
      "363/363 [==============================] - 0s 660us/step - loss: 0.4021 - val_loss: 0.3855\n",
      "Epoch 12/100\n",
      "363/363 [==============================] - 0s 690us/step - loss: 0.3984 - val_loss: 0.4136\n",
      "Epoch 13/100\n",
      "363/363 [==============================] - 0s 645us/step - loss: 0.3951 - val_loss: 0.3997\n",
      "Epoch 14/100\n",
      "363/363 [==============================] - 0s 677us/step - loss: 0.3921 - val_loss: 0.3818\n",
      "Epoch 15/100\n",
      "363/363 [==============================] - 0s 658us/step - loss: 0.3894 - val_loss: 0.3829\n",
      "Epoch 16/100\n",
      "363/363 [==============================] - 0s 645us/step - loss: 0.3869 - val_loss: 0.3739\n",
      "Epoch 17/100\n",
      "363/363 [==============================] - 0s 657us/step - loss: 0.3848 - val_loss: 0.4022\n",
      "Epoch 18/100\n",
      "363/363 [==============================] - 0s 689us/step - loss: 0.3829 - val_loss: 0.3873\n",
      "Epoch 19/100\n",
      "363/363 [==============================] - 0s 627us/step - loss: 0.3807 - val_loss: 0.3768\n",
      "Epoch 20/100\n",
      "363/363 [==============================] - 0s 681us/step - loss: 0.3791 - val_loss: 0.4191\n",
      "Epoch 21/100\n",
      "363/363 [==============================] - 0s 671us/step - loss: 0.3774 - val_loss: 0.3927\n",
      "Epoch 22/100\n",
      "363/363 [==============================] - 0s 688us/step - loss: 0.3756 - val_loss: 0.4237\n",
      "Epoch 23/100\n",
      "363/363 [==============================] - 0s 658us/step - loss: 0.3742 - val_loss: 0.3523\n",
      "Epoch 24/100\n",
      "363/363 [==============================] - 0s 638us/step - loss: 0.3725 - val_loss: 0.3842\n",
      "Epoch 25/100\n",
      "363/363 [==============================] - 0s 667us/step - loss: 0.3710 - val_loss: 0.4162\n",
      "Epoch 26/100\n",
      "363/363 [==============================] - 0s 689us/step - loss: 0.3700 - val_loss: 0.3980\n",
      "Epoch 27/100\n",
      "363/363 [==============================] - 0s 688us/step - loss: 0.3691 - val_loss: 0.3474\n",
      "Epoch 28/100\n",
      "363/363 [==============================] - 0s 645us/step - loss: 0.3677 - val_loss: 0.3920\n",
      "Epoch 29/100\n",
      "363/363 [==============================] - 0s 689us/step - loss: 0.3670 - val_loss: 0.3566\n",
      "Epoch 30/100\n",
      "363/363 [==============================] - 0s 672us/step - loss: 0.3653 - val_loss: 0.4191\n",
      "Epoch 31/100\n",
      "363/363 [==============================] - 0s 638us/step - loss: 0.3647 - val_loss: 0.3721\n",
      "Epoch 32/100\n",
      "363/363 [==============================] - 0s 670us/step - loss: 0.3633 - val_loss: 0.3948\n",
      "Epoch 33/100\n",
      "363/363 [==============================] - 0s 688us/step - loss: 0.3632 - val_loss: 0.3423\n",
      "Epoch 34/100\n",
      "363/363 [==============================] - 0s 675us/step - loss: 0.3617 - val_loss: 0.3453\n",
      "Epoch 35/100\n",
      "363/363 [==============================] - 0s 703us/step - loss: 0.3610 - val_loss: 0.4068\n",
      "Epoch 36/100\n",
      "363/363 [==============================] - 0s 675us/step - loss: 0.3608 - val_loss: 0.3417\n",
      "Epoch 37/100\n",
      "363/363 [==============================] - 0s 688us/step - loss: 0.3596 - val_loss: 0.3787\n",
      "Epoch 38/100\n",
      "363/363 [==============================] - 0s 689us/step - loss: 0.3589 - val_loss: 0.3379\n",
      "Epoch 39/100\n",
      "363/363 [==============================] - 0s 689us/step - loss: 0.3582 - val_loss: 0.3419\n",
      "Epoch 40/100\n",
      "363/363 [==============================] - 0s 633us/step - loss: 0.3572 - val_loss: 0.3705\n",
      "Epoch 41/100\n",
      "363/363 [==============================] - 0s 681us/step - loss: 0.3570 - val_loss: 0.3659\n",
      "Epoch 42/100\n",
      "363/363 [==============================] - 0s 656us/step - loss: 0.3563 - val_loss: 0.3803\n",
      "Epoch 43/100\n",
      "363/363 [==============================] - 0s 681us/step - loss: 0.3552 - val_loss: 0.3765\n",
      "Epoch 44/100\n",
      "363/363 [==============================] - 0s 638us/step - loss: 0.3548 - val_loss: 0.3814\n",
      "Epoch 45/100\n",
      "363/363 [==============================] - 0s 699us/step - loss: 0.3543 - val_loss: 0.3326\n",
      "Epoch 46/100\n",
      "363/363 [==============================] - 0s 681us/step - loss: 0.3532 - val_loss: 0.3385\n",
      "Epoch 47/100\n",
      "363/363 [==============================] - 0s 656us/step - loss: 0.3527 - val_loss: 0.3655\n",
      "Epoch 48/100\n",
      "363/363 [==============================] - 0s 638us/step - loss: 0.3521 - val_loss: 0.3579\n",
      "Epoch 49/100\n",
      "363/363 [==============================] - 0s 699us/step - loss: 0.3525 - val_loss: 0.3360\n",
      "Epoch 50/100\n",
      "363/363 [==============================] - 0s 638us/step - loss: 0.3510 - val_loss: 0.3318\n",
      "Epoch 51/100\n",
      "363/363 [==============================] - 0s 638us/step - loss: 0.3504 - val_loss: 0.3562\n",
      "Epoch 52/100\n",
      "363/363 [==============================] - 0s 656us/step - loss: 0.3502 - val_loss: 0.3520\n",
      "Epoch 53/100\n",
      "363/363 [==============================] - 0s 656us/step - loss: 0.3496 - val_loss: 0.4579\n",
      "Epoch 54/100\n",
      "363/363 [==============================] - 0s 663us/step - loss: 0.3497 - val_loss: 0.3808\n",
      "Epoch 55/100\n",
      "363/363 [==============================] - 0s 715us/step - loss: 0.3490 - val_loss: 0.3539\n",
      "Epoch 56/100\n",
      "363/363 [==============================] - 0s 685us/step - loss: 0.3485 - val_loss: 0.3723\n",
      "Epoch 57/100\n",
      "363/363 [==============================] - 0s 693us/step - loss: 0.3479 - val_loss: 0.3336\n",
      "Epoch 58/100\n",
      "363/363 [==============================] - 0s 685us/step - loss: 0.3469 - val_loss: 0.4011\n",
      "Epoch 59/100\n",
      "363/363 [==============================] - 0s 692us/step - loss: 0.3475 - val_loss: 0.3264\n",
      "Epoch 60/100\n",
      "363/363 [==============================] - 0s 646us/step - loss: 0.3465 - val_loss: 0.3271\n",
      "Epoch 61/100\n",
      "363/363 [==============================] - 0s 690us/step - loss: 0.3452 - val_loss: 0.3346\n",
      "Epoch 62/100\n",
      "363/363 [==============================] - 0s 645us/step - loss: 0.3453 - val_loss: 0.3493\n",
      "Epoch 63/100\n",
      "363/363 [==============================] - 0s 688us/step - loss: 0.3444 - val_loss: 0.3402\n",
      "Epoch 64/100\n",
      "363/363 [==============================] - 0s 689us/step - loss: 0.3450 - val_loss: 0.3275\n",
      "Epoch 65/100\n",
      "363/363 [==============================] - 0s 673us/step - loss: 0.3437 - val_loss: 0.3296\n",
      "Epoch 66/100\n",
      "363/363 [==============================] - 0s 662us/step - loss: 0.3431 - val_loss: 0.3307\n",
      "Epoch 67/100\n",
      "363/363 [==============================] - 0s 717us/step - loss: 0.3428 - val_loss: 0.3252\n",
      "Epoch 68/100\n",
      "363/363 [==============================] - 0s 660us/step - loss: 0.3423 - val_loss: 0.3242\n",
      "Epoch 69/100\n",
      "363/363 [==============================] - 0s 674us/step - loss: 0.3419 - val_loss: 0.3254\n",
      "Epoch 70/100\n",
      "363/363 [==============================] - 0s 702us/step - loss: 0.3413 - val_loss: 0.3672\n",
      "Epoch 71/100\n",
      "363/363 [==============================] - 0s 676us/step - loss: 0.3414 - val_loss: 0.3375\n",
      "Epoch 72/100\n",
      "363/363 [==============================] - ETA: 0s - loss: 0.333 - 0s 659us/step - loss: 0.3405 - val_loss: 0.3271\n",
      "Epoch 73/100\n",
      "363/363 [==============================] - 0s 645us/step - loss: 0.3399 - val_loss: 0.3242\n",
      "Epoch 74/100\n",
      "363/363 [==============================] - 0s 732us/step - loss: 0.3402 - val_loss: 0.3665\n",
      "Epoch 75/100\n",
      "363/363 [==============================] - 0s 676us/step - loss: 0.3397 - val_loss: 0.3283\n",
      "Epoch 76/100\n",
      "363/363 [==============================] - 0s 701us/step - loss: 0.3395 - val_loss: 0.3240\n",
      "Epoch 77/100\n",
      "363/363 [==============================] - 0s 646us/step - loss: 0.3383 - val_loss: 0.3381\n",
      "Epoch 78/100\n",
      "363/363 [==============================] - 0s 646us/step - loss: 0.3384 - val_loss: 0.3356\n",
      "Epoch 79/100\n",
      "363/363 [==============================] - 0s 700us/step - loss: 0.3383 - val_loss: 0.3224\n",
      "Epoch 80/100\n",
      "363/363 [==============================] - 0s 677us/step - loss: 0.3376 - val_loss: 0.3595\n",
      "Epoch 81/100\n",
      "363/363 [==============================] - 0s 656us/step - loss: 0.3383 - val_loss: 0.3432\n",
      "Epoch 82/100\n",
      "363/363 [==============================] - 0s 662us/step - loss: 0.3371 - val_loss: 0.3211\n",
      "Epoch 83/100\n",
      "363/363 [==============================] - 0s 638us/step - loss: 0.3367 - val_loss: 0.3342\n",
      "Epoch 84/100\n",
      "363/363 [==============================] - 0s 681us/step - loss: 0.3362 - val_loss: 0.4136\n",
      "Epoch 85/100\n",
      "363/363 [==============================] - 0s 635us/step - loss: 0.3369 - val_loss: 0.3285\n",
      "Epoch 86/100\n",
      "363/363 [==============================] - 0s 646us/step - loss: 0.3359 - val_loss: 0.3440\n",
      "Epoch 87/100\n",
      "363/363 [==============================] - 0s 711us/step - loss: 0.3357 - val_loss: 0.3733\n",
      "Epoch 88/100\n",
      "363/363 [==============================] - 0s 623us/step - loss: 0.3355 - val_loss: 0.3188\n",
      "Epoch 89/100\n",
      "363/363 [==============================] - 0s 713us/step - loss: 0.3346 - val_loss: 0.3492\n",
      "Epoch 90/100\n",
      "363/363 [==============================] - 0s 707us/step - loss: 0.3348 - val_loss: 0.3175\n",
      "Epoch 91/100\n",
      "363/363 [==============================] - 0s 689us/step - loss: 0.3339 - val_loss: 0.3594\n",
      "Epoch 92/100\n",
      "363/363 [==============================] - 0s 645us/step - loss: 0.3342 - val_loss: 0.3169\n",
      "Epoch 93/100\n",
      "363/363 [==============================] - 0s 688us/step - loss: 0.3333 - val_loss: 0.3607\n",
      "Epoch 94/100\n",
      "363/363 [==============================] - 0s 689us/step - loss: 0.3344 - val_loss: 0.5184\n",
      "Epoch 95/100\n",
      "363/363 [==============================] - 0s 630us/step - loss: 0.3339 - val_loss: 0.7536\n",
      "Epoch 96/100\n",
      "363/363 [==============================] - 0s 656us/step - loss: 0.3370 - val_loss: 0.5075\n",
      "Epoch 97/100\n",
      "363/363 [==============================] - 0s 698us/step - loss: 0.3340 - val_loss: 0.8087\n",
      "Epoch 98/100\n",
      "363/363 [==============================] - 0s 686us/step - loss: 0.3354 - val_loss: 1.0447\n",
      "Epoch 99/100\n",
      "363/363 [==============================] - 0s 645us/step - loss: 0.3346 - val_loss: 1.6881\n",
      "Epoch 100/100\n",
      "363/363 [==============================] - 0s 647us/step - loss: 0.3495 - val_loss: 1.9265\n"
     ]
    },
    {
     "data": {
      "text/plain": [
       "<tensorflow.python.keras.callbacks.History at 0x1596b5df5c8>"
      ]
     },
     "execution_count": 91,
     "metadata": {},
     "output_type": "execute_result"
    }
   ],
   "source": [
    "# Fit he model with early stopping.\n",
    "# Note that surplus parameter values in the \"fit\" method will be used by the underlying Keras/\n",
    "# nerual net model.\n",
    "\n",
    "keras_reg.fit(X_train, y_train, epochs=100,\n",
    "              validation_data=(X_valid, y_valid),\n",
    "              callbacks=[keras.callbacks.EarlyStopping(patience=10)])"
   ]
  },
  {
   "cell_type": "code",
   "execution_count": 92,
   "metadata": {},
   "outputs": [
    {
     "name": "stdout",
     "output_type": "stream",
     "text": [
      "162/162 [==============================] - 0s 577us/step - loss: 0.3409\n"
     ]
    }
   ],
   "source": [
    "mse_test = keras_reg.score(X_test, y_test)"
   ]
  },
  {
   "cell_type": "code",
   "execution_count": 93,
   "metadata": {},
   "outputs": [
    {
     "name": "stdout",
     "output_type": "stream",
     "text": [
      "WARNING:tensorflow:7 out of the last 8 calls to <function Model.make_predict_function.<locals>.predict_function at 0x000001596BADE168> triggered tf.function retracing. Tracing is expensive and the excessive number of tracings could be due to (1) creating @tf.function repeatedly in a loop, (2) passing tensors with different shapes, (3) passing Python objects instead of tensors. For (1), please define your @tf.function outside of the loop. For (2), @tf.function has experimental_relax_shapes=True option that relaxes argument shapes that can avoid unnecessary retracing. For (3), please refer to https://www.tensorflow.org/tutorials/customization/performance#python_or_tensor_args and https://www.tensorflow.org/api_docs/python/tf/function for  more details.\n"
     ]
    }
   ],
   "source": [
    "y_pred = keras_reg.predict(X_new)"
   ]
  },
  {
   "cell_type": "code",
   "execution_count": 94,
   "metadata": {},
   "outputs": [],
   "source": [
    "np.random.seed(42)\n",
    "tf.random.set_seed(42)"
   ]
  },
  {
   "cell_type": "code",
   "execution_count": 95,
   "metadata": {},
   "outputs": [
    {
     "name": "stdout",
     "output_type": "stream",
     "text": [
      "Fitting 2 folds for each of 10 candidates, totalling 20 fits\n",
      "Epoch 1/80\n",
      "182/182 [==============================] - 0s 1ms/step - loss: 0.9173 - val_loss: 0.8308\n",
      "Epoch 2/80\n",
      "182/182 [==============================] - 0s 903us/step - loss: 0.5106 - val_loss: 0.5293\n",
      "Epoch 3/80\n",
      "182/182 [==============================] - 0s 979us/step - loss: 0.4644 - val_loss: 0.4571\n",
      "Epoch 4/80\n",
      "182/182 [==============================] - 0s 807us/step - loss: 0.4456 - val_loss: 0.4224\n",
      "Epoch 5/80\n",
      "182/182 [==============================] - 0s 757us/step - loss: 0.4395 - val_loss: 0.4177\n",
      "Epoch 6/80\n",
      "182/182 [==============================] - 0s 772us/step - loss: 0.4368 - val_loss: 0.4031\n",
      "Epoch 7/80\n",
      "182/182 [==============================] - 0s 859us/step - loss: 0.4365 - val_loss: 0.4000\n",
      "Epoch 8/80\n",
      "182/182 [==============================] - 0s 859us/step - loss: 0.4331 - val_loss: 0.4202\n",
      "Epoch 9/80\n",
      "182/182 [==============================] - 0s 858us/step - loss: 0.4302 - val_loss: 0.4109\n",
      "Epoch 10/80\n",
      "182/182 [==============================] - 0s 860us/step - loss: 0.4275 - val_loss: 0.4878\n",
      "Epoch 11/80\n",
      "182/182 [==============================] - 0s 856us/step - loss: 0.4263 - val_loss: 0.5111\n",
      "Epoch 12/80\n",
      "182/182 [==============================] - 0s 907us/step - loss: 0.4275 - val_loss: 0.6887\n",
      "Epoch 13/80\n",
      "182/182 [==============================] - 0s 811us/step - loss: 0.4260 - val_loss: 0.8011\n",
      "Epoch 14/80\n",
      "182/182 [==============================] - 0s 859us/step - loss: 0.4223 - val_loss: 0.9155\n",
      "Epoch 15/80\n",
      "182/182 [==============================] - 0s 858us/step - loss: 0.4183 - val_loss: 1.0689\n",
      "Epoch 16/80\n",
      "182/182 [==============================] - 0s 859us/step - loss: 0.4184 - val_loss: 1.1293\n",
      "Epoch 17/80\n",
      "182/182 [==============================] - 0s 921us/step - loss: 0.4144 - val_loss: 1.1939\n",
      "182/182 [==============================] - 0s 443us/step - loss: 0.4516\n",
      "[CV] END learning_rate=0.022174573948353458, n_hidden=1, n_neurons=4; total time=   3.0s\n",
      "Epoch 1/80\n",
      "182/182 [==============================] - 0s 1ms/step - loss: 0.8150 - val_loss: 0.4873\n",
      "Epoch 2/80\n",
      "182/182 [==============================] - 0s 843us/step - loss: 0.4853 - val_loss: 0.5876\n",
      "Epoch 3/80\n",
      "182/182 [==============================] - 0s 945us/step - loss: 0.4712 - val_loss: 0.4282\n",
      "Epoch 4/80\n",
      "182/182 [==============================] - 0s 859us/step - loss: 0.4666 - val_loss: 0.4152\n",
      "Epoch 5/80\n",
      "182/182 [==============================] - 0s 859us/step - loss: 0.4546 - val_loss: 0.4537\n",
      "Epoch 6/80\n",
      "182/182 [==============================] - 0s 891us/step - loss: 0.4512 - val_loss: 0.5109\n",
      "Epoch 7/80\n",
      "182/182 [==============================] - 0s 761us/step - loss: 0.4494 - val_loss: 0.4127\n",
      "Epoch 8/80\n",
      "182/182 [==============================] - 0s 837us/step - loss: 0.4497 - val_loss: 0.5886\n",
      "Epoch 9/80\n",
      "182/182 [==============================] - 0s 859us/step - loss: 0.4464 - val_loss: 0.4253\n",
      "Epoch 10/80\n",
      "182/182 [==============================] - 0s 850us/step - loss: 0.4468 - val_loss: 0.4962\n",
      "Epoch 11/80\n",
      "182/182 [==============================] - 0s 792us/step - loss: 0.4458 - val_loss: 0.4354\n",
      "Epoch 12/80\n",
      "182/182 [==============================] - 0s 844us/step - loss: 0.4419 - val_loss: 0.4934\n",
      "Epoch 13/80\n",
      "182/182 [==============================] - 0s 808us/step - loss: 0.4459 - val_loss: 0.4253\n",
      "Epoch 14/80\n",
      "182/182 [==============================] - 0s 844us/step - loss: 0.4458 - val_loss: 0.4504\n",
      "Epoch 15/80\n",
      "182/182 [==============================] - 0s 894us/step - loss: 0.4416 - val_loss: 0.4084\n",
      "Epoch 16/80\n",
      "182/182 [==============================] - 0s 844us/step - loss: 0.4444 - val_loss: 0.4298\n",
      "Epoch 17/80\n",
      "182/182 [==============================] - 0s 808us/step - loss: 0.4445 - val_loss: 0.5473\n",
      "Epoch 18/80\n",
      "182/182 [==============================] - 0s 758us/step - loss: 0.4417 - val_loss: 0.4059\n",
      "Epoch 19/80\n",
      "182/182 [==============================] - 0s 808us/step - loss: 0.4406 - val_loss: 0.5898\n",
      "Epoch 20/80\n",
      "182/182 [==============================] - 0s 844us/step - loss: 0.4438 - val_loss: 0.4847\n",
      "Epoch 21/80\n",
      "182/182 [==============================] - 0s 808us/step - loss: 0.4405 - val_loss: 0.5081\n",
      "Epoch 22/80\n",
      "182/182 [==============================] - 0s 844us/step - loss: 0.4373 - val_loss: 0.5580\n",
      "Epoch 23/80\n",
      "182/182 [==============================] - 0s 807us/step - loss: 0.4391 - val_loss: 0.4537\n",
      "Epoch 24/80\n",
      "182/182 [==============================] - 0s 844us/step - loss: 0.4365 - val_loss: 0.4422\n",
      "Epoch 25/80\n",
      "182/182 [==============================] - 0s 894us/step - loss: 0.4351 - val_loss: 0.4352\n",
      "Epoch 26/80\n",
      "182/182 [==============================] - 0s 844us/step - loss: 0.4351 - val_loss: 0.4741\n",
      "Epoch 27/80\n",
      "182/182 [==============================] - 0s 808us/step - loss: 0.4371 - val_loss: 0.5296\n",
      "Epoch 28/80\n",
      "182/182 [==============================] - 0s 844us/step - loss: 0.4314 - val_loss: 0.4623\n",
      "182/182 [==============================] - 0s 465us/step - loss: 0.4309\n",
      "[CV] END learning_rate=0.022174573948353458, n_hidden=1, n_neurons=4; total time=   4.7s\n",
      "Epoch 1/80\n",
      "182/182 [==============================] - 0s 1ms/step - loss: 1.1348 - val_loss: 4.9180\n",
      "Epoch 2/80\n",
      "182/182 [==============================] - 0s 930us/step - loss: 0.5701 - val_loss: 1.2298\n",
      "Epoch 3/80\n",
      "182/182 [==============================] - 0s 930us/step - loss: 0.4840 - val_loss: 0.4923\n",
      "Epoch 4/80\n",
      "182/182 [==============================] - 0s 929us/step - loss: 0.4406 - val_loss: 0.4078\n",
      "Epoch 5/80\n",
      "182/182 [==============================] - 0s 944us/step - loss: 0.4169 - val_loss: 0.3883\n",
      "Epoch 6/80\n",
      "182/182 [==============================] - 0s 944us/step - loss: 0.4019 - val_loss: 0.3800\n",
      "Epoch 7/80\n",
      "182/182 [==============================] - 0s 945us/step - loss: 0.3916 - val_loss: 0.3683\n",
      "Epoch 8/80\n",
      "182/182 [==============================] - 0s 945us/step - loss: 0.3825 - val_loss: 0.3708\n",
      "Epoch 9/80\n",
      "182/182 [==============================] - 0s 877us/step - loss: 0.3752 - val_loss: 0.4032\n",
      "Epoch 10/80\n",
      "182/182 [==============================] - 0s 925us/step - loss: 0.3687 - val_loss: 0.4432\n",
      "Epoch 11/80\n",
      "182/182 [==============================] - 0s 1ms/step - loss: 0.3639 - val_loss: 0.5003\n",
      "Epoch 12/80\n",
      "182/182 [==============================] - 0s 944us/step - loss: 0.3606 - val_loss: 0.5423\n",
      "Epoch 13/80\n",
      "182/182 [==============================] - 0s 1ms/step - loss: 0.3573 - val_loss: 0.6456\n",
      "Epoch 14/80\n",
      "182/182 [==============================] - 0s 931us/step - loss: 0.3533 - val_loss: 0.6819\n",
      "Epoch 15/80\n",
      "182/182 [==============================] - 0s 956us/step - loss: 0.3503 - val_loss: 0.7411\n",
      "Epoch 16/80\n",
      "182/182 [==============================] - 0s 947us/step - loss: 0.3484 - val_loss: 0.9665\n",
      "Epoch 17/80\n",
      "182/182 [==============================] - 0s 944us/step - loss: 0.3447 - val_loss: 0.9070\n",
      "182/182 [==============================] - 0s 515us/step - loss: 0.3694\n",
      "[CV] END learning_rate=0.005432590230265343, n_hidden=2, n_neurons=94; total time=   3.4s\n",
      "Epoch 1/80\n",
      "182/182 [==============================] - 0s 1ms/step - loss: 1.2158 - val_loss: 9.0759\n",
      "Epoch 2/80\n",
      "182/182 [==============================] - 0s 1ms/step - loss: 0.6407 - val_loss: 4.1684\n",
      "Epoch 3/80\n",
      "182/182 [==============================] - 0s 945us/step - loss: 0.5291 - val_loss: 0.5317\n",
      "Epoch 4/80\n",
      "182/182 [==============================] - 0s 1ms/step - loss: 0.4503 - val_loss: 0.4083\n",
      "Epoch 5/80\n",
      "182/182 [==============================] - 0s 946us/step - loss: 0.4234 - val_loss: 0.4278\n",
      "Epoch 6/80\n",
      "182/182 [==============================] - 0s 957us/step - loss: 0.4069 - val_loss: 0.4304\n",
      "Epoch 7/80\n",
      "182/182 [==============================] - 0s 900us/step - loss: 0.3954 - val_loss: 0.4082\n",
      "Epoch 8/80\n",
      "182/182 [==============================] - 0s 975us/step - loss: 0.3869 - val_loss: 0.3989\n",
      "Epoch 9/80\n",
      "182/182 [==============================] - 0s 944us/step - loss: 0.3801 - val_loss: 0.4257\n",
      "Epoch 10/80\n",
      "182/182 [==============================] - 0s 944us/step - loss: 0.3746 - val_loss: 0.4334\n",
      "Epoch 11/80\n",
      "182/182 [==============================] - 0s 1ms/step - loss: 0.3722 - val_loss: 0.3963\n",
      "Epoch 12/80\n",
      "182/182 [==============================] - 0s 945us/step - loss: 0.3640 - val_loss: 0.4297\n",
      "Epoch 13/80\n",
      "182/182 [==============================] - 0s 943us/step - loss: 0.3605 - val_loss: 0.3724\n"
     ]
    },
    {
     "name": "stdout",
     "output_type": "stream",
     "text": [
      "Epoch 14/80\n",
      "182/182 [==============================] - 0s 859us/step - loss: 0.3554 - val_loss: 0.3902\n",
      "Epoch 15/80\n",
      "182/182 [==============================] - 0s 860us/step - loss: 0.3522 - val_loss: 0.3604\n",
      "Epoch 16/80\n",
      "182/182 [==============================] - 0s 860us/step - loss: 0.3482 - val_loss: 0.3605\n",
      "Epoch 17/80\n",
      "182/182 [==============================] - 0s 944us/step - loss: 0.3457 - val_loss: 0.3789\n",
      "Epoch 18/80\n",
      "182/182 [==============================] - 0s 967us/step - loss: 0.3448 - val_loss: 0.3301\n",
      "Epoch 19/80\n",
      "182/182 [==============================] - 0s 834us/step - loss: 0.3434 - val_loss: 0.3941\n",
      "Epoch 20/80\n",
      "182/182 [==============================] - 0s 946us/step - loss: 0.3408 - val_loss: 0.3429\n",
      "Epoch 21/80\n",
      "182/182 [==============================] - 0s 970us/step - loss: 0.3362 - val_loss: 0.3705\n",
      "Epoch 22/80\n",
      "182/182 [==============================] - 0s 894us/step - loss: 0.3340 - val_loss: 0.3705\n",
      "Epoch 23/80\n",
      "182/182 [==============================] - 0s 882us/step - loss: 0.3335 - val_loss: 0.3249\n",
      "Epoch 24/80\n",
      "182/182 [==============================] - 0s 890us/step - loss: 0.3306 - val_loss: 0.3822\n",
      "Epoch 25/80\n",
      "182/182 [==============================] - 0s 914us/step - loss: 0.3296 - val_loss: 0.3214\n",
      "Epoch 26/80\n",
      "182/182 [==============================] - 0s 943us/step - loss: 0.3271 - val_loss: 0.3885\n",
      "Epoch 27/80\n",
      "182/182 [==============================] - 0s 974us/step - loss: 0.3264 - val_loss: 0.3373\n",
      "Epoch 28/80\n",
      "182/182 [==============================] - 0s 913us/step - loss: 0.3242 - val_loss: 0.3248\n",
      "Epoch 29/80\n",
      "182/182 [==============================] - 0s 910us/step - loss: 0.3223 - val_loss: 0.3272\n",
      "Epoch 30/80\n",
      "182/182 [==============================] - 0s 929us/step - loss: 0.3205 - val_loss: 0.3179\n",
      "Epoch 31/80\n",
      "182/182 [==============================] - 0s 894us/step - loss: 0.3193 - val_loss: 0.3366\n",
      "Epoch 32/80\n",
      "182/182 [==============================] - 0s 844us/step - loss: 0.3171 - val_loss: 0.3572\n",
      "Epoch 33/80\n",
      "182/182 [==============================] - 0s 1ms/step - loss: 0.3161 - val_loss: 0.3285\n",
      "Epoch 34/80\n",
      "182/182 [==============================] - 0s 894us/step - loss: 0.3148 - val_loss: 0.3804\n",
      "Epoch 35/80\n",
      "182/182 [==============================] - 0s 930us/step - loss: 0.3167 - val_loss: 0.3895\n",
      "Epoch 36/80\n",
      "182/182 [==============================] - 0s 930us/step - loss: 0.3154 - val_loss: 0.4324\n",
      "Epoch 37/80\n",
      "182/182 [==============================] - 0s 897us/step - loss: 0.3131 - val_loss: 0.3281\n",
      "Epoch 38/80\n",
      "182/182 [==============================] - 0s 1ms/step - loss: 0.3105 - val_loss: 0.3517\n",
      "Epoch 39/80\n",
      "182/182 [==============================] - 0s 859us/step - loss: 0.3113 - val_loss: 0.3100\n",
      "Epoch 40/80\n",
      "182/182 [==============================] - 0s 945us/step - loss: 0.3080 - val_loss: 0.3104\n",
      "Epoch 41/80\n",
      "182/182 [==============================] - 0s 945us/step - loss: 0.3065 - val_loss: 0.3763\n",
      "Epoch 42/80\n",
      "182/182 [==============================] - 0s 860us/step - loss: 0.3098 - val_loss: 0.4224\n",
      "Epoch 43/80\n",
      "182/182 [==============================] - 0s 945us/step - loss: 0.3090 - val_loss: 0.4605\n",
      "Epoch 44/80\n",
      "182/182 [==============================] - 0s 857us/step - loss: 0.3075 - val_loss: 0.3256\n",
      "Epoch 45/80\n",
      "182/182 [==============================] - 0s 858us/step - loss: 0.3035 - val_loss: 0.3222\n",
      "Epoch 46/80\n",
      "182/182 [==============================] - 0s 859us/step - loss: 0.3025 - val_loss: 0.3018\n",
      "Epoch 47/80\n",
      "182/182 [==============================] - 0s 861us/step - loss: 0.3009 - val_loss: 0.3164\n",
      "Epoch 48/80\n",
      "182/182 [==============================] - 0s 916us/step - loss: 0.3012 - val_loss: 0.3471\n",
      "Epoch 49/80\n",
      "182/182 [==============================] - 0s 844us/step - loss: 0.3101 - val_loss: 0.3076\n",
      "Epoch 50/80\n",
      "182/182 [==============================] - 0s 894us/step - loss: 0.2984 - val_loss: 0.4090\n",
      "Epoch 51/80\n",
      "182/182 [==============================] - 0s 930us/step - loss: 0.3030 - val_loss: 0.3086\n",
      "Epoch 52/80\n",
      "182/182 [==============================] - 0s 844us/step - loss: 0.2960 - val_loss: 0.3022\n",
      "Epoch 53/80\n",
      "182/182 [==============================] - 0s 808us/step - loss: 0.2948 - val_loss: 0.3138\n",
      "Epoch 54/80\n",
      "182/182 [==============================] - 0s 858us/step - loss: 0.2958 - val_loss: 0.3218\n",
      "Epoch 55/80\n",
      "182/182 [==============================] - 0s 944us/step - loss: 0.2935 - val_loss: 0.3096\n",
      "Epoch 56/80\n",
      "182/182 [==============================] - 0s 1ms/step - loss: 0.2925 - val_loss: 0.4200\n",
      "182/182 [==============================] - 0s 516us/step - loss: 0.3175\n",
      "[CV] END learning_rate=0.005432590230265343, n_hidden=2, n_neurons=94; total time=  10.0s\n",
      "Epoch 1/80\n",
      "182/182 [==============================] - 0s 1ms/step - loss: 3.9054 - val_loss: 8.9037\n",
      "Epoch 2/80\n",
      "182/182 [==============================] - 0s 894us/step - loss: 2.1754 - val_loss: 9.6084\n",
      "Epoch 3/80\n",
      "182/182 [==============================] - 0s 844us/step - loss: 1.4435 - val_loss: 9.8615\n",
      "Epoch 4/80\n",
      "182/182 [==============================] - 0s 808us/step - loss: 1.1164 - val_loss: 9.6129\n",
      "Epoch 5/80\n",
      "182/182 [==============================] - 0s 758us/step - loss: 0.9559 - val_loss: 9.0731\n",
      "Epoch 6/80\n",
      "182/182 [==============================] - 0s 808us/step - loss: 0.8674 - val_loss: 8.4034\n",
      "Epoch 7/80\n",
      "182/182 [==============================] - 0s 857us/step - loss: 0.8126 - val_loss: 7.7355\n",
      "Epoch 8/80\n",
      "182/182 [==============================] - 0s 795us/step - loss: 0.7755 - val_loss: 7.0785\n",
      "Epoch 9/80\n",
      "182/182 [==============================] - 0s 844us/step - loss: 0.7487 - val_loss: 6.4943\n",
      "Epoch 10/80\n",
      "182/182 [==============================] - 0s 894us/step - loss: 0.7279 - val_loss: 5.9932\n",
      "Epoch 11/80\n",
      "182/182 [==============================] - 0s 758us/step - loss: 0.7111 - val_loss: 5.5339\n",
      "Epoch 12/80\n",
      "182/182 [==============================] - 0s 808us/step - loss: 0.6970 - val_loss: 5.1337\n",
      "Epoch 13/80\n",
      "182/182 [==============================] - 0s 844us/step - loss: 0.6846 - val_loss: 4.7592\n",
      "Epoch 14/80\n",
      "182/182 [==============================] - 0s 808us/step - loss: 0.6736 - val_loss: 4.4191\n",
      "Epoch 15/80\n",
      "182/182 [==============================] - 0s 844us/step - loss: 0.6635 - val_loss: 4.1145\n",
      "Epoch 16/80\n",
      "182/182 [==============================] - 0s 806us/step - loss: 0.6541 - val_loss: 3.8372\n",
      "Epoch 17/80\n",
      "182/182 [==============================] - 0s 859us/step - loss: 0.6450 - val_loss: 3.5889\n",
      "Epoch 18/80\n",
      "182/182 [==============================] - 0s 914us/step - loss: 0.6365 - val_loss: 3.3578\n",
      "Epoch 19/80\n",
      "182/182 [==============================] - 0s 805us/step - loss: 0.6285 - val_loss: 3.1340\n",
      "Epoch 20/80\n",
      "182/182 [==============================] - 0s 846us/step - loss: 0.6207 - val_loss: 2.9351\n",
      "Epoch 21/80\n",
      "182/182 [==============================] - 0s 869us/step - loss: 0.6133 - val_loss: 2.7448\n",
      "Epoch 22/80\n",
      "182/182 [==============================] - 0s 860us/step - loss: 0.6061 - val_loss: 2.5682\n",
      "Epoch 23/80\n",
      "182/182 [==============================] - 0s 857us/step - loss: 0.5991 - val_loss: 2.4192\n",
      "Epoch 24/80\n",
      "182/182 [==============================] - 0s 863us/step - loss: 0.5924 - val_loss: 2.2700\n",
      "Epoch 25/80\n",
      "182/182 [==============================] - 0s 787us/step - loss: 0.5860 - val_loss: 2.1283\n",
      "Epoch 26/80\n",
      "182/182 [==============================] - 0s 845us/step - loss: 0.5797 - val_loss: 2.0051\n",
      "Epoch 27/80\n",
      "182/182 [==============================] - 0s 860us/step - loss: 0.5737 - val_loss: 1.8861\n",
      "Epoch 28/80\n",
      "182/182 [==============================] - 0s 857us/step - loss: 0.5678 - val_loss: 1.7692\n",
      "Epoch 29/80\n",
      "182/182 [==============================] - 0s 825us/step - loss: 0.5622 - val_loss: 1.6649\n",
      "Epoch 30/80\n",
      "182/182 [==============================] - 0s 894us/step - loss: 0.5568 - val_loss: 1.5730\n",
      "Epoch 31/80\n",
      "182/182 [==============================] - 0s 844us/step - loss: 0.5514 - val_loss: 1.4830\n",
      "Epoch 32/80\n",
      "182/182 [==============================] - 0s 785us/step - loss: 0.5464 - val_loss: 1.3966\n",
      "Epoch 33/80\n",
      "182/182 [==============================] - 0s 788us/step - loss: 0.5415 - val_loss: 1.3162\n",
      "Epoch 34/80\n",
      "182/182 [==============================] - 0s 843us/step - loss: 0.5367 - val_loss: 1.2394\n",
      "Epoch 35/80\n",
      "182/182 [==============================] - 0s 871us/step - loss: 0.5322 - val_loss: 1.1705\n",
      "Epoch 36/80\n",
      "182/182 [==============================] - 0s 857us/step - loss: 0.5278 - val_loss: 1.1095\n",
      "Epoch 37/80\n",
      "182/182 [==============================] - 0s 773us/step - loss: 0.5236 - val_loss: 1.0509\n",
      "Epoch 38/80\n",
      "182/182 [==============================] - 0s 797us/step - loss: 0.5196 - val_loss: 0.9984\n",
      "Epoch 39/80\n",
      "182/182 [==============================] - 0s 894us/step - loss: 0.5157 - val_loss: 0.9489\n",
      "Epoch 40/80\n",
      "182/182 [==============================] - 0s 758us/step - loss: 0.5120 - val_loss: 0.9017\n",
      "Epoch 41/80\n",
      "182/182 [==============================] - 0s 844us/step - loss: 0.5085 - val_loss: 0.8604\n",
      "Epoch 42/80\n",
      "182/182 [==============================] - 0s 808us/step - loss: 0.5050 - val_loss: 0.8237\n",
      "Epoch 43/80\n",
      "182/182 [==============================] - 0s 844us/step - loss: 0.5017 - val_loss: 0.7851\n",
      "Epoch 44/80\n",
      "182/182 [==============================] - 0s 808us/step - loss: 0.4986 - val_loss: 0.7502\n",
      "Epoch 45/80\n",
      "182/182 [==============================] - 0s 930us/step - loss: 0.4955 - val_loss: 0.7188\n",
      "Epoch 46/80\n",
      "182/182 [==============================] - 0s 821us/step - loss: 0.4926 - val_loss: 0.6923\n",
      "Epoch 47/80\n",
      "182/182 [==============================] - 0s 910us/step - loss: 0.4898 - val_loss: 0.6646\n",
      "Epoch 48/80\n",
      "182/182 [==============================] - 0s 857us/step - loss: 0.4870 - val_loss: 0.6406\n",
      "Epoch 49/80\n",
      "182/182 [==============================] - 0s 946us/step - loss: 0.4844 - val_loss: 0.6183\n",
      "Epoch 50/80\n",
      "182/182 [==============================] - 0s 866us/step - loss: 0.4819 - val_loss: 0.5977\n",
      "Epoch 51/80\n",
      "182/182 [==============================] - 0s 764us/step - loss: 0.4794 - val_loss: 0.5807\n",
      "Epoch 52/80\n",
      "182/182 [==============================] - 0s 858us/step - loss: 0.4770 - val_loss: 0.5637\n",
      "Epoch 53/80\n",
      "182/182 [==============================] - 0s 773us/step - loss: 0.4748 - val_loss: 0.5475\n",
      "Epoch 54/80\n",
      "182/182 [==============================] - 0s 819us/step - loss: 0.4726 - val_loss: 0.5340\n",
      "Epoch 55/80\n",
      "182/182 [==============================] - 0s 812us/step - loss: 0.4704 - val_loss: 0.5202\n",
      "Epoch 56/80\n",
      "182/182 [==============================] - 0s 839us/step - loss: 0.4683 - val_loss: 0.5090\n",
      "Epoch 57/80\n",
      "182/182 [==============================] - 0s 808us/step - loss: 0.4663 - val_loss: 0.4971\n",
      "Epoch 58/80\n",
      "182/182 [==============================] - 0s 930us/step - loss: 0.4644 - val_loss: 0.4872\n",
      "Epoch 59/80\n",
      "182/182 [==============================] - 0s 857us/step - loss: 0.4626 - val_loss: 0.4782\n",
      "Epoch 60/80\n",
      "182/182 [==============================] - 0s 858us/step - loss: 0.4607 - val_loss: 0.4706\n",
      "Epoch 61/80\n",
      "182/182 [==============================] - 0s 859us/step - loss: 0.4590 - val_loss: 0.4636\n",
      "Epoch 62/80\n",
      "182/182 [==============================] - 0s 859us/step - loss: 0.4573 - val_loss: 0.4576\n",
      "Epoch 63/80\n",
      "182/182 [==============================] - 0s 859us/step - loss: 0.4557 - val_loss: 0.4514\n",
      "Epoch 64/80\n",
      "182/182 [==============================] - 0s 858us/step - loss: 0.4541 - val_loss: 0.4462\n",
      "Epoch 65/80\n",
      "182/182 [==============================] - 0s 859us/step - loss: 0.4525 - val_loss: 0.4410\n",
      "Epoch 66/80\n",
      "182/182 [==============================] - 0s 761us/step - loss: 0.4511 - val_loss: 0.4371\n",
      "Epoch 67/80\n",
      "182/182 [==============================] - 0s 844us/step - loss: 0.4496 - val_loss: 0.4331\n",
      "Epoch 68/80\n",
      "182/182 [==============================] - 0s 808us/step - loss: 0.4482 - val_loss: 0.4297\n",
      "Epoch 69/80\n",
      "182/182 [==============================] - 0s 848us/step - loss: 0.4469 - val_loss: 0.4264\n",
      "Epoch 70/80\n",
      "182/182 [==============================] - 0s 945us/step - loss: 0.4456 - val_loss: 0.4232\n",
      "Epoch 71/80\n",
      "182/182 [==============================] - 0s 859us/step - loss: 0.4443 - val_loss: 0.4209\n",
      "Epoch 72/80\n",
      "182/182 [==============================] - 0s 858us/step - loss: 0.4431 - val_loss: 0.4183\n",
      "Epoch 73/80\n",
      "182/182 [==============================] - 0s 858us/step - loss: 0.4419 - val_loss: 0.4163\n",
      "Epoch 74/80\n",
      "182/182 [==============================] - 0s 859us/step - loss: 0.4408 - val_loss: 0.4143\n",
      "Epoch 75/80\n",
      "182/182 [==============================] - 0s 861us/step - loss: 0.4396 - val_loss: 0.4127\n",
      "Epoch 76/80\n",
      "182/182 [==============================] - 0s 855us/step - loss: 0.4386 - val_loss: 0.4110\n",
      "Epoch 77/80\n",
      "182/182 [==============================] - 0s 861us/step - loss: 0.4375 - val_loss: 0.4095\n",
      "Epoch 78/80\n",
      "182/182 [==============================] - 0s 942us/step - loss: 0.4365 - val_loss: 0.4081\n",
      "Epoch 79/80\n",
      "182/182 [==============================] - 0s 945us/step - loss: 0.4355 - val_loss: 0.4070\n",
      "Epoch 80/80\n",
      "182/182 [==============================] - 0s 859us/step - loss: 0.4345 - val_loss: 0.4059\n",
      "182/182 [==============================] - 0s 517us/step - loss: 0.4308\n",
      "[CV] END learning_rate=0.00037078874137762145, n_hidden=1, n_neurons=51; total time=  12.8s\n",
      "Epoch 1/80\n",
      "182/182 [==============================] - 0s 1ms/step - loss: 4.9784 - val_loss: 5.8279\n",
      "Epoch 2/80\n",
      "182/182 [==============================] - 0s 850us/step - loss: 2.9029 - val_loss: 4.4367\n",
      "Epoch 3/80\n",
      "182/182 [==============================] - 0s 859us/step - loss: 1.9028 - val_loss: 3.1351\n",
      "Epoch 4/80\n",
      "182/182 [==============================] - 0s 802us/step - loss: 1.3696 - val_loss: 2.1956\n",
      "Epoch 5/80\n",
      "182/182 [==============================] - 0s 845us/step - loss: 1.0817 - val_loss: 1.4279\n",
      "Epoch 6/80\n",
      "182/182 [==============================] - 0s 930us/step - loss: 0.9200 - val_loss: 1.0132\n",
      "Epoch 7/80\n",
      "182/182 [==============================] - 0s 808us/step - loss: 0.8280 - val_loss: 0.8250\n",
      "Epoch 8/80\n",
      "182/182 [==============================] - 0s 907us/step - loss: 0.7733 - val_loss: 0.7350\n",
      "Epoch 9/80\n",
      "182/182 [==============================] - 0s 857us/step - loss: 0.7390 - val_loss: 0.6948\n",
      "Epoch 10/80\n",
      "182/182 [==============================] - 0s 859us/step - loss: 0.7157 - val_loss: 0.6813\n",
      "Epoch 11/80\n",
      "182/182 [==============================] - 0s 885us/step - loss: 0.6991 - val_loss: 0.6689\n",
      "Epoch 12/80\n",
      "182/182 [==============================] - 0s 894us/step - loss: 0.6860 - val_loss: 0.6670\n",
      "Epoch 13/80\n",
      "182/182 [==============================] - 0s 844us/step - loss: 0.6754 - val_loss: 0.6552\n",
      "Epoch 14/80\n",
      "182/182 [==============================] - 0s 818us/step - loss: 0.6659 - val_loss: 0.6485\n",
      "Epoch 15/80\n",
      "182/182 [==============================] - 0s 853us/step - loss: 0.6575 - val_loss: 0.6371\n",
      "Epoch 16/80\n",
      "182/182 [==============================] - 0s 856us/step - loss: 0.6495 - val_loss: 0.6345\n",
      "Epoch 17/80\n",
      "182/182 [==============================] - 0s 810us/step - loss: 0.6421 - val_loss: 0.6327\n",
      "Epoch 18/80\n",
      "182/182 [==============================] - 0s 842us/step - loss: 0.6352 - val_loss: 0.6191\n",
      "Epoch 19/80\n",
      "182/182 [==============================] - 0s 876us/step - loss: 0.6284 - val_loss: 0.6210\n",
      "Epoch 20/80\n",
      "182/182 [==============================] - 0s 861us/step - loss: 0.6221 - val_loss: 0.6122\n",
      "Epoch 21/80\n",
      "182/182 [==============================] - 0s 855us/step - loss: 0.6159 - val_loss: 0.6088\n",
      "Epoch 22/80\n",
      "182/182 [==============================] - 0s 944us/step - loss: 0.6098 - val_loss: 0.6075\n",
      "Epoch 23/80\n",
      "182/182 [==============================] - 0s 868us/step - loss: 0.6041 - val_loss: 0.5939\n",
      "Epoch 24/80\n",
      "182/182 [==============================] - 0s 849us/step - loss: 0.5985 - val_loss: 0.5841\n",
      "Epoch 25/80\n",
      "182/182 [==============================] - 0s 860us/step - loss: 0.5931 - val_loss: 0.5774\n",
      "Epoch 26/80\n",
      "182/182 [==============================] - 0s 859us/step - loss: 0.5878 - val_loss: 0.5766\n",
      "Epoch 27/80\n",
      "182/182 [==============================] - 0s 943us/step - loss: 0.5827 - val_loss: 0.5767\n",
      "Epoch 28/80\n",
      "182/182 [==============================] - 0s 945us/step - loss: 0.5778 - val_loss: 0.5739\n",
      "Epoch 29/80\n",
      "182/182 [==============================] - 0s 958us/step - loss: 0.5730 - val_loss: 0.5734\n",
      "Epoch 30/80\n",
      "182/182 [==============================] - 0s 931us/step - loss: 0.5685 - val_loss: 0.5653\n",
      "Epoch 31/80\n",
      "182/182 [==============================] - 0s 944us/step - loss: 0.5639 - val_loss: 0.5563\n",
      "Epoch 32/80\n",
      "182/182 [==============================] - 0s 960us/step - loss: 0.5596 - val_loss: 0.5491\n",
      "Epoch 33/80\n",
      "182/182 [==============================] - 0s 928us/step - loss: 0.5553 - val_loss: 0.5417\n",
      "Epoch 34/80\n"
     ]
    },
    {
     "name": "stdout",
     "output_type": "stream",
     "text": [
      "182/182 [==============================] - 0s 859us/step - loss: 0.5511 - val_loss: 0.5392\n",
      "Epoch 35/80\n",
      "182/182 [==============================] - 0s 962us/step - loss: 0.5471 - val_loss: 0.5342\n",
      "Epoch 36/80\n",
      "182/182 [==============================] - 0s 927us/step - loss: 0.5432 - val_loss: 0.5378\n",
      "Epoch 37/80\n",
      "182/182 [==============================] - 0s 859us/step - loss: 0.5395 - val_loss: 0.5294\n",
      "Epoch 38/80\n",
      "182/182 [==============================] - 0s 965us/step - loss: 0.5359 - val_loss: 0.5266\n",
      "Epoch 39/80\n",
      "182/182 [==============================] - 0s 839us/step - loss: 0.5324 - val_loss: 0.5288\n",
      "Epoch 40/80\n",
      "182/182 [==============================] - 0s 859us/step - loss: 0.5291 - val_loss: 0.5268\n",
      "Epoch 41/80\n",
      "182/182 [==============================] - 0s 878us/step - loss: 0.5258 - val_loss: 0.5279\n",
      "Epoch 42/80\n",
      "182/182 [==============================] - 0s 925us/step - loss: 0.5227 - val_loss: 0.5189\n",
      "Epoch 43/80\n",
      "182/182 [==============================] - 0s 859us/step - loss: 0.5196 - val_loss: 0.5180\n",
      "Epoch 44/80\n",
      "182/182 [==============================] - 0s 771us/step - loss: 0.5166 - val_loss: 0.5120\n",
      "Epoch 45/80\n",
      "182/182 [==============================] - 0s 860us/step - loss: 0.5138 - val_loss: 0.5074\n",
      "Epoch 46/80\n",
      "182/182 [==============================] - 0s 857us/step - loss: 0.5109 - val_loss: 0.5009\n",
      "Epoch 47/80\n",
      "182/182 [==============================] - 0s 820us/step - loss: 0.5081 - val_loss: 0.4967\n",
      "Epoch 48/80\n",
      "182/182 [==============================] - 0s 831us/step - loss: 0.5055 - val_loss: 0.4930\n",
      "Epoch 49/80\n",
      "182/182 [==============================] - 0s 888us/step - loss: 0.5028 - val_loss: 0.4917\n",
      "Epoch 50/80\n",
      "182/182 [==============================] - 0s 859us/step - loss: 0.5003 - val_loss: 0.4909\n",
      "Epoch 51/80\n",
      "182/182 [==============================] - 0s 857us/step - loss: 0.4978 - val_loss: 0.4870\n",
      "Epoch 52/80\n",
      "182/182 [==============================] - 0s 944us/step - loss: 0.4954 - val_loss: 0.4822\n",
      "Epoch 53/80\n",
      "182/182 [==============================] - 0s 859us/step - loss: 0.4929 - val_loss: 0.4789\n",
      "Epoch 54/80\n",
      "182/182 [==============================] - 0s 860us/step - loss: 0.4906 - val_loss: 0.4770\n",
      "Epoch 55/80\n",
      "182/182 [==============================] - 0s 859us/step - loss: 0.4882 - val_loss: 0.4744\n",
      "Epoch 56/80\n",
      "182/182 [==============================] - 0s 856us/step - loss: 0.4859 - val_loss: 0.4695\n",
      "Epoch 57/80\n",
      "182/182 [==============================] - 0s 858us/step - loss: 0.4837 - val_loss: 0.4669\n",
      "Epoch 58/80\n",
      "182/182 [==============================] - 0s 945us/step - loss: 0.4816 - val_loss: 0.4646\n",
      "Epoch 59/80\n",
      "182/182 [==============================] - 0s 847us/step - loss: 0.4795 - val_loss: 0.4629\n",
      "Epoch 60/80\n",
      "182/182 [==============================] - 0s 887us/step - loss: 0.4774 - val_loss: 0.4617\n",
      "Epoch 61/80\n",
      "182/182 [==============================] - 0s 916us/step - loss: 0.4755 - val_loss: 0.4608\n",
      "Epoch 62/80\n",
      "182/182 [==============================] - 0s 868us/step - loss: 0.4736 - val_loss: 0.4583\n",
      "Epoch 63/80\n",
      "182/182 [==============================] - 0s 753us/step - loss: 0.4717 - val_loss: 0.4545\n",
      "Epoch 64/80\n",
      "182/182 [==============================] - 0s 943us/step - loss: 0.4698 - val_loss: 0.4517\n",
      "Epoch 65/80\n",
      "182/182 [==============================] - 0s 859us/step - loss: 0.4680 - val_loss: 0.4496\n",
      "Epoch 66/80\n",
      "182/182 [==============================] - 0s 859us/step - loss: 0.4662 - val_loss: 0.4482\n",
      "Epoch 67/80\n",
      "182/182 [==============================] - 0s 841us/step - loss: 0.4645 - val_loss: 0.4471\n",
      "Epoch 68/80\n",
      "182/182 [==============================] - 0s 894us/step - loss: 0.4628 - val_loss: 0.4458\n",
      "Epoch 69/80\n",
      "182/182 [==============================] - 0s 839us/step - loss: 0.4612 - val_loss: 0.4430\n",
      "Epoch 70/80\n",
      "182/182 [==============================] - 0s 1ms/step - loss: 0.4595 - val_loss: 0.4407\n",
      "Epoch 71/80\n",
      "182/182 [==============================] - 0s 946us/step - loss: 0.4579 - val_loss: 0.4399\n",
      "Epoch 72/80\n",
      "182/182 [==============================] - 0s 895us/step - loss: 0.4564 - val_loss: 0.4366\n",
      "Epoch 73/80\n",
      "182/182 [==============================] - 0s 1ms/step - loss: 0.4549 - val_loss: 0.4355\n",
      "Epoch 74/80\n",
      "182/182 [==============================] - 0s 945us/step - loss: 0.4534 - val_loss: 0.4345\n",
      "Epoch 75/80\n",
      "182/182 [==============================] - 0s 773us/step - loss: 0.4520 - val_loss: 0.4319\n",
      "Epoch 76/80\n",
      "182/182 [==============================] - 0s 1ms/step - loss: 0.4506 - val_loss: 0.4304\n",
      "Epoch 77/80\n",
      "182/182 [==============================] - 0s 858us/step - loss: 0.4492 - val_loss: 0.4287\n",
      "Epoch 78/80\n",
      "182/182 [==============================] - 0s 858us/step - loss: 0.4479 - val_loss: 0.4261\n",
      "Epoch 79/80\n",
      "182/182 [==============================] - 0s 860us/step - loss: 0.4466 - val_loss: 0.4247\n",
      "Epoch 80/80\n",
      "182/182 [==============================] - 0s 945us/step - loss: 0.4453 - val_loss: 0.4230\n",
      "182/182 [==============================] - 0s 428us/step - loss: 0.4506\n",
      "[CV] END learning_rate=0.00037078874137762145, n_hidden=1, n_neurons=51; total time=  13.3s\n",
      "Epoch 1/80\n",
      "182/182 [==============================] - 0s 1ms/step - loss: 1.9859 - val_loss: 2.2380\n",
      "Epoch 2/80\n",
      "182/182 [==============================] - 0s 943us/step - loss: 0.8184 - val_loss: 1.2237\n",
      "Epoch 3/80\n",
      "182/182 [==============================] - 0s 946us/step - loss: 0.6651 - val_loss: 0.7970\n",
      "Epoch 4/80\n",
      "182/182 [==============================] - 0s 899us/step - loss: 0.6001 - val_loss: 0.5766\n",
      "Epoch 5/80\n",
      "182/182 [==============================] - 0s 1ms/step - loss: 0.5571 - val_loss: 0.5082\n",
      "Epoch 6/80\n",
      "182/182 [==============================] - 0s 944us/step - loss: 0.5251 - val_loss: 0.5167\n",
      "Epoch 7/80\n",
      "182/182 [==============================] - 0s 975us/step - loss: 0.5004 - val_loss: 0.5542\n",
      "Epoch 8/80\n",
      "182/182 [==============================] - 0s 914us/step - loss: 0.4803 - val_loss: 0.6235\n",
      "Epoch 9/80\n",
      "182/182 [==============================] - 0s 859us/step - loss: 0.4645 - val_loss: 0.6793\n",
      "Epoch 10/80\n",
      "182/182 [==============================] - 0s 944us/step - loss: 0.4513 - val_loss: 0.7371\n",
      "Epoch 11/80\n",
      "182/182 [==============================] - 0s 958us/step - loss: 0.4408 - val_loss: 0.8258\n",
      "Epoch 12/80\n",
      "182/182 [==============================] - 0s 931us/step - loss: 0.4319 - val_loss: 0.8264\n",
      "Epoch 13/80\n",
      "182/182 [==============================] - 0s 944us/step - loss: 0.4245 - val_loss: 0.8451\n",
      "Epoch 14/80\n",
      "182/182 [==============================] - 0s 873us/step - loss: 0.4178 - val_loss: 0.8747\n",
      "Epoch 15/80\n",
      "182/182 [==============================] - 0s 844us/step - loss: 0.4124 - val_loss: 0.8440\n",
      "182/182 [==============================] - 0s 561us/step - loss: 0.4302\n",
      "[CV] END learning_rate=0.0016535051383872363, n_hidden=2, n_neurons=70; total time=   3.0s\n",
      "Epoch 1/80\n",
      "182/182 [==============================] - 0s 1ms/step - loss: 1.6464 - val_loss: 1.4267\n",
      "Epoch 2/80\n",
      "182/182 [==============================] - 0s 962us/step - loss: 0.7209 - val_loss: 1.9744\n",
      "Epoch 3/80\n",
      "182/182 [==============================] - 0s 841us/step - loss: 0.6470 - val_loss: 0.6863\n",
      "Epoch 4/80\n",
      "182/182 [==============================] - 0s 948us/step - loss: 0.6004 - val_loss: 0.6143\n",
      "Epoch 5/80\n",
      "182/182 [==============================] - 0s 1ms/step - loss: 0.5623 - val_loss: 0.6503\n",
      "Epoch 6/80\n",
      "182/182 [==============================] - 0s 1ms/step - loss: 0.5337 - val_loss: 0.4967\n",
      "Epoch 7/80\n",
      "182/182 [==============================] - 0s 944us/step - loss: 0.5099 - val_loss: 0.6220\n",
      "Epoch 8/80\n",
      "182/182 [==============================] - 0s 942us/step - loss: 0.4908 - val_loss: 0.4717\n",
      "Epoch 9/80\n",
      "182/182 [==============================] - 0s 946us/step - loss: 0.4733 - val_loss: 0.5200\n",
      "Epoch 10/80\n",
      "182/182 [==============================] - 0s 1ms/step - loss: 0.4589 - val_loss: 0.4525\n",
      "Epoch 11/80\n",
      "182/182 [==============================] - 0s 858us/step - loss: 0.4465 - val_loss: 0.5758\n",
      "Epoch 12/80\n",
      "182/182 [==============================] - 0s 944us/step - loss: 0.4377 - val_loss: 0.4221\n",
      "Epoch 13/80\n",
      "182/182 [==============================] - 0s 945us/step - loss: 0.4281 - val_loss: 0.4266\n",
      "Epoch 14/80\n",
      "182/182 [==============================] - 0s 944us/step - loss: 0.4200 - val_loss: 0.4303\n",
      "Epoch 15/80\n",
      "182/182 [==============================] - 0s 888us/step - loss: 0.4143 - val_loss: 0.3888\n"
     ]
    },
    {
     "name": "stdout",
     "output_type": "stream",
     "text": [
      "Epoch 16/80\n",
      "182/182 [==============================] - 0s 1ms/step - loss: 0.4093 - val_loss: 0.3921\n",
      "Epoch 17/80\n",
      "182/182 [==============================] - 0s 860us/step - loss: 0.4041 - val_loss: 0.5024\n",
      "Epoch 18/80\n",
      "182/182 [==============================] - 0s 943us/step - loss: 0.4016 - val_loss: 0.5008\n",
      "Epoch 19/80\n",
      "182/182 [==============================] - 0s 944us/step - loss: 0.4001 - val_loss: 1.0808\n",
      "Epoch 20/80\n",
      "182/182 [==============================] - 0s 946us/step - loss: 0.4087 - val_loss: 0.8791\n",
      "Epoch 21/80\n",
      "182/182 [==============================] - 0s 942us/step - loss: 0.4022 - val_loss: 1.3800\n",
      "Epoch 22/80\n",
      "182/182 [==============================] - 0s 1ms/step - loss: 0.4067 - val_loss: 0.5383\n",
      "Epoch 23/80\n",
      "182/182 [==============================] - 0s 1ms/step - loss: 0.3887 - val_loss: 0.6517\n",
      "Epoch 24/80\n",
      "182/182 [==============================] - 0s 944us/step - loss: 0.3877 - val_loss: 0.3938\n",
      "Epoch 25/80\n",
      "182/182 [==============================] - 0s 944us/step - loss: 0.3828 - val_loss: 0.3944\n",
      "182/182 [==============================] - 0s 515us/step - loss: 0.3898\n",
      "[CV] END learning_rate=0.0016535051383872363, n_hidden=2, n_neurons=70; total time=   4.8s\n",
      "Epoch 1/80\n",
      "182/182 [==============================] - 0s 1ms/step - loss: 1.2405 - val_loss: 5.5960\n",
      "Epoch 2/80\n",
      "182/182 [==============================] - 0s 859us/step - loss: 0.5569 - val_loss: 23.9245\n",
      "Epoch 3/80\n",
      "182/182 [==============================] - 0s 859us/step - loss: 0.5069 - val_loss: 37.8842\n",
      "Epoch 4/80\n",
      "182/182 [==============================] - 0s 858us/step - loss: 0.4904 - val_loss: 43.5274\n",
      "Epoch 5/80\n",
      "182/182 [==============================] - 0s 786us/step - loss: 0.4844 - val_loss: 47.4804\n",
      "Epoch 6/80\n",
      "182/182 [==============================] - 0s 859us/step - loss: 0.4825 - val_loss: 50.1291\n",
      "Epoch 7/80\n",
      "182/182 [==============================] - 0s 770us/step - loss: 0.4828 - val_loss: 50.4986\n",
      "Epoch 8/80\n",
      "182/182 [==============================] - 0s 859us/step - loss: 0.4809 - val_loss: 50.0973\n",
      "Epoch 9/80\n",
      "182/182 [==============================] - 0s 859us/step - loss: 0.4809 - val_loss: 50.6818\n",
      "Epoch 10/80\n",
      "182/182 [==============================] - 0s 773us/step - loss: 0.4807 - val_loss: 49.7813\n",
      "Epoch 11/80\n",
      "182/182 [==============================] - 0s 857us/step - loss: 0.4808 - val_loss: 49.3031\n",
      "182/182 [==============================] - 0s 517us/step - loss: 1.3409\n",
      "[CV] END learning_rate=0.01824796188192035, n_hidden=0, n_neurons=40; total time=   2.0s\n",
      "Epoch 1/80\n",
      "182/182 [==============================] - 0s 1ms/step - loss: 1.1306 - val_loss: 10.6337\n",
      "Epoch 2/80\n",
      "182/182 [==============================] - 0s 857us/step - loss: 0.7564 - val_loss: 365.1579\n",
      "Epoch 3/80\n",
      "182/182 [==============================] - 0s 773us/step - loss: 2.7373 - val_loss: 246.5621\n",
      "Epoch 4/80\n",
      "182/182 [==============================] - 0s 858us/step - loss: 5.4671 - val_loss: 272.9517\n",
      "Epoch 5/80\n",
      "182/182 [==============================] - 0s 859us/step - loss: 3.9761 - val_loss: 187.7171\n",
      "Epoch 6/80\n",
      "182/182 [==============================] - 0s 774us/step - loss: 13.6973 - val_loss: 216.2255\n",
      "Epoch 7/80\n",
      "182/182 [==============================] - 0s 776us/step - loss: 0.7549 - val_loss: 1.5187\n",
      "Epoch 8/80\n",
      "182/182 [==============================] - 0s 853us/step - loss: 0.7946 - val_loss: 233.8708\n",
      "Epoch 9/80\n",
      "182/182 [==============================] - 0s 946us/step - loss: 16.1944 - val_loss: 379.9620\n",
      "Epoch 10/80\n",
      "182/182 [==============================] - 0s 771us/step - loss: 33.7937 - val_loss: 439.2568\n",
      "Epoch 11/80\n",
      "182/182 [==============================] - 0s 774us/step - loss: 1.6374 - val_loss: 203.2544\n",
      "Epoch 12/80\n",
      "182/182 [==============================] - 0s 773us/step - loss: 17.3357 - val_loss: 226.1142\n",
      "Epoch 13/80\n",
      "182/182 [==============================] - 0s 943us/step - loss: 0.9697 - val_loss: 55.5667\n",
      "Epoch 14/80\n",
      "182/182 [==============================] - 0s 945us/step - loss: 2.0109 - val_loss: 134.2889\n",
      "Epoch 15/80\n",
      "182/182 [==============================] - 0s 922us/step - loss: 0.7233 - val_loss: 32.3480\n",
      "Epoch 16/80\n",
      "182/182 [==============================] - 0s 969us/step - loss: 0.5704 - val_loss: 12.3569\n",
      "Epoch 17/80\n",
      "182/182 [==============================] - 0s 856us/step - loss: 1.0698 - val_loss: 24.1663\n",
      "182/182 [==============================] - 0s 432us/step - loss: 0.6418\n",
      "[CV] END learning_rate=0.01824796188192035, n_hidden=0, n_neurons=40; total time=   3.1s\n",
      "Epoch 1/80\n",
      "182/182 [==============================] - 0s 1ms/step - loss: 1.3228 - val_loss: 2.4047\n",
      "Epoch 2/80\n",
      "182/182 [==============================] - 0s 960us/step - loss: 0.6651 - val_loss: 0.6686\n",
      "Epoch 3/80\n",
      "182/182 [==============================] - 0s 1ms/step - loss: 0.5729 - val_loss: 0.5084\n",
      "Epoch 4/80\n",
      "182/182 [==============================] - 0s 880us/step - loss: 0.5107 - val_loss: 0.5447\n",
      "Epoch 5/80\n",
      "182/182 [==============================] - 0s 922us/step - loss: 0.4705 - val_loss: 0.5375\n",
      "Epoch 6/80\n",
      "182/182 [==============================] - 0s 944us/step - loss: 0.4429 - val_loss: 0.5493\n",
      "Epoch 7/80\n",
      "182/182 [==============================] - 0s 970us/step - loss: 0.4246 - val_loss: 0.4953\n",
      "Epoch 8/80\n",
      "182/182 [==============================] - 0s 920us/step - loss: 0.4091 - val_loss: 0.4190\n",
      "Epoch 9/80\n",
      "182/182 [==============================] - 0s 945us/step - loss: 0.3978 - val_loss: 0.3946\n",
      "Epoch 10/80\n",
      "182/182 [==============================] - 0s 885us/step - loss: 0.3888 - val_loss: 0.3763\n",
      "Epoch 11/80\n",
      "182/182 [==============================] - 0s 1ms/step - loss: 0.3820 - val_loss: 0.3701\n",
      "Epoch 12/80\n",
      "182/182 [==============================] - 0s 933us/step - loss: 0.3766 - val_loss: 0.3906\n",
      "Epoch 13/80\n",
      "182/182 [==============================] - 0s 1ms/step - loss: 0.3729 - val_loss: 0.4415\n",
      "Epoch 14/80\n",
      "182/182 [==============================] - 0s 945us/step - loss: 0.3682 - val_loss: 0.4869\n",
      "Epoch 15/80\n",
      "182/182 [==============================] - 0s 1ms/step - loss: 0.3644 - val_loss: 0.5475\n",
      "Epoch 16/80\n",
      "182/182 [==============================] - 0s 923us/step - loss: 0.3619 - val_loss: 0.7463\n",
      "Epoch 17/80\n",
      "182/182 [==============================] - 0s 1ms/step - loss: 0.3572 - val_loss: 0.6965\n",
      "Epoch 18/80\n",
      "182/182 [==============================] - 0s 945us/step - loss: 0.3554 - val_loss: 0.9589\n",
      "Epoch 19/80\n",
      "182/182 [==============================] - 0s 947us/step - loss: 0.3529 - val_loss: 1.1049\n",
      "Epoch 20/80\n",
      "182/182 [==============================] - 0s 909us/step - loss: 0.3507 - val_loss: 1.1535\n",
      "Epoch 21/80\n",
      "182/182 [==============================] - 0s 857us/step - loss: 0.3485 - val_loss: 1.1864\n",
      "182/182 [==============================] - 0s 549us/step - loss: 0.3727\n",
      "[CV] END learning_rate=0.0045455096956331, n_hidden=3, n_neurons=30; total time=   4.1s\n",
      "Epoch 1/80\n",
      "182/182 [==============================] - 0s 1ms/step - loss: 1.3672 - val_loss: 4.6840\n",
      "Epoch 2/80\n",
      "182/182 [==============================] - 0s 858us/step - loss: 0.6598 - val_loss: 0.5377\n",
      "Epoch 3/80\n",
      "182/182 [==============================] - 0s 944us/step - loss: 0.5195 - val_loss: 0.4992\n",
      "Epoch 4/80\n",
      "182/182 [==============================] - 0s 859us/step - loss: 0.4734 - val_loss: 0.4777\n",
      "Epoch 5/80\n",
      "182/182 [==============================] - 0s 1ms/step - loss: 0.4454 - val_loss: 0.4680\n",
      "Epoch 6/80\n",
      "182/182 [==============================] - 0s 900us/step - loss: 0.4264 - val_loss: 0.4724\n",
      "Epoch 7/80\n",
      "182/182 [==============================] - 0s 903us/step - loss: 0.4143 - val_loss: 0.4254\n",
      "Epoch 8/80\n",
      "182/182 [==============================] - 0s 858us/step - loss: 0.4047 - val_loss: 0.4243\n",
      "Epoch 9/80\n",
      "182/182 [==============================] - 0s 986us/step - loss: 0.3966 - val_loss: 0.4637\n",
      "Epoch 10/80\n",
      "182/182 [==============================] - 0s 902us/step - loss: 0.3905 - val_loss: 0.4660\n",
      "Epoch 11/80\n",
      "182/182 [==============================] - 0s 945us/step - loss: 0.3843 - val_loss: 0.4215\n",
      "Epoch 12/80\n",
      "182/182 [==============================] - 0s 903us/step - loss: 0.3786 - val_loss: 0.4515\n",
      "Epoch 13/80\n",
      "182/182 [==============================] - 0s 900us/step - loss: 0.3758 - val_loss: 0.4012\n",
      "Epoch 14/80\n",
      "182/182 [==============================] - 0s 859us/step - loss: 0.3714 - val_loss: 0.4066\n",
      "Epoch 15/80\n",
      "182/182 [==============================] - 0s 944us/step - loss: 0.3678 - val_loss: 0.3912\n",
      "Epoch 16/80\n",
      "182/182 [==============================] - 0s 899us/step - loss: 0.3652 - val_loss: 0.3851\n",
      "Epoch 17/80\n",
      "182/182 [==============================] - 0s 859us/step - loss: 0.3624 - val_loss: 0.4087\n",
      "Epoch 18/80\n",
      "182/182 [==============================] - 0s 856us/step - loss: 0.3606 - val_loss: 0.3772\n",
      "Epoch 19/80\n",
      "182/182 [==============================] - 0s 945us/step - loss: 0.3575 - val_loss: 0.4201\n",
      "Epoch 20/80\n",
      "182/182 [==============================] - 0s 944us/step - loss: 0.3558 - val_loss: 0.3697\n",
      "Epoch 21/80\n",
      "182/182 [==============================] - 0s 858us/step - loss: 0.3534 - val_loss: 0.4020\n",
      "Epoch 22/80\n",
      "182/182 [==============================] - 0s 860us/step - loss: 0.3517 - val_loss: 0.4021\n",
      "Epoch 23/80\n",
      "182/182 [==============================] - 0s 945us/step - loss: 0.3507 - val_loss: 0.3582\n",
      "Epoch 24/80\n",
      "182/182 [==============================] - 0s 988us/step - loss: 0.3482 - val_loss: 0.3859\n",
      "Epoch 25/80\n",
      "182/182 [==============================] - 0s 814us/step - loss: 0.3472 - val_loss: 0.3473\n",
      "Epoch 26/80\n",
      "182/182 [==============================] - 0s 1ms/step - loss: 0.3457 - val_loss: 0.3970\n",
      "Epoch 27/80\n",
      "182/182 [==============================] - 0s 947us/step - loss: 0.3440 - val_loss: 0.3847\n",
      "Epoch 28/80\n",
      "182/182 [==============================] - 0s 970us/step - loss: 0.3422 - val_loss: 0.3552\n",
      "Epoch 29/80\n",
      "182/182 [==============================] - 0s 917us/step - loss: 0.3412 - val_loss: 0.3547\n",
      "Epoch 30/80\n",
      "182/182 [==============================] - 0s 991us/step - loss: 0.3396 - val_loss: 0.3412\n",
      "Epoch 31/80\n",
      "182/182 [==============================] - 0s 986us/step - loss: 0.3382 - val_loss: 0.3406\n",
      "Epoch 32/80\n",
      "182/182 [==============================] - 0s 956us/step - loss: 0.3364 - val_loss: 0.3673\n",
      "Epoch 33/80\n",
      "182/182 [==============================] - 0s 844us/step - loss: 0.3361 - val_loss: 0.3283\n",
      "Epoch 34/80\n",
      "182/182 [==============================] - 0s 860us/step - loss: 0.3343 - val_loss: 0.3456\n",
      "Epoch 35/80\n",
      "182/182 [==============================] - 0s 962us/step - loss: 0.3331 - val_loss: 0.3364\n",
      "Epoch 36/80\n",
      "182/182 [==============================] - 0s 925us/step - loss: 0.3324 - val_loss: 0.3870\n",
      "Epoch 37/80\n",
      "182/182 [==============================] - 0s 860us/step - loss: 0.3314 - val_loss: 0.3384\n",
      "Epoch 38/80\n",
      "182/182 [==============================] - 0s 963us/step - loss: 0.3299 - val_loss: 0.3470\n",
      "Epoch 39/80\n",
      "182/182 [==============================] - 0s 924us/step - loss: 0.3287 - val_loss: 0.3432\n",
      "Epoch 40/80\n",
      "182/182 [==============================] - 0s 1ms/step - loss: 0.3280 - val_loss: 0.3341\n",
      "Epoch 41/80\n",
      "182/182 [==============================] - 0s 858us/step - loss: 0.3264 - val_loss: 0.3632\n",
      "Epoch 42/80\n",
      "182/182 [==============================] - 0s 952us/step - loss: 0.3269 - val_loss: 0.3244\n",
      "Epoch 43/80\n",
      "182/182 [==============================] - 0s 938us/step - loss: 0.3244 - val_loss: 0.3741\n",
      "Epoch 44/80\n",
      "182/182 [==============================] - 0s 857us/step - loss: 0.3251 - val_loss: 0.3637\n",
      "Epoch 45/80\n",
      "182/182 [==============================] - 0s 1ms/step - loss: 0.3236 - val_loss: 0.3233\n",
      "Epoch 46/80\n",
      "182/182 [==============================] - 0s 1ms/step - loss: 0.3228 - val_loss: 0.3178\n",
      "Epoch 47/80\n",
      "182/182 [==============================] - 0s 1ms/step - loss: 0.3214 - val_loss: 0.3188\n",
      "Epoch 48/80\n",
      "182/182 [==============================] - 0s 969us/step - loss: 0.3210 - val_loss: 0.3602\n",
      "Epoch 49/80\n",
      "182/182 [==============================] - 0s 945us/step - loss: 0.3222 - val_loss: 0.3164\n",
      "Epoch 50/80\n",
      "182/182 [==============================] - 0s 946us/step - loss: 0.3193 - val_loss: 0.3713\n",
      "Epoch 51/80\n",
      "182/182 [==============================] - 0s 942us/step - loss: 0.3193 - val_loss: 0.3308\n",
      "Epoch 52/80\n",
      "182/182 [==============================] - 0s 900us/step - loss: 0.3175 - val_loss: 0.3149\n",
      "Epoch 53/80\n",
      "182/182 [==============================] - 0s 947us/step - loss: 0.3158 - val_loss: 0.3295\n",
      "Epoch 54/80\n",
      "182/182 [==============================] - 0s 900us/step - loss: 0.3165 - val_loss: 0.3269\n",
      "Epoch 55/80\n",
      "182/182 [==============================] - 0s 988us/step - loss: 0.3153 - val_loss: 0.3222\n",
      "Epoch 56/80\n",
      "182/182 [==============================] - 0s 945us/step - loss: 0.3144 - val_loss: 0.3625\n",
      "Epoch 57/80\n",
      "182/182 [==============================] - 0s 945us/step - loss: 0.3133 - val_loss: 0.3158\n",
      "Epoch 58/80\n",
      "182/182 [==============================] - 0s 942us/step - loss: 0.3131 - val_loss: 0.3388\n",
      "Epoch 59/80\n",
      "182/182 [==============================] - 0s 881us/step - loss: 0.3112 - val_loss: 0.3144\n",
      "Epoch 60/80\n",
      "182/182 [==============================] - 0s 922us/step - loss: 0.3117 - val_loss: 0.3273\n",
      "Epoch 61/80\n",
      "182/182 [==============================] - 0s 944us/step - loss: 0.3104 - val_loss: 0.3571\n",
      "Epoch 62/80\n",
      "182/182 [==============================] - 0s 858us/step - loss: 0.3101 - val_loss: 0.3322\n",
      "Epoch 63/80\n",
      "182/182 [==============================] - 0s 945us/step - loss: 0.3094 - val_loss: 0.3087\n",
      "Epoch 64/80\n",
      "182/182 [==============================] - 0s 945us/step - loss: 0.3091 - val_loss: 0.3557\n",
      "Epoch 65/80\n",
      "182/182 [==============================] - 0s 860us/step - loss: 0.3078 - val_loss: 0.3368\n",
      "Epoch 66/80\n",
      "182/182 [==============================] - 0s 960us/step - loss: 0.3077 - val_loss: 0.3180\n",
      "Epoch 67/80\n",
      "182/182 [==============================] - 0s 985us/step - loss: 0.3065 - val_loss: 0.3633\n",
      "Epoch 68/80\n",
      "182/182 [==============================] - 0s 973us/step - loss: 0.3061 - val_loss: 0.3121\n",
      "Epoch 69/80\n",
      "182/182 [==============================] - 0s 945us/step - loss: 0.3053 - val_loss: 0.3399\n",
      "Epoch 70/80\n",
      "182/182 [==============================] - 0s 943us/step - loss: 0.3045 - val_loss: 0.3343\n",
      "Epoch 71/80\n",
      "182/182 [==============================] - 0s 1ms/step - loss: 0.3042 - val_loss: 0.3333\n",
      "Epoch 72/80\n",
      "182/182 [==============================] - 0s 945us/step - loss: 0.3035 - val_loss: 0.4583\n",
      "Epoch 73/80\n",
      "182/182 [==============================] - 0s 944us/step - loss: 0.3063 - val_loss: 0.4119\n",
      "182/182 [==============================] - 0s 588us/step - loss: 0.3317\n",
      "[CV] END learning_rate=0.0045455096956331, n_hidden=3, n_neurons=30; total time=  12.9s\n",
      "Epoch 1/80\n",
      "182/182 [==============================] - 0s 1ms/step - loss: 2.2325 - val_loss: 2.9804\n",
      "Epoch 2/80\n",
      "182/182 [==============================] - 0s 843us/step - loss: 0.7534 - val_loss: 1.6339\n",
      "Epoch 3/80\n",
      "182/182 [==============================] - 0s 945us/step - loss: 0.6664 - val_loss: 0.7989\n",
      "Epoch 4/80\n",
      "182/182 [==============================] - 0s 859us/step - loss: 0.6158 - val_loss: 0.5436\n",
      "Epoch 5/80\n",
      "182/182 [==============================] - 0s 1ms/step - loss: 0.5759 - val_loss: 0.6848\n",
      "Epoch 6/80\n",
      "182/182 [==============================] - 0s 858us/step - loss: 0.5435 - val_loss: 1.0607\n",
      "Epoch 7/80\n",
      "182/182 [==============================] - 0s 860us/step - loss: 0.5174 - val_loss: 1.4976\n",
      "Epoch 8/80\n",
      "182/182 [==============================] - 0s 943us/step - loss: 0.4958 - val_loss: 2.0102\n",
      "Epoch 9/80\n",
      "182/182 [==============================] - 0s 858us/step - loss: 0.4791 - val_loss: 2.4068\n",
      "Epoch 10/80\n",
      "182/182 [==============================] - 0s 860us/step - loss: 0.4656 - val_loss: 2.7186\n",
      "Epoch 11/80\n",
      "182/182 [==============================] - 0s 945us/step - loss: 0.4550 - val_loss: 3.0404\n",
      "Epoch 12/80\n",
      "182/182 [==============================] - 0s 859us/step - loss: 0.4465 - val_loss: 3.1563\n",
      "Epoch 13/80\n",
      "182/182 [==============================] - 0s 857us/step - loss: 0.4393 - val_loss: 3.2574\n",
      "Epoch 14/80\n",
      "182/182 [==============================] - 0s 858us/step - loss: 0.4333 - val_loss: 3.3556\n",
      "182/182 [==============================] - 0s 430us/step - loss: 0.4917\n",
      "[CV] END learning_rate=0.0020587676114196545, n_hidden=1, n_neurons=49; total time=   2.7s\n",
      "Epoch 1/80\n",
      "182/182 [==============================] - 0s 1ms/step - loss: 2.3110 - val_loss: 1.5065\n",
      "Epoch 2/80\n",
      "182/182 [==============================] - 0s 800us/step - loss: 0.7956 - val_loss: 0.6967\n",
      "Epoch 3/80\n",
      "182/182 [==============================] - 0s 770us/step - loss: 0.6669 - val_loss: 0.6338\n",
      "Epoch 4/80\n",
      "182/182 [==============================] - 0s 905us/step - loss: 0.6271 - val_loss: 0.5938\n"
     ]
    },
    {
     "name": "stdout",
     "output_type": "stream",
     "text": [
      "Epoch 5/80\n",
      "182/182 [==============================] - 0s 812us/step - loss: 0.5970 - val_loss: 0.5804\n",
      "Epoch 6/80\n",
      "182/182 [==============================] - 0s 945us/step - loss: 0.5703 - val_loss: 0.5417\n",
      "Epoch 7/80\n",
      "182/182 [==============================] - 0s 858us/step - loss: 0.5475 - val_loss: 0.5416\n",
      "Epoch 8/80\n",
      "182/182 [==============================] - 0s 809us/step - loss: 0.5274 - val_loss: 0.5183\n",
      "Epoch 9/80\n",
      "182/182 [==============================] - 0s 871us/step - loss: 0.5087 - val_loss: 0.4888\n",
      "Epoch 10/80\n",
      "182/182 [==============================] - 0s 933us/step - loss: 0.4924 - val_loss: 0.4783\n",
      "Epoch 11/80\n",
      "182/182 [==============================] - 0s 858us/step - loss: 0.4786 - val_loss: 0.4834\n",
      "Epoch 12/80\n",
      "182/182 [==============================] - 0s 925us/step - loss: 0.4665 - val_loss: 0.4594\n",
      "Epoch 13/80\n",
      "182/182 [==============================] - 0s 875us/step - loss: 0.4566 - val_loss: 0.4575\n",
      "Epoch 14/80\n",
      "182/182 [==============================] - 0s 945us/step - loss: 0.4475 - val_loss: 0.4514\n",
      "Epoch 15/80\n",
      "182/182 [==============================] - 0s 860us/step - loss: 0.4405 - val_loss: 0.4515\n",
      "Epoch 16/80\n",
      "182/182 [==============================] - 0s 857us/step - loss: 0.4342 - val_loss: 0.4344\n",
      "Epoch 17/80\n",
      "182/182 [==============================] - 0s 863us/step - loss: 0.4293 - val_loss: 0.4426\n",
      "Epoch 18/80\n",
      "182/182 [==============================] - 0s 941us/step - loss: 0.4248 - val_loss: 0.4350\n",
      "Epoch 19/80\n",
      "182/182 [==============================] - 0s 945us/step - loss: 0.4210 - val_loss: 0.4455\n",
      "Epoch 20/80\n",
      "182/182 [==============================] - 0s 943us/step - loss: 0.4177 - val_loss: 0.4332\n",
      "Epoch 21/80\n",
      "182/182 [==============================] - 0s 880us/step - loss: 0.4146 - val_loss: 0.4389\n",
      "Epoch 22/80\n",
      "182/182 [==============================] - 0s 839us/step - loss: 0.4120 - val_loss: 0.4390\n",
      "Epoch 23/80\n",
      "182/182 [==============================] - 0s 859us/step - loss: 0.4097 - val_loss: 0.4349\n",
      "Epoch 24/80\n",
      "182/182 [==============================] - 0s 942us/step - loss: 0.4077 - val_loss: 0.4485\n",
      "Epoch 25/80\n",
      "182/182 [==============================] - 0s 881us/step - loss: 0.4057 - val_loss: 0.4147\n",
      "Epoch 26/80\n",
      "182/182 [==============================] - 0s 922us/step - loss: 0.4038 - val_loss: 0.4511\n",
      "Epoch 27/80\n",
      "182/182 [==============================] - 0s 858us/step - loss: 0.4021 - val_loss: 0.4434\n",
      "Epoch 28/80\n",
      "182/182 [==============================] - 0s 795us/step - loss: 0.4011 - val_loss: 0.4242\n",
      "Epoch 29/80\n",
      "182/182 [==============================] - 0s 922us/step - loss: 0.3992 - val_loss: 0.4213\n",
      "Epoch 30/80\n",
      "182/182 [==============================] - 0s 944us/step - loss: 0.3976 - val_loss: 0.4090\n",
      "Epoch 31/80\n",
      "182/182 [==============================] - 0s 886us/step - loss: 0.3963 - val_loss: 0.4129\n",
      "Epoch 32/80\n",
      "182/182 [==============================] - 0s 917us/step - loss: 0.3953 - val_loss: 0.4337\n",
      "Epoch 33/80\n",
      "182/182 [==============================] - 0s 858us/step - loss: 0.3940 - val_loss: 0.3977\n",
      "Epoch 34/80\n",
      "182/182 [==============================] - 0s 860us/step - loss: 0.3926 - val_loss: 0.4091\n",
      "Epoch 35/80\n",
      "182/182 [==============================] - 0s 942us/step - loss: 0.3916 - val_loss: 0.4115\n",
      "Epoch 36/80\n",
      "182/182 [==============================] - 0s 859us/step - loss: 0.3905 - val_loss: 0.4330\n",
      "Epoch 37/80\n",
      "182/182 [==============================] - 0s 860us/step - loss: 0.3893 - val_loss: 0.4002\n",
      "Epoch 38/80\n",
      "182/182 [==============================] - 0s 778us/step - loss: 0.3885 - val_loss: 0.4008\n",
      "Epoch 39/80\n",
      "182/182 [==============================] - 0s 767us/step - loss: 0.3875 - val_loss: 0.4093\n",
      "Epoch 40/80\n",
      "182/182 [==============================] - 0s 772us/step - loss: 0.3867 - val_loss: 0.4054\n",
      "Epoch 41/80\n",
      "182/182 [==============================] - 0s 839us/step - loss: 0.3855 - val_loss: 0.4247\n",
      "Epoch 42/80\n",
      "182/182 [==============================] - 0s 879us/step - loss: 0.3850 - val_loss: 0.3963\n",
      "Epoch 43/80\n",
      "182/182 [==============================] - 0s 859us/step - loss: 0.3839 - val_loss: 0.4229\n",
      "Epoch 44/80\n",
      "182/182 [==============================] - 0s 858us/step - loss: 0.3829 - val_loss: 0.4379\n",
      "Epoch 45/80\n",
      "182/182 [==============================] - 0s 861us/step - loss: 0.3824 - val_loss: 0.3809\n",
      "Epoch 46/80\n",
      "182/182 [==============================] - 0s 858us/step - loss: 0.3815 - val_loss: 0.3744\n",
      "Epoch 47/80\n",
      "182/182 [==============================] - 0s 857us/step - loss: 0.3806 - val_loss: 0.3730\n",
      "Epoch 48/80\n",
      "182/182 [==============================] - 0s 879us/step - loss: 0.3799 - val_loss: 0.4170\n",
      "Epoch 49/80\n",
      "182/182 [==============================] - 0s 840us/step - loss: 0.3792 - val_loss: 0.3876\n",
      "Epoch 50/80\n",
      "182/182 [==============================] - 0s 945us/step - loss: 0.3784 - val_loss: 0.4214\n",
      "Epoch 51/80\n",
      "182/182 [==============================] - 0s 857us/step - loss: 0.3782 - val_loss: 0.4024\n",
      "Epoch 52/80\n",
      "182/182 [==============================] - 0s 892us/step - loss: 0.3771 - val_loss: 0.3817\n",
      "Epoch 53/80\n",
      "182/182 [==============================] - 0s 865us/step - loss: 0.3760 - val_loss: 0.3803\n",
      "Epoch 54/80\n",
      "182/182 [==============================] - 0s 819us/step - loss: 0.3759 - val_loss: 0.3807\n",
      "Epoch 55/80\n",
      "182/182 [==============================] - 0s 859us/step - loss: 0.3748 - val_loss: 0.3721\n",
      "Epoch 56/80\n",
      "182/182 [==============================] - 0s 858us/step - loss: 0.3744 - val_loss: 0.3963\n",
      "Epoch 57/80\n",
      "182/182 [==============================] - 0s 859us/step - loss: 0.3736 - val_loss: 0.3777\n",
      "Epoch 58/80\n",
      "182/182 [==============================] - 0s 859us/step - loss: 0.3732 - val_loss: 0.3695\n",
      "Epoch 59/80\n",
      "182/182 [==============================] - 0s 859us/step - loss: 0.3723 - val_loss: 0.3699\n",
      "Epoch 60/80\n",
      "182/182 [==============================] - 0s 943us/step - loss: 0.3719 - val_loss: 0.3884\n",
      "Epoch 61/80\n",
      "182/182 [==============================] - 0s 859us/step - loss: 0.3712 - val_loss: 0.4101\n",
      "Epoch 62/80\n",
      "182/182 [==============================] - 0s 858us/step - loss: 0.3708 - val_loss: 0.4033\n",
      "Epoch 63/80\n",
      "182/182 [==============================] - 0s 858us/step - loss: 0.3706 - val_loss: 0.3583\n",
      "Epoch 64/80\n",
      "182/182 [==============================] - 0s 860us/step - loss: 0.3697 - val_loss: 0.3932\n",
      "Epoch 65/80\n",
      "182/182 [==============================] - 0s 876us/step - loss: 0.3691 - val_loss: 0.3851\n",
      "Epoch 66/80\n",
      "182/182 [==============================] - 0s 926us/step - loss: 0.3687 - val_loss: 0.3804\n",
      "Epoch 67/80\n",
      "182/182 [==============================] - 0s 859us/step - loss: 0.3680 - val_loss: 0.4052\n",
      "Epoch 68/80\n",
      "182/182 [==============================] - 0s 859us/step - loss: 0.3675 - val_loss: 0.3774\n",
      "Epoch 69/80\n",
      "182/182 [==============================] - 0s 754us/step - loss: 0.3671 - val_loss: 0.3882\n",
      "Epoch 70/80\n",
      "182/182 [==============================] - 0s 944us/step - loss: 0.3662 - val_loss: 0.3918\n",
      "Epoch 71/80\n",
      "182/182 [==============================] - 0s 859us/step - loss: 0.3663 - val_loss: 0.3642\n",
      "Epoch 72/80\n",
      "182/182 [==============================] - 0s 858us/step - loss: 0.3653 - val_loss: 0.4191\n",
      "Epoch 73/80\n",
      "182/182 [==============================] - 0s 859us/step - loss: 0.3653 - val_loss: 0.3616\n",
      "182/182 [==============================] - 0s 517us/step - loss: 0.3712\n",
      "[CV] END learning_rate=0.0020587676114196545, n_hidden=1, n_neurons=49; total time=  12.0s\n",
      "Epoch 1/80\n",
      "182/182 [==============================] - 0s 1ms/step - loss: 1.0512 - val_loss: 9.7311\n",
      "Epoch 2/80\n",
      "182/182 [==============================] - 0s 1ms/step - loss: 0.5458 - val_loss: 1.3817\n",
      "Epoch 3/80\n",
      "182/182 [==============================] - 0s 944us/step - loss: 0.4503 - val_loss: 0.4010\n",
      "Epoch 4/80\n",
      "182/182 [==============================] - 0s 970us/step - loss: 0.4112 - val_loss: 0.4842\n",
      "Epoch 5/80\n",
      "182/182 [==============================] - 0s 1ms/step - loss: 0.3933 - val_loss: 0.4339\n",
      "Epoch 6/80\n",
      "182/182 [==============================] - 0s 1ms/step - loss: 0.3806 - val_loss: 0.4961\n",
      "Epoch 7/80\n",
      "182/182 [==============================] - 0s 944us/step - loss: 0.3720 - val_loss: 0.3700\n",
      "Epoch 8/80\n",
      "182/182 [==============================] - 0s 944us/step - loss: 0.3639 - val_loss: 0.3452\n",
      "Epoch 9/80\n",
      "182/182 [==============================] - 0s 1ms/step - loss: 0.3571 - val_loss: 0.3399\n",
      "Epoch 10/80\n",
      "182/182 [==============================] - 0s 1ms/step - loss: 0.3507 - val_loss: 0.3463\n",
      "Epoch 11/80\n",
      "182/182 [==============================] - 0s 988us/step - loss: 0.3463 - val_loss: 0.3810\n",
      "Epoch 12/80\n",
      "182/182 [==============================] - 0s 1ms/step - loss: 0.3434 - val_loss: 0.4201\n",
      "Epoch 13/80\n",
      "182/182 [==============================] - 0s 918us/step - loss: 0.3406 - val_loss: 0.4759\n",
      "Epoch 14/80\n",
      "182/182 [==============================] - 0s 1ms/step - loss: 0.3368 - val_loss: 0.5623\n",
      "Epoch 15/80\n",
      "182/182 [==============================] - 0s 1ms/step - loss: 0.3340 - val_loss: 0.5931\n",
      "Epoch 16/80\n",
      "182/182 [==============================] - 0s 1ms/step - loss: 0.3327 - val_loss: 0.9421\n",
      "Epoch 17/80\n",
      "182/182 [==============================] - 0s 1ms/step - loss: 0.3284 - val_loss: 0.8091\n",
      "Epoch 18/80\n",
      "182/182 [==============================] - 0s 910us/step - loss: 0.3259 - val_loss: 1.0850\n",
      "Epoch 19/80\n",
      "182/182 [==============================] - 0s 964us/step - loss: 0.3255 - val_loss: 1.2685\n",
      "182/182 [==============================] - 0s 515us/step - loss: 0.3588\n",
      "[CV] END learning_rate=0.005803602934201024, n_hidden=3, n_neurons=74; total time=   3.9s\n",
      "Epoch 1/80\n",
      "182/182 [==============================] - 0s 2ms/step - loss: 1.0317 - val_loss: 4.5166\n",
      "Epoch 2/80\n",
      "182/182 [==============================] - 0s 1ms/step - loss: 0.5809 - val_loss: 3.6094\n",
      "Epoch 3/80\n",
      "182/182 [==============================] - 0s 985us/step - loss: 0.4971 - val_loss: 0.6586\n",
      "Epoch 4/80\n",
      "182/182 [==============================] - 0s 904us/step - loss: 0.4338 - val_loss: 0.4045\n",
      "Epoch 5/80\n",
      "182/182 [==============================] - 0s 944us/step - loss: 0.4082 - val_loss: 0.4308\n",
      "Epoch 6/80\n",
      "182/182 [==============================] - 0s 1ms/step - loss: 0.3951 - val_loss: 0.4350\n",
      "Epoch 7/80\n",
      "182/182 [==============================] - 0s 1ms/step - loss: 0.3823 - val_loss: 0.4190\n",
      "Epoch 8/80\n",
      "182/182 [==============================] - 0s 1ms/step - loss: 0.3754 - val_loss: 0.3972\n",
      "Epoch 9/80\n",
      "182/182 [==============================] - 0s 1ms/step - loss: 0.3699 - val_loss: 0.4263\n",
      "Epoch 10/80\n",
      "182/182 [==============================] - 0s 944us/step - loss: 0.3638 - val_loss: 0.4266\n",
      "Epoch 11/80\n",
      "182/182 [==============================] - 0s 1ms/step - loss: 0.3579 - val_loss: 0.3859\n",
      "Epoch 12/80\n",
      "182/182 [==============================] - 0s 901us/step - loss: 0.3531 - val_loss: 0.4512\n",
      "Epoch 13/80\n",
      "182/182 [==============================] - 0s 944us/step - loss: 0.3511 - val_loss: 0.3585\n",
      "Epoch 14/80\n",
      "182/182 [==============================] - 0s 1ms/step - loss: 0.3472 - val_loss: 0.3763\n",
      "Epoch 15/80\n",
      "182/182 [==============================] - 0s 942us/step - loss: 0.3435 - val_loss: 0.3635\n",
      "Epoch 16/80\n",
      "182/182 [==============================] - 0s 859us/step - loss: 0.3400 - val_loss: 0.3581\n",
      "Epoch 17/80\n",
      "182/182 [==============================] - 0s 1ms/step - loss: 0.3375 - val_loss: 0.3826\n",
      "Epoch 18/80\n",
      "182/182 [==============================] - 0s 964us/step - loss: 0.3367 - val_loss: 0.3296\n",
      "Epoch 19/80\n",
      "182/182 [==============================] - 0s 924us/step - loss: 0.3349 - val_loss: 0.3718\n",
      "Epoch 20/80\n",
      "182/182 [==============================] - 0s 942us/step - loss: 0.3318 - val_loss: 0.3469\n",
      "Epoch 21/80\n",
      "182/182 [==============================] - 0s 1ms/step - loss: 0.3278 - val_loss: 0.3924\n",
      "Epoch 22/80\n",
      "182/182 [==============================] - 0s 945us/step - loss: 0.3255 - val_loss: 0.3637\n",
      "Epoch 23/80\n",
      "182/182 [==============================] - 0s 1ms/step - loss: 0.3244 - val_loss: 0.3141\n",
      "Epoch 24/80\n",
      "182/182 [==============================] - 0s 1ms/step - loss: 0.3213 - val_loss: 0.3685\n",
      "Epoch 25/80\n",
      "182/182 [==============================] - 0s 973us/step - loss: 0.3193 - val_loss: 0.3262\n",
      "Epoch 26/80\n",
      "182/182 [==============================] - 0s 1ms/step - loss: 0.3170 - val_loss: 0.3758\n",
      "Epoch 27/80\n",
      "182/182 [==============================] - 0s 944us/step - loss: 0.3156 - val_loss: 0.3586\n",
      "Epoch 28/80\n",
      "182/182 [==============================] - 0s 944us/step - loss: 0.3159 - val_loss: 0.3173\n",
      "Epoch 29/80\n",
      "182/182 [==============================] - 0s 945us/step - loss: 0.3117 - val_loss: 0.3324\n",
      "Epoch 30/80\n",
      "182/182 [==============================] - 0s 944us/step - loss: 0.3113 - val_loss: 0.3075\n",
      "Epoch 31/80\n",
      "182/182 [==============================] - 0s 1ms/step - loss: 0.3089 - val_loss: 0.3264\n",
      "Epoch 32/80\n",
      "182/182 [==============================] - 0s 972us/step - loss: 0.3055 - val_loss: 0.3794\n",
      "Epoch 33/80\n",
      "182/182 [==============================] - 0s 953us/step - loss: 0.3051 - val_loss: 0.3142\n",
      "Epoch 34/80\n",
      "182/182 [==============================] - 0s 1ms/step - loss: 0.3055 - val_loss: 0.3419\n",
      "Epoch 35/80\n",
      "182/182 [==============================] - 0s 1ms/step - loss: 0.3069 - val_loss: 0.3175\n",
      "Epoch 36/80\n",
      "182/182 [==============================] - 0s 946us/step - loss: 0.3022 - val_loss: 0.3695\n",
      "Epoch 37/80\n",
      "182/182 [==============================] - 0s 945us/step - loss: 0.3010 - val_loss: 0.3376\n",
      "Epoch 38/80\n",
      "182/182 [==============================] - 0s 1ms/step - loss: 0.2989 - val_loss: 0.3576\n",
      "Epoch 39/80\n",
      "182/182 [==============================] - 0s 1ms/step - loss: 0.2979 - val_loss: 0.3352\n",
      "Epoch 40/80\n",
      "182/182 [==============================] - 0s 1ms/step - loss: 0.2955 - val_loss: 0.3034\n",
      "Epoch 41/80\n",
      "182/182 [==============================] - 0s 944us/step - loss: 0.2945 - val_loss: 0.3629\n",
      "Epoch 42/80\n",
      "182/182 [==============================] - 0s 1ms/step - loss: 0.2944 - val_loss: 0.3082\n",
      "Epoch 43/80\n",
      "182/182 [==============================] - 0s 1ms/step - loss: 0.2940 - val_loss: 0.3641\n",
      "Epoch 44/80\n",
      "182/182 [==============================] - 0s 959us/step - loss: 0.2943 - val_loss: 0.3672\n",
      "Epoch 45/80\n",
      "182/182 [==============================] - 0s 927us/step - loss: 0.2906 - val_loss: 0.3118\n",
      "Epoch 46/80\n",
      "182/182 [==============================] - 0s 944us/step - loss: 0.2898 - val_loss: 0.3002\n",
      "Epoch 47/80\n",
      "182/182 [==============================] - 0s 947us/step - loss: 0.2887 - val_loss: 0.3029\n",
      "Epoch 48/80\n",
      "182/182 [==============================] - 0s 943us/step - loss: 0.2894 - val_loss: 0.4171\n",
      "Epoch 49/80\n",
      "182/182 [==============================] - 0s 943us/step - loss: 0.3021 - val_loss: 0.2950\n",
      "Epoch 50/80\n",
      "182/182 [==============================] - 0s 1ms/step - loss: 0.2863 - val_loss: 0.3668\n",
      "Epoch 51/80\n",
      "182/182 [==============================] - 0s 1ms/step - loss: 0.2875 - val_loss: 0.3041\n",
      "Epoch 52/80\n",
      "182/182 [==============================] - 0s 944us/step - loss: 0.2830 - val_loss: 0.2895\n",
      "Epoch 53/80\n",
      "182/182 [==============================] - 0s 1ms/step - loss: 0.2820 - val_loss: 0.3067\n",
      "Epoch 54/80\n",
      "182/182 [==============================] - 0s 975us/step - loss: 0.2816 - val_loss: 0.3295\n",
      "Epoch 55/80\n",
      "182/182 [==============================] - 0s 943us/step - loss: 0.2817 - val_loss: 0.3277\n",
      "Epoch 56/80\n",
      "182/182 [==============================] - 0s 858us/step - loss: 0.2806 - val_loss: 0.3763\n",
      "Epoch 57/80\n",
      "182/182 [==============================] - 0s 944us/step - loss: 0.2779 - val_loss: 0.2872\n",
      "Epoch 58/80\n",
      "182/182 [==============================] - 0s 902us/step - loss: 0.2783 - val_loss: 0.2938\n",
      "Epoch 59/80\n",
      "182/182 [==============================] - 0s 944us/step - loss: 0.2751 - val_loss: 0.2942\n",
      "Epoch 60/80\n",
      "182/182 [==============================] - 0s 905us/step - loss: 0.2747 - val_loss: 0.3615\n",
      "Epoch 61/80\n",
      "182/182 [==============================] - 0s 894us/step - loss: 0.2746 - val_loss: 0.3152\n",
      "Epoch 62/80\n",
      "182/182 [==============================] - 0s 862us/step - loss: 0.2746 - val_loss: 0.2881\n",
      "Epoch 63/80\n",
      "182/182 [==============================] - 0s 1ms/step - loss: 0.2746 - val_loss: 0.3095\n",
      "Epoch 64/80\n",
      "182/182 [==============================] - 0s 945us/step - loss: 0.2734 - val_loss: 0.3367\n",
      "Epoch 65/80\n",
      "182/182 [==============================] - 0s 942us/step - loss: 0.2716 - val_loss: 0.3697\n",
      "Epoch 66/80\n",
      "182/182 [==============================] - 0s 1ms/step - loss: 0.2725 - val_loss: 0.3261\n",
      "Epoch 67/80\n",
      "182/182 [==============================] - 0s 944us/step - loss: 0.2705 - val_loss: 0.3745\n",
      "182/182 [==============================] - 0s 514us/step - loss: 0.3065\n",
      "[CV] END learning_rate=0.005803602934201024, n_hidden=3, n_neurons=74; total time=  12.6s\n",
      "Epoch 1/80\n"
     ]
    },
    {
     "name": "stdout",
     "output_type": "stream",
     "text": [
      "182/182 [==============================] - 0s 1ms/step - loss: 1.0542 - val_loss: 2.1180\n",
      "Epoch 2/80\n",
      "182/182 [==============================] - 0s 946us/step - loss: 0.5464 - val_loss: 0.5344\n",
      "Epoch 3/80\n",
      "182/182 [==============================] - 0s 955us/step - loss: 0.4719 - val_loss: 0.4373\n",
      "Epoch 4/80\n",
      "182/182 [==============================] - 0s 1ms/step - loss: 0.4274 - val_loss: 0.4964\n",
      "Epoch 5/80\n",
      "182/182 [==============================] - 0s 865us/step - loss: 0.4003 - val_loss: 0.4180\n",
      "Epoch 6/80\n",
      "182/182 [==============================] - 0s 930us/step - loss: 0.3813 - val_loss: 0.3872\n",
      "Epoch 7/80\n",
      "182/182 [==============================] - 0s 894us/step - loss: 0.3696 - val_loss: 0.3469\n",
      "Epoch 8/80\n",
      "182/182 [==============================] - 0s 1ms/step - loss: 0.3597 - val_loss: 0.3560\n",
      "Epoch 9/80\n",
      "182/182 [==============================] - 0s 945us/step - loss: 0.3521 - val_loss: 0.3810\n",
      "Epoch 10/80\n",
      "182/182 [==============================] - 0s 943us/step - loss: 0.3454 - val_loss: 0.4355\n",
      "Epoch 11/80\n",
      "182/182 [==============================] - 0s 961us/step - loss: 0.3414 - val_loss: 0.5199\n",
      "Epoch 12/80\n",
      "182/182 [==============================] - 0s 930us/step - loss: 0.3378 - val_loss: 0.6125\n",
      "Epoch 13/80\n",
      "182/182 [==============================] - 0s 1ms/step - loss: 0.3353 - val_loss: 0.7289\n",
      "Epoch 14/80\n",
      "182/182 [==============================] - 0s 844us/step - loss: 0.3311 - val_loss: 0.8606\n",
      "Epoch 15/80\n",
      "182/182 [==============================] - 0s 971us/step - loss: 0.3280 - val_loss: 0.9307\n",
      "Epoch 16/80\n",
      "182/182 [==============================] - 0s 1ms/step - loss: 0.3268 - val_loss: 1.2838\n",
      "Epoch 17/80\n",
      "182/182 [==============================] - 0s 945us/step - loss: 0.3225 - val_loss: 1.0966\n",
      "182/182 [==============================] - 0s 513us/step - loss: 0.3703\n",
      "[CV] END learning_rate=0.0059640580092043885, n_hidden=3, n_neurons=80; total time=   3.4s\n",
      "Epoch 1/80\n",
      "182/182 [==============================] - 0s 1ms/step - loss: 1.2143 - val_loss: 3.5197\n",
      "Epoch 2/80\n",
      "182/182 [==============================] - 0s 977us/step - loss: 0.5751 - val_loss: 1.3616\n",
      "Epoch 3/80\n",
      "182/182 [==============================] - 0s 1ms/step - loss: 0.4727 - val_loss: 0.4213\n",
      "Epoch 4/80\n",
      "182/182 [==============================] - 0s 1ms/step - loss: 0.4221 - val_loss: 0.4238\n",
      "Epoch 5/80\n",
      "182/182 [==============================] - 0s 980us/step - loss: 0.4006 - val_loss: 0.4099\n",
      "Epoch 6/80\n",
      "182/182 [==============================] - 0s 929us/step - loss: 0.3871 - val_loss: 0.4416\n",
      "Epoch 7/80\n",
      "182/182 [==============================] - 0s 1ms/step - loss: 0.3784 - val_loss: 0.3696\n",
      "Epoch 8/80\n",
      "182/182 [==============================] - 0s 939us/step - loss: 0.3704 - val_loss: 0.4001\n",
      "Epoch 9/80\n",
      "182/182 [==============================] - 0s 944us/step - loss: 0.3632 - val_loss: 0.4569\n",
      "Epoch 10/80\n",
      "182/182 [==============================] - 0s 1ms/step - loss: 0.3589 - val_loss: 0.4201\n",
      "Epoch 11/80\n",
      "182/182 [==============================] - 0s 945us/step - loss: 0.3518 - val_loss: 0.3452\n",
      "Epoch 12/80\n",
      "182/182 [==============================] - 0s 942us/step - loss: 0.3466 - val_loss: 0.4653\n",
      "Epoch 13/80\n",
      "182/182 [==============================] - 0s 971us/step - loss: 0.3453 - val_loss: 0.3487\n",
      "Epoch 14/80\n",
      "182/182 [==============================] - 0s 943us/step - loss: 0.3401 - val_loss: 0.4218\n",
      "Epoch 15/80\n",
      "182/182 [==============================] - 0s 1ms/step - loss: 0.3373 - val_loss: 0.3456\n",
      "Epoch 16/80\n",
      "182/182 [==============================] - 0s 1ms/step - loss: 0.3334 - val_loss: 0.3607\n",
      "Epoch 17/80\n",
      "182/182 [==============================] - 0s 1ms/step - loss: 0.3314 - val_loss: 0.3716\n",
      "Epoch 18/80\n",
      "182/182 [==============================] - 0s 858us/step - loss: 0.3293 - val_loss: 0.3392\n",
      "Epoch 19/80\n",
      "182/182 [==============================] - 0s 849us/step - loss: 0.3263 - val_loss: 0.4894\n",
      "Epoch 20/80\n",
      "182/182 [==============================] - 0s 943us/step - loss: 0.3273 - val_loss: 0.3388\n",
      "Epoch 21/80\n",
      "182/182 [==============================] - 0s 944us/step - loss: 0.3220 - val_loss: 0.4680\n",
      "Epoch 22/80\n",
      "182/182 [==============================] - 0s 931us/step - loss: 0.3212 - val_loss: 0.3401\n",
      "Epoch 23/80\n",
      "182/182 [==============================] - 0s 944us/step - loss: 0.3174 - val_loss: 0.3165\n",
      "Epoch 24/80\n",
      "182/182 [==============================] - 0s 1ms/step - loss: 0.3146 - val_loss: 0.3900\n",
      "Epoch 25/80\n",
      "182/182 [==============================] - 0s 944us/step - loss: 0.3134 - val_loss: 0.3487\n",
      "Epoch 26/80\n",
      "182/182 [==============================] - 0s 944us/step - loss: 0.3123 - val_loss: 0.4523\n",
      "Epoch 27/80\n",
      "182/182 [==============================] - 0s 944us/step - loss: 0.3117 - val_loss: 0.3189\n",
      "Epoch 28/80\n",
      "182/182 [==============================] - 0s 997us/step - loss: 0.3086 - val_loss: 0.3245\n",
      "Epoch 29/80\n",
      "182/182 [==============================] - 0s 892us/step - loss: 0.3064 - val_loss: 0.3089\n",
      "Epoch 30/80\n",
      "182/182 [==============================] - 0s 944us/step - loss: 0.3049 - val_loss: 0.3241\n",
      "Epoch 31/80\n",
      "182/182 [==============================] - 0s 945us/step - loss: 0.3035 - val_loss: 0.3337\n",
      "Epoch 32/80\n",
      "182/182 [==============================] - 0s 944us/step - loss: 0.3013 - val_loss: 0.3250\n",
      "Epoch 33/80\n",
      "182/182 [==============================] - 0s 1ms/step - loss: 0.3006 - val_loss: 0.3984\n",
      "Epoch 34/80\n",
      "182/182 [==============================] - 0s 926us/step - loss: 0.3011 - val_loss: 0.4578\n",
      "Epoch 35/80\n",
      "182/182 [==============================] - 0s 896us/step - loss: 0.3027 - val_loss: 0.4664\n",
      "Epoch 36/80\n",
      "182/182 [==============================] - 0s 930us/step - loss: 0.3020 - val_loss: 0.9496\n",
      "Epoch 37/80\n",
      "182/182 [==============================] - 0s 1ms/step - loss: 0.3036 - val_loss: 0.8615\n",
      "Epoch 38/80\n",
      "182/182 [==============================] - 0s 1ms/step - loss: 0.3025 - val_loss: 0.8009\n",
      "Epoch 39/80\n",
      "182/182 [==============================] - 0s 1ms/step - loss: 0.3029 - val_loss: 0.4293\n",
      "182/182 [==============================] - 0s 599us/step - loss: 0.3208\n",
      "[CV] END learning_rate=0.0059640580092043885, n_hidden=3, n_neurons=80; total time=   7.4s\n",
      "Epoch 1/80\n",
      "182/182 [==============================] - 0s 2ms/step - loss: 1.2228 - val_loss: 2.2289\n",
      "Epoch 2/80\n",
      "182/182 [==============================] - 0s 858us/step - loss: 0.5764 - val_loss: 0.6149\n",
      "Epoch 3/80\n",
      "182/182 [==============================] - 0s 861us/step - loss: 0.4972 - val_loss: 2.2562\n",
      "Epoch 4/80\n",
      "182/182 [==============================] - 0s 943us/step - loss: 0.4487 - val_loss: 4.4001\n",
      "Epoch 5/80\n",
      "182/182 [==============================] - 0s 894us/step - loss: 0.4214 - val_loss: 4.9509\n",
      "Epoch 6/80\n",
      "182/182 [==============================] - 0s 844us/step - loss: 0.4040 - val_loss: 5.4676\n",
      "Epoch 7/80\n",
      "182/182 [==============================] - 0s 929us/step - loss: 0.3931 - val_loss: 5.1862\n",
      "Epoch 8/80\n",
      "182/182 [==============================] - 0s 940us/step - loss: 0.3838 - val_loss: 4.8818\n",
      "Epoch 9/80\n",
      "182/182 [==============================] - 0s 859us/step - loss: 0.3771 - val_loss: 4.4991\n",
      "Epoch 10/80\n",
      "182/182 [==============================] - 0s 947us/step - loss: 0.3712 - val_loss: 3.7809\n",
      "Epoch 11/80\n",
      "182/182 [==============================] - 0s 941us/step - loss: 0.3668 - val_loss: 3.5108\n",
      "Epoch 12/80\n",
      "182/182 [==============================] - 0s 858us/step - loss: 0.3626 - val_loss: 2.8957\n",
      "182/182 [==============================] - 0s 431us/step - loss: 0.4382\n",
      "[CV] END learning_rate=0.004591455636549438, n_hidden=2, n_neurons=59; total time=   2.5s\n",
      "Epoch 1/80\n",
      "  1/182 [..............................] - ETA: 0s - loss: 5.7918WARNING:tensorflow:Callbacks method `on_train_batch_begin` is slow compared to the batch time (batch time: 0.0000s vs `on_train_batch_begin` time: 0.0157s). Check your callbacks.\n",
      "182/182 [==============================] - 0s 1ms/step - loss: 1.1776 - val_loss: 20.8908\n",
      "Epoch 2/80\n",
      "182/182 [==============================] - 0s 930us/step - loss: 0.7192 - val_loss: 34.6636\n",
      "Epoch 3/80\n",
      "182/182 [==============================] - 0s 896us/step - loss: 0.8844 - val_loss: 3.1253\n",
      "Epoch 4/80\n",
      "182/182 [==============================] - 0s 859us/step - loss: 0.5229 - val_loss: 0.8390\n",
      "Epoch 5/80\n",
      "182/182 [==============================] - 0s 908us/step - loss: 0.4565 - val_loss: 0.4576\n",
      "Epoch 6/80\n",
      "182/182 [==============================] - 0s 906us/step - loss: 0.4342 - val_loss: 0.4340\n",
      "Epoch 7/80\n",
      "182/182 [==============================] - 0s 932us/step - loss: 0.4220 - val_loss: 0.4164\n",
      "Epoch 8/80\n",
      "182/182 [==============================] - 0s 910us/step - loss: 0.4129 - val_loss: 0.4192\n",
      "Epoch 9/80\n",
      "182/182 [==============================] - 0s 892us/step - loss: 0.4049 - val_loss: 0.4448\n",
      "Epoch 10/80\n",
      "182/182 [==============================] - 0s 944us/step - loss: 0.3989 - val_loss: 0.4497\n",
      "Epoch 11/80\n",
      "182/182 [==============================] - 0s 826us/step - loss: 0.3930 - val_loss: 0.4074\n",
      "Epoch 12/80\n",
      "182/182 [==============================] - 0s 892us/step - loss: 0.3873 - val_loss: 0.4418\n",
      "Epoch 13/80\n",
      "182/182 [==============================] - 0s 858us/step - loss: 0.3849 - val_loss: 0.3776\n",
      "Epoch 14/80\n",
      "182/182 [==============================] - 0s 912us/step - loss: 0.3795 - val_loss: 0.4143\n",
      "Epoch 15/80\n",
      "182/182 [==============================] - 0s 892us/step - loss: 0.3770 - val_loss: 0.3575\n",
      "Epoch 16/80\n",
      "182/182 [==============================] - 0s 1ms/step - loss: 0.3736 - val_loss: 0.3681\n",
      "Epoch 17/80\n",
      "182/182 [==============================] - 0s 1ms/step - loss: 0.3707 - val_loss: 0.4024\n",
      "Epoch 18/80\n",
      "182/182 [==============================] - 0s 2ms/step - loss: 0.3687 - val_loss: 0.3466\n",
      "Epoch 19/80\n",
      "182/182 [==============================] - 0s 2ms/step - loss: 0.3652 - val_loss: 0.4351\n",
      "Epoch 20/80\n",
      "182/182 [==============================] - 0s 1ms/step - loss: 0.3644 - val_loss: 0.3421\n",
      "Epoch 21/80\n",
      "182/182 [==============================] - 0s 838us/step - loss: 0.3600 - val_loss: 0.4303\n",
      "Epoch 22/80\n",
      "182/182 [==============================] - 0s 1ms/step - loss: 0.3580 - val_loss: 0.3848\n",
      "Epoch 23/80\n",
      "182/182 [==============================] - 0s 879us/step - loss: 0.3565 - val_loss: 0.3427\n",
      "Epoch 24/80\n",
      "182/182 [==============================] - 0s 836us/step - loss: 0.3535 - val_loss: 0.3862\n",
      "Epoch 25/80\n",
      "182/182 [==============================] - 0s 945us/step - loss: 0.3529 - val_loss: 0.3361\n",
      "Epoch 26/80\n",
      "182/182 [==============================] - 0s 967us/step - loss: 0.3502 - val_loss: 0.4283\n",
      "Epoch 27/80\n",
      "182/182 [==============================] - 0s 858us/step - loss: 0.3500 - val_loss: 0.3402\n",
      "Epoch 28/80\n",
      "182/182 [==============================] - 0s 860us/step - loss: 0.3472 - val_loss: 0.3441\n",
      "Epoch 29/80\n",
      "182/182 [==============================] - 0s 1ms/step - loss: 0.3465 - val_loss: 0.3306\n",
      "Epoch 30/80\n",
      "182/182 [==============================] - 0s 1ms/step - loss: 0.3444 - val_loss: 0.3291\n",
      "Epoch 31/80\n",
      "182/182 [==============================] - 0s 2ms/step - loss: 0.3430 - val_loss: 0.3300\n",
      "Epoch 32/80\n",
      "182/182 [==============================] - 0s 2ms/step - loss: 0.3410 - val_loss: 0.4275\n",
      "Epoch 33/80\n",
      "182/182 [==============================] - 0s 1ms/step - loss: 0.3418 - val_loss: 0.4878\n",
      "Epoch 34/80\n",
      "182/182 [==============================] - 0s 1ms/step - loss: 0.3405 - val_loss: 0.4575\n",
      "Epoch 35/80\n",
      "182/182 [==============================] - 0s 958us/step - loss: 0.3396 - val_loss: 0.3880\n",
      "Epoch 36/80\n",
      "182/182 [==============================] - 0s 940us/step - loss: 0.3379 - val_loss: 0.6335\n",
      "Epoch 37/80\n",
      "182/182 [==============================] - 0s 1ms/step - loss: 0.3392 - val_loss: 0.5677\n",
      "Epoch 38/80\n",
      "182/182 [==============================] - 0s 869us/step - loss: 0.3374 - val_loss: 0.4517\n",
      "Epoch 39/80\n",
      "182/182 [==============================] - 0s 850us/step - loss: 0.3353 - val_loss: 0.3217\n",
      "Epoch 40/80\n",
      "182/182 [==============================] - 0s 1ms/step - loss: 0.3324 - val_loss: 0.3280\n",
      "Epoch 41/80\n",
      "182/182 [==============================] - 0s 990us/step - loss: 0.3304 - val_loss: 0.3962\n",
      "Epoch 42/80\n",
      "182/182 [==============================] - 0s 958us/step - loss: 0.3332 - val_loss: 0.3589\n",
      "Epoch 43/80\n",
      "182/182 [==============================] - 0s 1ms/step - loss: 0.3295 - val_loss: 0.5079\n",
      "Epoch 44/80\n",
      "182/182 [==============================] - 0s 971us/step - loss: 0.3308 - val_loss: 0.3222\n",
      "Epoch 45/80\n",
      "182/182 [==============================] - 0s 958us/step - loss: 0.3265 - val_loss: 0.3212\n",
      "Epoch 46/80\n",
      "182/182 [==============================] - 0s 979us/step - loss: 0.3264 - val_loss: 0.3239\n",
      "Epoch 47/80\n",
      "182/182 [==============================] - 0s 1ms/step - loss: 0.3249 - val_loss: 0.3246\n",
      "Epoch 48/80\n",
      "182/182 [==============================] - 0s 1ms/step - loss: 0.3257 - val_loss: 0.3748\n",
      "Epoch 49/80\n",
      "182/182 [==============================] - 0s 894us/step - loss: 0.3341 - val_loss: 0.3564\n",
      "Epoch 50/80\n",
      "182/182 [==============================] - 0s 921us/step - loss: 0.3227 - val_loss: 0.5384\n",
      "Epoch 51/80\n",
      "182/182 [==============================] - 0s 985us/step - loss: 0.3276 - val_loss: 0.3317\n",
      "Epoch 52/80\n",
      "182/182 [==============================] - 0s 961us/step - loss: 0.3205 - val_loss: 0.3248\n",
      "Epoch 53/80\n",
      "182/182 [==============================] - 0s 926us/step - loss: 0.3188 - val_loss: 0.3370\n",
      "Epoch 54/80\n",
      "182/182 [==============================] - 0s 935us/step - loss: 0.3197 - val_loss: 0.3416\n",
      "Epoch 55/80\n",
      "182/182 [==============================] - 0s 889us/step - loss: 0.3179 - val_loss: 0.3425\n",
      "182/182 [==============================] - 0s 499us/step - loss: 0.3369\n",
      "[CV] END learning_rate=0.004591455636549438, n_hidden=2, n_neurons=59; total time=  10.6s\n",
      "Epoch 1/80\n",
      "363/363 [==============================] - 0s 1ms/step - loss: 0.8555 - val_loss: 4.8354\n",
      "Epoch 2/80\n",
      "363/363 [==============================] - 0s 820us/step - loss: 0.5073 - val_loss: 2.3249\n",
      "Epoch 3/80\n",
      "363/363 [==============================] - 0s 816us/step - loss: 0.4230 - val_loss: 0.3585\n",
      "Epoch 4/80\n",
      "363/363 [==============================] - 0s 874us/step - loss: 0.3811 - val_loss: 0.3966\n",
      "Epoch 5/80\n",
      "363/363 [==============================] - 0s 858us/step - loss: 0.3695 - val_loss: 0.3409\n",
      "Epoch 6/80\n",
      "363/363 [==============================] - 0s 818us/step - loss: 0.3580 - val_loss: 0.4289\n",
      "Epoch 7/80\n",
      "363/363 [==============================] - 0s 873us/step - loss: 0.3530 - val_loss: 0.3379\n",
      "Epoch 8/80\n",
      "363/363 [==============================] - 0s 862us/step - loss: 0.3458 - val_loss: 0.3341\n",
      "Epoch 9/80\n",
      "363/363 [==============================] - 0s 852us/step - loss: 0.3398 - val_loss: 0.3683\n",
      "Epoch 10/80\n",
      "363/363 [==============================] - 0s 857us/step - loss: 0.3351 - val_loss: 0.4284\n",
      "Epoch 11/80\n",
      "363/363 [==============================] - 0s 834us/step - loss: 0.3341 - val_loss: 0.5667\n",
      "Epoch 12/80\n",
      "363/363 [==============================] - 0s 824us/step - loss: 0.3338 - val_loss: 0.3215\n",
      "Epoch 13/80\n",
      "363/363 [==============================] - 0s 763us/step - loss: 0.3257 - val_loss: 0.3397\n",
      "Epoch 14/80\n",
      "363/363 [==============================] - 0s 794us/step - loss: 0.3219 - val_loss: 0.3186\n",
      "Epoch 15/80\n",
      "363/363 [==============================] - 0s 777us/step - loss: 0.3195 - val_loss: 0.3360\n",
      "Epoch 16/80\n",
      "363/363 [==============================] - 0s 757us/step - loss: 0.3165 - val_loss: 0.3036\n",
      "Epoch 17/80\n",
      "363/363 [==============================] - 0s 801us/step - loss: 0.3136 - val_loss: 0.3762\n",
      "Epoch 18/80\n",
      "363/363 [==============================] - 0s 826us/step - loss: 0.3111 - val_loss: 0.3458\n",
      "Epoch 19/80\n",
      "363/363 [==============================] - 0s 806us/step - loss: 0.3100 - val_loss: 0.2953\n",
      "Epoch 20/80\n",
      "363/363 [==============================] - 0s 828us/step - loss: 0.3076 - val_loss: 0.4313\n",
      "Epoch 21/80\n",
      "363/363 [==============================] - 0s 770us/step - loss: 0.3048 - val_loss: 0.2977\n",
      "Epoch 22/80\n",
      "363/363 [==============================] - 0s 804us/step - loss: 0.3016 - val_loss: 0.3872\n",
      "Epoch 23/80\n",
      "363/363 [==============================] - 0s 808us/step - loss: 0.3007 - val_loss: 0.3383\n",
      "Epoch 24/80\n",
      "363/363 [==============================] - 0s 826us/step - loss: 0.2998 - val_loss: 0.3082\n",
      "Epoch 25/80\n",
      "363/363 [==============================] - 0s 797us/step - loss: 0.2975 - val_loss: 0.3532\n",
      "Epoch 26/80\n",
      "363/363 [==============================] - 0s 770us/step - loss: 0.2960 - val_loss: 0.3522\n",
      "Epoch 27/80\n",
      "363/363 [==============================] - 0s 774us/step - loss: 0.2940 - val_loss: 0.2882\n",
      "Epoch 28/80\n",
      "363/363 [==============================] - 0s 904us/step - loss: 0.2927 - val_loss: 0.3477\n",
      "Epoch 29/80\n"
     ]
    },
    {
     "name": "stdout",
     "output_type": "stream",
     "text": [
      "363/363 [==============================] - 0s 775us/step - loss: 0.2913 - val_loss: 0.3052\n",
      "Epoch 30/80\n",
      "363/363 [==============================] - 0s 827us/step - loss: 0.2902 - val_loss: 0.3752\n",
      "Epoch 31/80\n",
      "363/363 [==============================] - 0s 802us/step - loss: 0.2922 - val_loss: 0.3028\n",
      "Epoch 32/80\n",
      "363/363 [==============================] - 0s 750us/step - loss: 0.2885 - val_loss: 0.4018\n",
      "Epoch 33/80\n",
      "363/363 [==============================] - 0s 731us/step - loss: 0.2871 - val_loss: 0.2841\n",
      "Epoch 34/80\n",
      "363/363 [==============================] - 0s 776us/step - loss: 0.2848 - val_loss: 0.3037\n",
      "Epoch 35/80\n",
      "363/363 [==============================] - 0s 818us/step - loss: 0.2841 - val_loss: 0.3626\n",
      "Epoch 36/80\n",
      "363/363 [==============================] - 0s 741us/step - loss: 0.2834 - val_loss: 0.3158\n",
      "Epoch 37/80\n",
      "363/363 [==============================] - 0s 895us/step - loss: 0.2824 - val_loss: 0.3755\n",
      "Epoch 38/80\n",
      "363/363 [==============================] - 0s 774us/step - loss: 0.2801 - val_loss: 0.2798\n",
      "Epoch 39/80\n",
      "363/363 [==============================] - 0s 811us/step - loss: 0.2808 - val_loss: 0.3218\n",
      "Epoch 40/80\n",
      "363/363 [==============================] - 0s 781us/step - loss: 0.2799 - val_loss: 0.2834\n",
      "Epoch 41/80\n",
      "363/363 [==============================] - 0s 819us/step - loss: 0.2794 - val_loss: 0.3961\n",
      "Epoch 42/80\n",
      "363/363 [==============================] - 0s 926us/step - loss: 0.2800 - val_loss: 0.2855\n",
      "Epoch 43/80\n",
      "363/363 [==============================] - 0s 763us/step - loss: 0.2758 - val_loss: 0.3303\n",
      "Epoch 44/80\n",
      "363/363 [==============================] - 0s 744us/step - loss: 0.2757 - val_loss: 0.3810\n",
      "Epoch 45/80\n",
      "363/363 [==============================] - 0s 861us/step - loss: 0.2746 - val_loss: 0.2752\n",
      "Epoch 46/80\n",
      "363/363 [==============================] - 0s 818us/step - loss: 0.2754 - val_loss: 0.3096\n",
      "Epoch 47/80\n",
      "363/363 [==============================] - 0s 818us/step - loss: 0.2744 - val_loss: 0.3272\n",
      "Epoch 48/80\n",
      "363/363 [==============================] - 0s 904us/step - loss: 0.2735 - val_loss: 0.3420\n",
      "Epoch 49/80\n",
      "363/363 [==============================] - 0s 818us/step - loss: 0.2727 - val_loss: 0.2757\n",
      "Epoch 50/80\n",
      "363/363 [==============================] - 0s 827us/step - loss: 0.2712 - val_loss: 0.2780\n",
      "Epoch 51/80\n",
      "363/363 [==============================] - 0s 809us/step - loss: 0.2708 - val_loss: 0.2999\n",
      "Epoch 52/80\n",
      "363/363 [==============================] - 0s 828us/step - loss: 0.2706 - val_loss: 0.2998\n",
      "Epoch 53/80\n",
      "363/363 [==============================] - 0s 832us/step - loss: 0.2706 - val_loss: 0.3933\n",
      "Epoch 54/80\n",
      "363/363 [==============================] - 0s 823us/step - loss: 0.2692 - val_loss: 0.2703\n",
      "Epoch 55/80\n",
      "363/363 [==============================] - 0s 827us/step - loss: 0.2685 - val_loss: 0.3199\n",
      "Epoch 56/80\n",
      "363/363 [==============================] - 0s 768us/step - loss: 0.2689 - val_loss: 0.2741\n",
      "Epoch 57/80\n",
      "363/363 [==============================] - 0s 786us/step - loss: 0.2680 - val_loss: 0.2886\n",
      "Epoch 58/80\n",
      "363/363 [==============================] - 0s 785us/step - loss: 0.2664 - val_loss: 0.3406\n",
      "Epoch 59/80\n",
      "363/363 [==============================] - 2s 4ms/step - loss: 0.2669 - val_loss: 0.2858\n",
      "Epoch 60/80\n",
      "363/363 [==============================] - 0s 786us/step - loss: 0.2663 - val_loss: 0.2668\n",
      "Epoch 61/80\n",
      "363/363 [==============================] - 0s 741us/step - loss: 0.2636 - val_loss: 0.2977\n",
      "Epoch 62/80\n",
      "363/363 [==============================] - 0s 768us/step - loss: 0.2652 - val_loss: 0.2822\n",
      "Epoch 63/80\n",
      "363/363 [==============================] - 0s 783us/step - loss: 0.2647 - val_loss: 0.2786\n",
      "Epoch 64/80\n",
      "363/363 [==============================] - 0s 866us/step - loss: 0.2661 - val_loss: 0.2812\n",
      "Epoch 65/80\n",
      "363/363 [==============================] - 0s 812us/step - loss: 0.2630 - val_loss: 0.2692\n",
      "Epoch 66/80\n",
      "363/363 [==============================] - 0s 775us/step - loss: 0.2620 - val_loss: 0.3036\n",
      "Epoch 67/80\n",
      "363/363 [==============================] - 0s 861us/step - loss: 0.2625 - val_loss: 0.2701\n",
      "Epoch 68/80\n",
      "363/363 [==============================] - 0s 818us/step - loss: 0.2601 - val_loss: 0.2756\n",
      "Epoch 69/80\n",
      "363/363 [==============================] - 0s 774us/step - loss: 0.2618 - val_loss: 0.2863\n",
      "Epoch 70/80\n",
      "363/363 [==============================] - 0s 775us/step - loss: 0.2595 - val_loss: 0.2951\n"
     ]
    },
    {
     "data": {
      "text/plain": [
       "RandomizedSearchCV(cv=2,\n",
       "                   estimator=<tensorflow.python.keras.wrappers.scikit_learn.KerasRegressor object at 0x000001596AE8AB88>,\n",
       "                   param_distributions={'learning_rate': [0.001683454924600351,\n",
       "                                                          0.02390836445593178,\n",
       "                                                          0.008731907739399206,\n",
       "                                                          0.004725396149933917,\n",
       "                                                          0.0006154014789262348,\n",
       "                                                          0.0006153331256530192,\n",
       "                                                          0.0003920021771415983,\n",
       "                                                          0.01619845322936229,\n",
       "                                                          0.004779156784872302...\n",
       "                                                          0.005021425736625637,\n",
       "                                                          0.0005703073595961105,\n",
       "                                                          0.001151888789941251,\n",
       "                                                          0.001621231156394198,\n",
       "                                                          0.0024505367684280487,\n",
       "                                                          0.011155092541719619,\n",
       "                                                          0.0007524347058135697,\n",
       "                                                          0.0032032448128444043,\n",
       "                                                          0.004591455636549438,\n",
       "                                                          0.0003715541189658278, ...],\n",
       "                                        'n_hidden': [0, 1, 2, 3],\n",
       "                                        'n_neurons': [1, 2, 3, 4, 5, 6, 7, 8, 9,\n",
       "                                                      10, 11, 12, 13, 14, 15,\n",
       "                                                      16, 17, 18, 19, 20, 21,\n",
       "                                                      22, 23, 24, 25, 26, 27,\n",
       "                                                      28, 29, 30, ...]},\n",
       "                   verbose=2)"
      ]
     },
     "execution_count": 95,
     "metadata": {},
     "output_type": "execute_result"
    }
   ],
   "source": [
    "# Tuning the neural net model in a cross validation.\n",
    "# It can take up to 5 min or so. \n",
    "\n",
    "from scipy.stats import reciprocal\n",
    "from sklearn.model_selection import RandomizedSearchCV\n",
    "\n",
    "param_distribs = {\n",
    "    \"n_hidden\": [0, 1, 2, 3],\n",
    "    \"n_neurons\": np.arange(1, 100)               .tolist(),\n",
    "    \"learning_rate\": reciprocal(3e-4, 3e-2)      .rvs(1000).tolist(),\n",
    "}\n",
    "\n",
    "rnd_search_cv = RandomizedSearchCV(keras_reg, param_distribs, n_iter=10, cv=2, verbose=2)\n",
    "rnd_search_cv.fit(X_train, y_train, epochs=80,\n",
    "                  validation_data=(X_valid, y_valid),\n",
    "                  callbacks=[keras.callbacks.EarlyStopping(patience=10)])"
   ]
  },
  {
   "cell_type": "code",
   "execution_count": 96,
   "metadata": {},
   "outputs": [
    {
     "data": {
      "text/plain": [
       "{'n_neurons': 74, 'n_hidden': 3, 'learning_rate': 0.005803602934201024}"
      ]
     },
     "execution_count": 96,
     "metadata": {},
     "output_type": "execute_result"
    }
   ],
   "source": [
    "# Best params values\n",
    "\n",
    "rnd_search_cv.best_params_"
   ]
  },
  {
   "cell_type": "code",
   "execution_count": 97,
   "metadata": {},
   "outputs": [
    {
     "data": {
      "text/plain": [
       "-0.33263184130191803"
      ]
     },
     "execution_count": 97,
     "metadata": {},
     "output_type": "execute_result"
    }
   ],
   "source": [
    "# Best MSE score. Notice it's a negative number here because sklern wants larger values\n",
    "# for better models when optimising models. Hence -MSE (with negative sign) was used as score.\n",
    "# \n",
    "\n",
    "rnd_search_cv.best_score_"
   ]
  },
  {
   "cell_type": "code",
   "execution_count": 98,
   "metadata": {},
   "outputs": [
    {
     "data": {
      "text/plain": [
       "<tensorflow.python.keras.wrappers.scikit_learn.KerasRegressor at 0x1596a380208>"
      ]
     },
     "execution_count": 98,
     "metadata": {},
     "output_type": "execute_result"
    }
   ],
   "source": [
    "rnd_search_cv.best_estimator_"
   ]
  },
  {
   "cell_type": "code",
   "execution_count": 99,
   "metadata": {},
   "outputs": [
    {
     "name": "stdout",
     "output_type": "stream",
     "text": [
      "162/162 [==============================] - 0s 481us/step - loss: 0.2831\n"
     ]
    },
    {
     "data": {
      "text/plain": [
       "-0.28309857845306396"
      ]
     },
     "execution_count": 99,
     "metadata": {},
     "output_type": "execute_result"
    }
   ],
   "source": [
    "rnd_search_cv.score(X_test, y_test)"
   ]
  },
  {
   "cell_type": "code",
   "execution_count": 100,
   "metadata": {},
   "outputs": [
    {
     "data": {
      "text/plain": [
       "<tensorflow.python.keras.engine.sequential.Sequential at 0x1597082b2c8>"
      ]
     },
     "execution_count": 100,
     "metadata": {},
     "output_type": "execute_result"
    }
   ],
   "source": [
    "model = rnd_search_cv.best_estimator_.model\n",
    "model"
   ]
  },
  {
   "cell_type": "code",
   "execution_count": 101,
   "metadata": {
    "scrolled": true
   },
   "outputs": [
    {
     "name": "stdout",
     "output_type": "stream",
     "text": [
      "162/162 [==============================] - 0s 485us/step - loss: 0.2831\n"
     ]
    },
    {
     "data": {
      "text/plain": [
       "0.28309857845306396"
      ]
     },
     "execution_count": 101,
     "metadata": {},
     "output_type": "execute_result"
    }
   ],
   "source": [
    "model.evaluate(X_test, y_test)"
   ]
  },
  {
   "cell_type": "code",
   "execution_count": null,
   "metadata": {},
   "outputs": [],
   "source": []
  }
 ],
 "metadata": {
  "kernelspec": {
   "display_name": "Python 3 (ipykernel)",
   "language": "python",
   "name": "python3"
  },
  "language_info": {
   "codemirror_mode": {
    "name": "ipython",
    "version": 3
   },
   "file_extension": ".py",
   "mimetype": "text/x-python",
   "name": "python",
   "nbconvert_exporter": "python",
   "pygments_lexer": "ipython3",
   "version": "3.9.7"
  },
  "nav_menu": {
   "height": "264px",
   "width": "369px"
  },
  "toc": {
   "navigate_menu": true,
   "number_sections": true,
   "sideBar": true,
   "threshold": 6,
   "toc_cell": false,
   "toc_section_display": "block",
   "toc_window_display": false
  }
 },
 "nbformat": 4,
 "nbformat_minor": 4
}
