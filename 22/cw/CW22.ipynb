{
 "cells": [
  {
   "cell_type": "code",
   "execution_count": 152,
   "id": "357731c3",
   "metadata": {},
   "outputs": [],
   "source": [
    "import os\n",
    "import sklearn\n",
    "import numpy as np\n",
    "import pandas as pd\n",
    "import matplotlib as mpl\n",
    "import matplotlib.pyplot as plt\n",
    "\n",
    "from sklearn.linear_model import Ridge\n",
    "from sklearn.linear_model import ElasticNet\n",
    "from sklearn.linear_model import SGDRegressor\n",
    "from sklearn.metrics import mean_squared_error\n",
    "from sklearn.preprocessing import OneHotEncoder\n",
    "from sklearn.preprocessing import StandardScaler\n",
    "from sklearn.model_selection import train_test_split\n",
    "\n",
    "%matplotlib inline"
   ]
  },
  {
   "cell_type": "code",
   "execution_count": 164,
   "id": "8a4d2b06",
   "metadata": {},
   "outputs": [
    {
     "data": {
      "text/html": [
       "<div>\n",
       "<style scoped>\n",
       "    .dataframe tbody tr th:only-of-type {\n",
       "        vertical-align: middle;\n",
       "    }\n",
       "\n",
       "    .dataframe tbody tr th {\n",
       "        vertical-align: top;\n",
       "    }\n",
       "\n",
       "    .dataframe thead th {\n",
       "        text-align: right;\n",
       "    }\n",
       "</style>\n",
       "<table border=\"1\" class=\"dataframe\">\n",
       "  <thead>\n",
       "    <tr style=\"text-align: right;\">\n",
       "      <th></th>\n",
       "      <th>X0</th>\n",
       "      <th>X1</th>\n",
       "      <th>X2</th>\n",
       "      <th>X3</th>\n",
       "      <th>X4</th>\n",
       "      <th>X5</th>\n",
       "      <th>X6</th>\n",
       "      <th>X7</th>\n",
       "      <th>X8</th>\n",
       "      <th>Y</th>\n",
       "    </tr>\n",
       "  </thead>\n",
       "  <tbody>\n",
       "    <tr>\n",
       "      <th>0</th>\n",
       "      <td>C3</td>\n",
       "      <td>1.19</td>\n",
       "      <td>622.55</td>\n",
       "      <td>NaN</td>\n",
       "      <td>89.31</td>\n",
       "      <td>7.00</td>\n",
       "      <td>1.98</td>\n",
       "      <td>0.00</td>\n",
       "      <td>0.00</td>\n",
       "      <td>15.55</td>\n",
       "    </tr>\n",
       "    <tr>\n",
       "      <th>1</th>\n",
       "      <td>C1</td>\n",
       "      <td>1.19</td>\n",
       "      <td>622.55</td>\n",
       "      <td>323.40</td>\n",
       "      <td>109.15</td>\n",
       "      <td>7.70</td>\n",
       "      <td>3.00</td>\n",
       "      <td>0.00</td>\n",
       "      <td>0.00</td>\n",
       "      <td>15.55</td>\n",
       "    </tr>\n",
       "    <tr>\n",
       "      <th>2</th>\n",
       "      <td>C1</td>\n",
       "      <td>0.88</td>\n",
       "      <td>463.05</td>\n",
       "      <td>291.06</td>\n",
       "      <td>99.23</td>\n",
       "      <td>5.67</td>\n",
       "      <td>4.40</td>\n",
       "      <td>0.00</td>\n",
       "      <td>0.00</td>\n",
       "      <td>15.55</td>\n",
       "    </tr>\n",
       "    <tr>\n",
       "      <th>3</th>\n",
       "      <td>C2</td>\n",
       "      <td>0.79</td>\n",
       "      <td>509.36</td>\n",
       "      <td>291.06</td>\n",
       "      <td>121.28</td>\n",
       "      <td>6.30</td>\n",
       "      <td>4.05</td>\n",
       "      <td>0.00</td>\n",
       "      <td>0.00</td>\n",
       "      <td>15.55</td>\n",
       "    </tr>\n",
       "    <tr>\n",
       "      <th>4</th>\n",
       "      <td>C1</td>\n",
       "      <td>0.89</td>\n",
       "      <td>507.15</td>\n",
       "      <td>385.39</td>\n",
       "      <td>121.28</td>\n",
       "      <td>7.70</td>\n",
       "      <td>2.00</td>\n",
       "      <td>0.00</td>\n",
       "      <td>0.00</td>\n",
       "      <td>20.84</td>\n",
       "    </tr>\n",
       "    <tr>\n",
       "      <th>...</th>\n",
       "      <td>...</td>\n",
       "      <td>...</td>\n",
       "      <td>...</td>\n",
       "      <td>...</td>\n",
       "      <td>...</td>\n",
       "      <td>...</td>\n",
       "      <td>...</td>\n",
       "      <td>...</td>\n",
       "      <td>...</td>\n",
       "      <td>...</td>\n",
       "    </tr>\n",
       "    <tr>\n",
       "      <th>763</th>\n",
       "      <td>C3</td>\n",
       "      <td>0.52</td>\n",
       "      <td>948.64</td>\n",
       "      <td>277.83</td>\n",
       "      <td>218.30</td>\n",
       "      <td>4.24</td>\n",
       "      <td>4.95</td>\n",
       "      <td>0.48</td>\n",
       "      <td>4.05</td>\n",
       "      <td>17.88</td>\n",
       "    </tr>\n",
       "    <tr>\n",
       "      <th>764</th>\n",
       "      <td>C2</td>\n",
       "      <td>0.50</td>\n",
       "      <td>727.65</td>\n",
       "      <td>NaN</td>\n",
       "      <td>266.80</td>\n",
       "      <td>3.47</td>\n",
       "      <td>1.98</td>\n",
       "      <td>0.44</td>\n",
       "      <td>5.00</td>\n",
       "      <td>16.54</td>\n",
       "    </tr>\n",
       "    <tr>\n",
       "      <th>765</th>\n",
       "      <td>C1</td>\n",
       "      <td>0.68</td>\n",
       "      <td>889.35</td>\n",
       "      <td>404.25</td>\n",
       "      <td>178.60</td>\n",
       "      <td>3.47</td>\n",
       "      <td>2.43</td>\n",
       "      <td>0.40</td>\n",
       "      <td>4.95</td>\n",
       "      <td>16.44</td>\n",
       "    </tr>\n",
       "    <tr>\n",
       "      <th>766</th>\n",
       "      <td>C3</td>\n",
       "      <td>0.50</td>\n",
       "      <td>654.88</td>\n",
       "      <td>363.82</td>\n",
       "      <td>218.30</td>\n",
       "      <td>3.15</td>\n",
       "      <td>3.96</td>\n",
       "      <td>0.36</td>\n",
       "      <td>4.50</td>\n",
       "      <td>16.48</td>\n",
       "    </tr>\n",
       "    <tr>\n",
       "      <th>767</th>\n",
       "      <td>C3</td>\n",
       "      <td>0.50</td>\n",
       "      <td>800.42</td>\n",
       "      <td>404.25</td>\n",
       "      <td>218.30</td>\n",
       "      <td>2.84</td>\n",
       "      <td>4.05</td>\n",
       "      <td>0.32</td>\n",
       "      <td>4.95</td>\n",
       "      <td>16.64</td>\n",
       "    </tr>\n",
       "  </tbody>\n",
       "</table>\n",
       "<p>768 rows × 10 columns</p>\n",
       "</div>"
      ],
      "text/plain": [
       "     X0    X1      X2      X3      X4    X5    X6    X7    X8      Y\n",
       "0    C3  1.19  622.55     NaN   89.31  7.00  1.98  0.00  0.00  15.55\n",
       "1    C1  1.19  622.55  323.40  109.15  7.70  3.00  0.00  0.00  15.55\n",
       "2    C1  0.88  463.05  291.06   99.23  5.67  4.40  0.00  0.00  15.55\n",
       "3    C2  0.79  509.36  291.06  121.28  6.30  4.05  0.00  0.00  15.55\n",
       "4    C1  0.89  507.15  385.39  121.28  7.70  2.00  0.00  0.00  20.84\n",
       "..   ..   ...     ...     ...     ...   ...   ...   ...   ...    ...\n",
       "763  C3  0.52  948.64  277.83  218.30  4.24  4.95  0.48  4.05  17.88\n",
       "764  C2  0.50  727.65     NaN  266.80  3.47  1.98  0.44  5.00  16.54\n",
       "765  C1  0.68  889.35  404.25  178.60  3.47  2.43  0.40  4.95  16.44\n",
       "766  C3  0.50  654.88  363.82  218.30  3.15  3.96  0.36  4.50  16.48\n",
       "767  C3  0.50  800.42  404.25  218.30  2.84  4.05  0.32  4.95  16.64\n",
       "\n",
       "[768 rows x 10 columns]"
      ]
     },
     "execution_count": 164,
     "metadata": {},
     "output_type": "execute_result"
    }
   ],
   "source": [
    "df=pd.read_csv(\"./datcw_na.csv\")             # read csv \n",
    "df                                           # inspect dataframe"
   ]
  },
  {
   "cell_type": "code",
   "execution_count": 166,
   "id": "9f5c7c38",
   "metadata": {},
   "outputs": [
    {
     "data": {
      "text/html": [
       "<div>\n",
       "<style scoped>\n",
       "    .dataframe tbody tr th:only-of-type {\n",
       "        vertical-align: middle;\n",
       "    }\n",
       "\n",
       "    .dataframe tbody tr th {\n",
       "        vertical-align: top;\n",
       "    }\n",
       "\n",
       "    .dataframe thead th {\n",
       "        text-align: right;\n",
       "    }\n",
       "</style>\n",
       "<table border=\"1\" class=\"dataframe\">\n",
       "  <thead>\n",
       "    <tr style=\"text-align: right;\">\n",
       "      <th></th>\n",
       "      <th>X0</th>\n",
       "      <th>X1</th>\n",
       "      <th>X2</th>\n",
       "      <th>X3</th>\n",
       "      <th>X4</th>\n",
       "      <th>X5</th>\n",
       "      <th>X6</th>\n",
       "      <th>X7</th>\n",
       "      <th>X8</th>\n",
       "      <th>Y</th>\n",
       "    </tr>\n",
       "  </thead>\n",
       "  <tbody>\n",
       "    <tr>\n",
       "      <th>0</th>\n",
       "      <td>C3</td>\n",
       "      <td>1.19</td>\n",
       "      <td>622.55</td>\n",
       "      <td>NaN</td>\n",
       "      <td>89.31</td>\n",
       "      <td>7.00</td>\n",
       "      <td>1.98</td>\n",
       "      <td>0.00</td>\n",
       "      <td>0.00</td>\n",
       "      <td>15.55</td>\n",
       "    </tr>\n",
       "    <tr>\n",
       "      <th>34</th>\n",
       "      <td>C1</td>\n",
       "      <td>0.68</td>\n",
       "      <td>661.50</td>\n",
       "      <td>NaN</td>\n",
       "      <td>178.60</td>\n",
       "      <td>3.47</td>\n",
       "      <td>4.40</td>\n",
       "      <td>0.00</td>\n",
       "      <td>0.00</td>\n",
       "      <td>6.77</td>\n",
       "    </tr>\n",
       "    <tr>\n",
       "      <th>88</th>\n",
       "      <td>C2</td>\n",
       "      <td>0.64</td>\n",
       "      <td>776.16</td>\n",
       "      <td>NaN</td>\n",
       "      <td>242.55</td>\n",
       "      <td>3.85</td>\n",
       "      <td>1.80</td>\n",
       "      <td>0.10</td>\n",
       "      <td>1.10</td>\n",
       "      <td>15.41</td>\n",
       "    </tr>\n",
       "    <tr>\n",
       "      <th>121</th>\n",
       "      <td>C3</td>\n",
       "      <td>0.73</td>\n",
       "      <td>617.40</td>\n",
       "      <td>NaN</td>\n",
       "      <td>218.30</td>\n",
       "      <td>3.47</td>\n",
       "      <td>2.43</td>\n",
       "      <td>0.09</td>\n",
       "      <td>2.00</td>\n",
       "      <td>10.46</td>\n",
       "    </tr>\n",
       "    <tr>\n",
       "      <th>168</th>\n",
       "      <td>C1</td>\n",
       "      <td>0.67</td>\n",
       "      <td>754.60</td>\n",
       "      <td>NaN</td>\n",
       "      <td>242.55</td>\n",
       "      <td>3.47</td>\n",
       "      <td>1.98</td>\n",
       "      <td>0.11</td>\n",
       "      <td>2.43</td>\n",
       "      <td>10.39</td>\n",
       "    </tr>\n",
       "  </tbody>\n",
       "</table>\n",
       "</div>"
      ],
      "text/plain": [
       "     X0    X1      X2  X3      X4    X5    X6    X7    X8      Y\n",
       "0    C3  1.19  622.55 NaN   89.31  7.00  1.98  0.00  0.00  15.55\n",
       "34   C1  0.68  661.50 NaN  178.60  3.47  4.40  0.00  0.00   6.77\n",
       "88   C2  0.64  776.16 NaN  242.55  3.85  1.80  0.10  1.10  15.41\n",
       "121  C3  0.73  617.40 NaN  218.30  3.47  2.43  0.09  2.00  10.46\n",
       "168  C1  0.67  754.60 NaN  242.55  3.47  1.98  0.11  2.43  10.39"
      ]
     },
     "execution_count": 166,
     "metadata": {},
     "output_type": "execute_result"
    }
   ],
   "source": [
    "nan_rows = df[df.isnull().any(axis=1)]       # inspect incomplete rows\n",
    "len(df)                                      # print original number of rows\n",
    "df['X3'].mean()\n",
    "nan_rows.head()"
   ]
  },
  {
   "cell_type": "code",
   "execution_count": 167,
   "id": "3214d82f",
   "metadata": {},
   "outputs": [
    {
     "name": "stdout",
     "output_type": "stream",
     "text": [
      "40\n"
     ]
    }
   ],
   "source": [
    "print(len(nan_rows))                         # there are 40 rows where X3 is Nan   \n",
    "df = df.fillna(df['X3'].mean())              # replace nan values with mean of X\n",
    "assert len(y)==len(X)                        # assert X and y are equal in length\n",
    "\n",
    "# One hot encode category x0\n",
    "cat_encoder = OneHotEncoder()\n",
    "x0_encoded = cat_encoder.fit_transform(df[['X0']])\n",
    "x0_encoded = pd.DataFrame( x0_encoded.toarray() )\n",
    "x0_encoded.columns = [c for c in cat_encoder.categories_[0]]\n",
    "df = pd.concat([df,x0_encoded],axis=1).drop(columns='X0') # add encoded columns\n",
    "\n",
    "scaler = StandardScaler()"
   ]
  },
  {
   "cell_type": "code",
   "execution_count": 168,
   "id": "6b2c7efb",
   "metadata": {},
   "outputs": [],
   "source": [
    "# Split for testing and training with 30% for training\n",
    "\n",
    "train_set, test_set = train_test_split(df, test_size=0.3, random_state=42)\n",
    "\n",
    "X_test = test_set.drop(columns='Y')                  # x test\n",
    "X_train = train_set.drop(columns='Y')                # x train\n",
    "y_test = test_set['Y']                               # y test\n",
    "y_train = train_set['Y']                             # y train\n",
    "\n",
    "X_train_scaled = scaler.fit_transform(X_train.astype(np.float64)) # standard scalar\n",
    "X_test_scaled = scaler.fit_transform(X_test.astype(np.float64))   # standard scalar"
   ]
  },
  {
   "cell_type": "code",
   "execution_count": 142,
   "id": "bb502396",
   "metadata": {},
   "outputs": [
    {
     "data": {
      "text/plain": [
       "19.168867856810746"
      ]
     },
     "execution_count": 142,
     "metadata": {},
     "output_type": "execute_result"
    },
    {
     "data": {
      "image/png": "[encoded data removed]",
      "text/plain": [
       "<Figure size 432x288 with 1 Axes>"
      ]
     },
     "metadata": {
      "needs_background": "light"
     },
     "output_type": "display_data"
    }
   ],
   "source": [
    "# Training and ridge regression model\n",
    "# Predicting values\n",
    "# Calculating mean squared error\n",
    "\n",
    "ridge_reg = Ridge(alpha=1, solver=\"cholesky\", random_state=42)\n",
    "ridge_reg.fit(X_train, y_train)\n",
    "y_ridge_pred = ridge_reg.predict(X_test)\n",
    "ridge_mse = mean_squared_error(y_test, y_ridge_pred)\n",
    "\n",
    "plt.plot(y_test, y_ridge_pred, 'r.')\n",
    "\n",
    "ridge_mse"
   ]
  },
  {
   "cell_type": "code",
   "execution_count": 157,
   "id": "4e81d7d3",
   "metadata": {},
   "outputs": [
    {
     "data": {
      "text/plain": [
       "74.61260997572677"
      ]
     },
     "execution_count": 157,
     "metadata": {},
     "output_type": "execute_result"
    },
    {
     "data": {
      "image/png": "[encoded data removed]",
      "text/plain": [
       "<Figure size 432x288 with 1 Axes>"
      ]
     },
     "metadata": {
      "needs_background": "light"
     },
     "output_type": "display_data"
    }
   ],
   "source": [
    "# Training and SGD model\n",
    "# Predicting values\n",
    "# Calculating mean squared error\n",
    "\n",
    "sgd_reg = SGDRegressor(penalty=\"l2\", alpha=10, random_state=42)\n",
    "sgd_reg.fit(X_train_scaled, y_train.ravel())\n",
    "y_sgd_pred = sgd_reg.predict(X_test_scaled)\n",
    "sgd_mse = mean_squared_error(y_test, y_sgd_pred)\n",
    "\n",
    "plt.plot(y_test, y_sgd_pred, 'b.')\n",
    "\n",
    "sgd_mse"
   ]
  },
  {
   "cell_type": "code",
   "execution_count": 158,
   "id": "c0a35ef5",
   "metadata": {},
   "outputs": [
    {
     "data": {
      "text/plain": [
       "19.97700888709938"
      ]
     },
     "execution_count": 158,
     "metadata": {},
     "output_type": "execute_result"
    },
    {
     "data": {
      "image/png": "[encoded data removed]",
      "text/plain": [
       "<Figure size 432x288 with 1 Axes>"
      ]
     },
     "metadata": {
      "needs_background": "light"
     },
     "output_type": "display_data"
    }
   ],
   "source": [
    "# Training Lasso model\n",
    "# Predicting values\n",
    "# Calculating mean squared error\n",
    "\n",
    "from sklearn.linear_model import Lasso\n",
    "lasso_reg = Lasso(alpha=0.1)\n",
    "lasso_reg.fit(X_train_scaled, y_train)\n",
    "y_lasso_pred = lasso_reg.predict(X_test_scaled)\n",
    "lasso_mse = mean_squared_error(y_test, y_lasso_pred)\n",
    "\n",
    "plt.plot(y_test, y_lasso_pred, 'g.')\n",
    "\n",
    "lasso_mse"
   ]
  },
  {
   "cell_type": "code",
   "execution_count": 128,
   "id": "3fec64db",
   "metadata": {},
   "outputs": [
    {
     "data": {
      "text/plain": [
       "23.19037184421654"
      ]
     },
     "execution_count": 128,
     "metadata": {},
     "output_type": "execute_result"
    },
    {
     "data": {
      "image/png": "[encoded data removed]",
      "text/plain": [
       "<Figure size 432x288 with 1 Axes>"
      ]
     },
     "metadata": {
      "needs_background": "light"
     },
     "output_type": "display_data"
    }
   ],
   "source": [
    "# Elastic net\n",
    "\n",
    "elastic_net = ElasticNet(alpha=0.1, l1_ratio=0.5, random_state=42)\n",
    "elastic_net.fit(X_train, y_train)\n",
    "y_elastic_pred = elastic_net.predict(X_test)\n",
    "elastic_mse = mean_squared_error(y_test, y_elastic_pred)\n",
    "\n",
    "plt.plot(y_test, y_elastic_pred, 'b.')\n",
    "\n",
    "elastic_mse"
   ]
  },
  {
   "cell_type": "code",
   "execution_count": 159,
   "id": "548e3aff",
   "metadata": {},
   "outputs": [
    {
     "data": {
      "text/plain": [
       "20.361416374017896"
      ]
     },
     "execution_count": 159,
     "metadata": {},
     "output_type": "execute_result"
    },
    {
     "data": {
      "image/png": "[encoded data removed]",
      "text/plain": [
       "<Figure size 432x288 with 1 Axes>"
      ]
     },
     "metadata": {
      "needs_background": "light"
     },
     "output_type": "display_data"
    }
   ],
   "source": [
    "# Elastic net can also be computed iteratively with Stochastic gradient descent\n",
    "# as seen for Ridge and Lasso above. In this case we use both L1 and L2 penalties \n",
    "# as discussed in lecture, which is set by  the parameter penalty=\"elasticnet\" in the command below. \n",
    "# In additon we specify the strengh of rgularisation alpha=0.1, and \n",
    "# the l1_ratio=0.5 (hyperparametr r in the lecture slides)\n",
    "# that controls the mixture of Lasso and Ridge as explained in the lecture.\n",
    "# l1_ratio=0.5 means we have 50% of Lasso and remaining 50% of Ridge. \n",
    "\n",
    "sgd_reg = SGDRegressor(penalty=\"elasticnet\", alpha=0.1, l1_ratio=0.5, random_state=42)\n",
    "sgd_reg.fit(X_train_scaled, y_train.ravel())\n",
    "y_sgd_elastic_pred = sgd_reg.predict(X_test_scaled)\n",
    "sgd_elastic_mse = mean_squared_error(y_test, y_sgd_elastic_pred)\n",
    "\n",
    "plt.plot(y_test, y_sgd_elastic_pred, 'r.')\n",
    "\n",
    "sgd_elastic_mse\n",
    "\n"
   ]
  },
  {
   "cell_type": "code",
   "execution_count": 161,
   "id": "0da85c50",
   "metadata": {},
   "outputs": [
    {
     "data": {
      "text/plain": [
       "19.923713292068467"
      ]
     },
     "execution_count": 161,
     "metadata": {},
     "output_type": "execute_result"
    },
    {
     "data": {
      "image/png": "[encoded data removed]",
      "text/plain": [
       "<Figure size 432x288 with 1 Axes>"
      ]
     },
     "metadata": {
      "needs_background": "light"
     },
     "output_type": "display_data"
    }
   ],
   "source": [
    "sgd_reg = SGDRegressor(penalty=\"l1\", alpha=0.1, \n",
    "                       max_iter=1000, early_stopping=True, validation_fraction=0.3, \n",
    "                       n_iter_no_change=5, tol=1e-3, random_state=42)\n",
    "\n",
    "sgd_reg.fit(X_train_scaled, y_train.ravel())\n",
    "y_sgd_max_iter_pred = sgd_reg.predict(X_test_scaled)\n",
    "sgd_max_iter_mse = mean_squared_error(y_test, y_sgd_max_iter_pred)\n",
    "\n",
    "\n",
    "plt.plot(y_test, y_sgd_max_iter_pred, 'g.')\n",
    "\n",
    "sgd_max_iter_mse"
   ]
  }
 ],
 "metadata": {
  "kernelspec": {
   "display_name": "Python 3 (ipykernel)",
   "language": "python",
   "name": "python3"
  },
  "language_info": {
   "codemirror_mode": {
    "name": "ipython",
    "version": 3
   },
   "file_extension": ".py",
   "mimetype": "text/x-python",
   "name": "python",
   "nbconvert_exporter": "python",
   "pygments_lexer": "ipython3",
   "version": "3.9.7"
  }
 },
 "nbformat": 4,
 "nbformat_minor": 5
}
